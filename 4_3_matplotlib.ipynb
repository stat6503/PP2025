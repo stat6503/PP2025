{
 "cells": [
  {
   "cell_type": "markdown",
   "id": "cc356807-03d2-4c22-af4f-1fd3157f69e7",
   "metadata": {},
   "source": [
    "# 4. 라이브러리\n",
    "## 4.3. MatplotLib 라이브러리\n",
    "### 4.2.1. 판다스 객체\n",
    "#### 4.2.1.1. 판다스 객체 소개\n",
    "+ Pandas\n",
    "  + NumPy를 기반으로 만들어진 데이터 분석용 라이브러리\n",
    "  + 레이블(label)로 식별되는 데이터를 쉽게 다룰 수 있도록 지원\n",
    "  + 고성능 데이터 조작, 탐색, 전처리, 변환, 요약, 통계 연산 기능 제공\n",
    "  + 주요 객체로는 Series(1차원), DataFrame(2차원), Index(레이블 관리 구조)가 있음\n",
    "\n",
    "<br>\n",
    "\n",
    "|객체|설명|\n",
    "|:---:|:------------|\n",
    "|Series|- 1차원 레이블이 붙은 배열로, 각 데이터에 고유한 인덱스가 있음 <br>- 모든 원소가 동일한 자료형으로 저장되며, 숫자, 문자열, bool 등 다양한 자료형을 지원|\n",
    "|DataFrame|- 2차원 표 형태의 데이터 구조로, 행(row)과 열(column)로 구성됨 <br>- 각 열은 Series로 구성되어 있으며, 각 열이 서로 다른 자료형을 가질 수 있음 <br>- DataFrame은 정렬(같은 인덱스를 공유)된 Series 객체의 연속으로 볼 수 있음|\n",
    "|Index|- 데이터에 레이블을 부여하는 객체로, 행 또는 열에 사용됨 <br>- 데이터 정렬, 선택, 결합 등을 효율적으로 할 수 있도록 지원|"
   ]
  },
  {
   "cell_type": "markdown",
   "id": "bfd73850-f893-4184-ab36-45e11e493590",
   "metadata": {},
   "source": [
    "### 4.2.5. 시계열 데이터 처리\n",
    "#### 4.2.5.1. 시계열 데이터(time series data)\n",
    "+ 동일한 데이터를 일정한 간격으로 반복적으로 수집한 데이터\n",
    "+ 날짜/시간 데이터\n",
    "  + 타임스탬프(time stampe) : 특정 시점\n",
    "  + 시간 간격과 기간(period) : 특정 시작점과 종료점 사이의 시간의 길이\n",
    "  + 시간 델타(time delta) :  정확한 시간 길이\n",
    "\n",
    "#### 4.2.5.2.날짜/시간 데이터 변환\n",
    "--> pd.to_datetime()\n",
    "\n",
    "#### 4.2.5.3. 시계열 인덱스와 기간 필터링\n",
    "\n",
    "#### 4.2.5.4. 리샘플링, 시프팅, 윈도잉 --> 이름 바꾸고 싶다\n",
    "--> 여기에 시각화 내용 들어가기!"
   ]
  }
 ],
 "metadata": {
  "kernelspec": {
   "display_name": "Python 3 (ipykernel)",
   "language": "python",
   "name": "python3"
  },
  "language_info": {
   "codemirror_mode": {
    "name": "ipython",
    "version": 3
   },
   "file_extension": ".py",
   "mimetype": "text/x-python",
   "name": "python",
   "nbconvert_exporter": "python",
   "pygments_lexer": "ipython3",
   "version": "3.9.21"
  }
 },
 "nbformat": 4,
 "nbformat_minor": 5
}
