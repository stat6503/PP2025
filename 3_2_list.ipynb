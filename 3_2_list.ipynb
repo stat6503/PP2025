{
 "cells": [
  {
   "cell_type": "markdown",
   "id": "63fb9bdc-b848-4fc5-920f-4a40d06c782d",
   "metadata": {},
   "source": [
    "# 3. 자료구조\n",
    "## 3.2. 리스트(list)\n",
    "### 3.2.1. 리스트 생성\n",
    "+ 생성하는 방법: 리터럴, 생성사, 리스트 컴프리헨션\n",
    "+ 가변형 객체이므로 수정 가능\n",
    "+ 컨테이너형 객체이므로 원소로 ...을 저장할 수 있음\n",
    "\n",
    "### 3.2.2. 리스트 연산\n",
    "+ 일반적인 산술연산 x\n",
    "+ 덧셈(+), 곱셈(*) 기능이 다름 --> 수학적으로 하려면 numpy의 array 이용해야 함\n",
    "\n",
    "\n",
    "### 3.2.2. 인덱싱과 슬라이싱\n",
    "+ 인덱싱은 string과 동인\n",
    "\n",
    "### 3.2.3. 중첩 리스트(nested list)\n",
    "### 3.2.4. 리스트 메소드\n",
    "+ 추가/삭제 append, insert, remove, pop\n",
    "+ 탐색 및 정렬 index, sort, reverse\n",
    "\n",
    "### 3.2.5. 리스트 컴프리헨션(list comprehension)"
   ]
  },
  {
   "cell_type": "markdown",
   "id": "e7462961-125c-4c1b-88b5-14fd7fe658c8",
   "metadata": {},
   "source": [
    "### 리스트: 순서가 있는 가변형 데이터\n",
    "2.1. 리스트의 특징 및 구조\n",
    "2.1.1. 리스트의 메모리 구조\n",
    "2.1.2. 리스트 vs 배열 차이\n",
    "\n",
    "2.2. 리스트의 주요 메소드 및 활용\n",
    "2.2.1. 추가/삭제 append, insert, remove, pop\n",
    "2.2.2. 탐색 및 정렬 index, sort, reverse\n",
    "2.2.3. 리스트 컴프리헨션(list comprehension)\n",
    "   \n",
    "2.3. 리스트의 시간 복잡도 분석(Big-O notation)"
   ]
  }
 ],
 "metadata": {
  "kernelspec": {
   "display_name": "Python 3 (ipykernel)",
   "language": "python",
   "name": "python3"
  },
  "language_info": {
   "codemirror_mode": {
    "name": "ipython",
    "version": 3
   },
   "file_extension": ".py",
   "mimetype": "text/x-python",
   "name": "python",
   "nbconvert_exporter": "python",
   "pygments_lexer": "ipython3",
   "version": "3.9.21"
  }
 },
 "nbformat": 4,
 "nbformat_minor": 5
}
