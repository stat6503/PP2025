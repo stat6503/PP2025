{
 "cells": [
  {
   "cell_type": "markdown",
   "id": "449e2a20-f40b-41f0-9e5c-f87f8b800380",
   "metadata": {},
   "source": [
    "# 3. 자료구조\n",
    "## 3.2. 리스트\n",
    "### 3.2.1. 리스트 생성\n",
    "+ 리스트(list)\n",
    "  + 여러 개의 값을 저장할 수 있는 시퀀스 자료형(sequence data type)\n",
    "  + 한 번 생성된 이후에도 수정할 수 있는 가변형(mutable) 객체\n",
    "  + 정수형, 부동소수점형, 문자열형, bool형 등 다양한 자료형을 저장할 수 있음\n",
    "\n",
    "<br>\n",
    "\n",
    "+ 리스트 생성\n",
    "  + 리터럴 방식(list literal)\n",
    "    + `[]` 사용하여 리스트를 직접 정의하는 방법\n",
    "    + `[]` 안에 요소(element)를 `,`로 구분하여 나열함\n",
    "  + 생성자 방식(list constructor)\n",
    "    + `list()` 함수를 사용하여 리스트를 생성하는 방법\n",
    "    + 다른 iterable 객체(리스트, 튜플, 세트, 딕셔너리, 문자열 등)을 인자로 받아 리스트를 생성할 때 유용함\n"
   ]
  },
  {
   "cell_type": "code",
   "execution_count": 47,
   "id": "7551f88f-8631-4ec5-8a23-dace709d9e1b",
   "metadata": {},
   "outputs": [
    {
     "name": "stdout",
     "output_type": "stream",
     "text": [
      "[1, 2, 3, 4, 5]\n"
     ]
    }
   ],
   "source": [
    "# 리스트 생성1\n",
    "lst = [1, 2, 3, 4, 5]\n",
    "print(lst)"
   ]
  },
  {
   "cell_type": "code",
   "execution_count": 63,
   "id": "548fac27-8fa3-4121-a4ba-4099ea0a1f81",
   "metadata": {},
   "outputs": [
    {
     "name": "stdout",
     "output_type": "stream",
     "text": [
      "[1, 2, 3, 4, 5]\n"
     ]
    }
   ],
   "source": [
    "# 리스트 생성2\n",
    "lst = list([1, 2, 3, 4, 5])\n",
    "print(lst)"
   ]
  },
  {
   "cell_type": "code",
   "execution_count": 68,
   "id": "95b4f7a0-bf60-4d52-843b-15a896769484",
   "metadata": {},
   "outputs": [
    {
     "name": "stdout",
     "output_type": "stream",
     "text": [
      "[1, 3.14, 'Hello', True, [11, 12, 13]]\n"
     ]
    }
   ],
   "source": [
    "# 리스트 생성3 : 리스트는 다양한 자료형을 저장할 수 있음\n",
    "lst = [1, 3.14, \"Hello\", True, [11, 12, 13]]\n",
    "print(lst)"
   ]
  },
  {
   "cell_type": "code",
   "execution_count": 64,
   "id": "3fe86f08-5953-4c26-997b-99ddedae5157",
   "metadata": {},
   "outputs": [
    {
     "name": "stdout",
     "output_type": "stream",
     "text": [
      "['H', 'e', 'l', 'l', 'o']\n"
     ]
    }
   ],
   "source": [
    "# 리스트 생성4 : iterable 객체 사용\n",
    "lst = list(\"Hello\")\n",
    "print(lst)"
   ]
  },
  {
   "cell_type": "code",
   "execution_count": 65,
   "id": "8da92eb7-a301-4b79-af0e-cb714378e4a9",
   "metadata": {},
   "outputs": [
    {
     "name": "stdout",
     "output_type": "stream",
     "text": [
      "[0, 1, 2, 3, 4, 5, 6, 7, 8, 9]\n"
     ]
    }
   ],
   "source": [
    "# 리스트 생성5 : iterable 객체 사용\n",
    "lst = list(range(10))\n",
    "print(lst)"
   ]
  },
  {
   "cell_type": "markdown",
   "id": "0ff84121-4bb7-4c6a-81e5-7c22450786a7",
   "metadata": {},
   "source": [
    "### 3.2.2. 리스트 연산\n",
    "+ 문자열 연산과 동일함\n",
    "+ 리스트 연결 연산자 `+` : 두 리스트를 연결해서 새로운 리스트 생성\n",
    "+ 리스트 반복 연산자 `*` : 리스트를 숫자만큼 반복하여 새로운 리스트 생성 - (예) 리스트\\*숫자"
   ]
  },
  {
   "cell_type": "code",
   "execution_count": 61,
   "id": "5f83b94d-109e-418e-ac1c-16609b109bde",
   "metadata": {},
   "outputs": [
    {
     "name": "stdout",
     "output_type": "stream",
     "text": [
      "[1, 2, 3, 11, 12, 13]\n"
     ]
    }
   ],
   "source": [
    "# 리스트 연결\n",
    "lst1 = [1, 2, 3]\n",
    "lst2 = [11, 12, 13]\n",
    "print(lst1 + lst2)"
   ]
  },
  {
   "cell_type": "code",
   "execution_count": 62,
   "id": "19ddf6f8-aaac-4b54-99e5-2852d1afa260",
   "metadata": {},
   "outputs": [
    {
     "name": "stdout",
     "output_type": "stream",
     "text": [
      "[1, 2, 3, 1, 2, 3, 1, 2, 3]\n"
     ]
    }
   ],
   "source": [
    "# 리스트 반복\n",
    "print(lst1 * 3)"
   ]
  },
  {
   "cell_type": "markdown",
   "id": "8d44b91d-38a4-46b3-af49-74050a9fdbdb",
   "metadata": {},
   "source": [
    "### 3.2.3. 리스트 인덱싱과 슬라이싱\n",
    "+ 문자열과 유사한 방식임\n",
    "+ 인덱싱(indexing) : `[index]`를 사용하여 리스트의 특정 위치에 있는 원소에 접근함\n",
    "+ 슬라이싱(slicing) : `[(start index):(stop index)]`를 사용하여 리스트의 일부 원소를 추출함\n",
    "  + `list[(start index):(end index)] = iterable`를 사용하면 `start:end`로 지정한 부분이 iterable 객체의 모든 요소로 대체됨\n",
    "  + 슬라이싱을 이용하여 기존 리스트의 일부를 삭제하거나, 새로운 요소를 추가 및 변경할 수 있음\n",
    "\n",
    "<br>\n",
    "\n",
    "![](./images/fig3-1.png){width=60%}"
   ]
  },
  {
   "cell_type": "code",
   "execution_count": 80,
   "id": "bbf84e18-368a-46e2-b4cc-ce36ef586cd1",
   "metadata": {},
   "outputs": [
    {
     "name": "stdout",
     "output_type": "stream",
     "text": [
      "10\n"
     ]
    }
   ],
   "source": [
    "# 리스트 인덱싱1\n",
    "lst = [10, 20, 30, 40, 50]\n",
    "print(lst[0])"
   ]
  },
  {
   "cell_type": "code",
   "execution_count": 71,
   "id": "fffd59d4-dd7f-4269-9b67-0951f33d8d4b",
   "metadata": {},
   "outputs": [
    {
     "name": "stdout",
     "output_type": "stream",
     "text": [
      "50\n"
     ]
    }
   ],
   "source": [
    "# 리스트 인덱싱2\n",
    "lst = [10, 20, 30, 40, 50]\n",
    "print(lst[-1])"
   ]
  },
  {
   "cell_type": "code",
   "execution_count": 79,
   "id": "a6e4a47a-5302-42c8-9fcf-c456aa9a18ca",
   "metadata": {},
   "outputs": [
    {
     "name": "stdout",
     "output_type": "stream",
     "text": [
      "Hello\n",
      "H\n"
     ]
    }
   ],
   "source": [
    "# 리스트 접근 연산자 []를 이중으로 사용할 수 있음\n",
    "lst = [1, 3.14, \"Hello\", True, [11, 12, 13]]\n",
    "print(lst[2])\n",
    "print(lst[2][0])"
   ]
  },
  {
   "cell_type": "code",
   "execution_count": 173,
   "id": "6e6f8584-6b78-4343-934c-e5c8e84093a7",
   "metadata": {},
   "outputs": [
    {
     "name": "stdout",
     "output_type": "stream",
     "text": [
      "[10, 20, 3, 40, 50]\n"
     ]
    }
   ],
   "source": [
    "# 리스트는 가변형 객체이므로 인덱스를 이용한 수정이 가능함\n",
    "lst = [10, 20, 30, 40, 50]\n",
    "lst[2] = 3\n",
    "print(lst)"
   ]
  },
  {
   "cell_type": "code",
   "execution_count": 73,
   "id": "c0d6fd6f-6f87-4c1d-ba97-5d525820ece1",
   "metadata": {},
   "outputs": [
    {
     "name": "stdout",
     "output_type": "stream",
     "text": [
      "[10, 20]\n"
     ]
    }
   ],
   "source": [
    "# 리스트 슬라이싱1\n",
    "lst = [10, 20, 30, 40, 50]\n",
    "print(lst[0:2])"
   ]
  },
  {
   "cell_type": "code",
   "execution_count": 75,
   "id": "30c6c6e6-543f-4bc1-9842-f183839ae517",
   "metadata": {},
   "outputs": [
    {
     "name": "stdout",
     "output_type": "stream",
     "text": [
      "[10, 20]\n",
      "[30, 40, 50]\n",
      "[10, 30, 50]\n"
     ]
    }
   ],
   "source": [
    "# 리스트 슬라이싱2\n",
    "lst = [10, 20, 30, 40, 50]\n",
    "print(lst[:2])\n",
    "print(lst[2:])\n",
    "print(lst[::2])"
   ]
  },
  {
   "cell_type": "code",
   "execution_count": 175,
   "id": "a0ad8770-7ff2-4a9e-80db-09817deb1c65",
   "metadata": {},
   "outputs": [
    {
     "name": "stdout",
     "output_type": "stream",
     "text": [
      "[10, 50]\n"
     ]
    }
   ],
   "source": [
    "# 슬라이싱을 이용한 요소 삭제\n",
    "lst = [10, 20, 30, 40, 50]\n",
    "lst[1:4] = []                              # 빈 리스트를 할당하면 해당 부분이 삭제됨\n",
    "print(lst)"
   ]
  },
  {
   "cell_type": "code",
   "execution_count": 184,
   "id": "93ea5523-c623-49f7-9aeb-0258427a4210",
   "metadata": {},
   "outputs": [
    {
     "name": "stdout",
     "output_type": "stream",
     "text": [
      "[10, 6, 7, 20, 30, 40, 50]\n"
     ]
    }
   ],
   "source": [
    "# 슬라이싱을 이용한 요소 추가\n",
    "lst = [10, 20, 30, 40, 50]\n",
    "lst[1:1] = [6, 7]                          # 인덱스 1 위치에 [6, 7]의 요소를 개별적으로 추가\n",
    "print(lst)"
   ]
  },
  {
   "cell_type": "code",
   "execution_count": 183,
   "id": "5a2c0369-02df-43f7-b277-eff90a7cc6b0",
   "metadata": {},
   "outputs": [
    {
     "name": "stdout",
     "output_type": "stream",
     "text": [
      "[10, 6, 7, 8, 40, 50]\n"
     ]
    }
   ],
   "source": [
    "# 슬라이싱을 이용한 요소 수정\n",
    "lst = [10, 20, 30, 40, 50]\n",
    "lst[1:3] = [6, 7, 8]                       # 인덱스 1~2 부분을 [6, 7, 8]로 수정\n",
    "print(lst)"
   ]
  },
  {
   "cell_type": "markdown",
   "id": "8ce25315-d4f5-4713-bfd9-fa0b009c07f2",
   "metadata": {},
   "source": [
    "### 3.2.4. 중첩 리스트(nested list)\n",
    "+ 리스트 안에 또 다른 리스트가 포함된 구조\n",
    "+ 2차원 리스트\n",
    "  + 모든 내부 리스트가 동일한 길이를 가진 경우\n",
    "  + 일반적으로 행(row)과 열(column)로 이루어짐\n",
    "  + 행렬(matrix)처럼 활용하거나, 데이터를 일정한 구조로 관리할 때 유용함"
   ]
  },
  {
   "cell_type": "code",
   "execution_count": 81,
   "id": "9eb34eec-3a24-432e-8d73-8fb97c121275",
   "metadata": {},
   "outputs": [
    {
     "name": "stdout",
     "output_type": "stream",
     "text": [
      "[[1, 2, 3], [4, 5, 6, 7], [8, 9]]\n"
     ]
    }
   ],
   "source": [
    "# 중첩 리스트\n",
    "nested_lst = [\n",
    "    [1, 2, 3],\n",
    "    [4, 5, 6, 7],\n",
    "    [8, 9]\n",
    "]\n",
    "\n",
    "print(nested_lst)"
   ]
  },
  {
   "cell_type": "code",
   "execution_count": 87,
   "id": "a50e3ee4-6cd5-4d5c-936f-cc1ef620f728",
   "metadata": {},
   "outputs": [
    {
     "name": "stdout",
     "output_type": "stream",
     "text": [
      "1\n",
      "2\n",
      "3\n",
      "4\n",
      "5\n",
      "6\n",
      "7\n",
      "8\n",
      "9\n"
     ]
    }
   ],
   "source": [
    "for items in nested_lst:\n",
    "    for item in items:\n",
    "        print(item)"
   ]
  },
  {
   "cell_type": "code",
   "execution_count": 92,
   "id": "4fa9f3b6-3f13-4b41-9d91-529f615179ba",
   "metadata": {},
   "outputs": [
    {
     "name": "stdout",
     "output_type": "stream",
     "text": [
      "[[80, 82, 75, 95], [67, 95, 84, 83], [74, 88, 82, 76]]\n"
     ]
    }
   ],
   "source": [
    "# 2차원 리스트\n",
    "kor = [80, 82, 75, 95]\n",
    "eng = [67, 95, 84, 83]\n",
    "math = [74, 88, 82, 76]\n",
    "midterm = [kor, eng, math]\n",
    "print(midterm)"
   ]
  },
  {
   "cell_type": "markdown",
   "id": "63fb9bdc-b848-4fc5-920f-4a40d06c782d",
   "metadata": {},
   "source": [
    "### 3.2.5. 리스트 메소드\n",
    "#### 3.2.5.1. 리스트 추가\n",
    "\n",
    "|함수|설명|\n",
    "|:---:|:------------|\n",
    "|append()|- 새로운 값을 기존 리스트의 맨 끝에 추가|\n",
    "|extend()|- 새로운 리스트를 기존 리스트에 추가(덧셈 연산과 같은 효과)|\n",
    "|insert()|- 기존 리스트의 i번째 인덱스에 새로운 값을 추가 <br>- i번째 인덱스를 기준으로 뒤쪽의 인덱스는 하나씩 밀림|"
   ]
  },
  {
   "cell_type": "code",
   "execution_count": 101,
   "id": "7cf8815f-94e0-4b13-bab2-1308e12357ba",
   "metadata": {},
   "outputs": [
    {
     "name": "stdout",
     "output_type": "stream",
     "text": [
      "[1, 2, 3, 4]\n"
     ]
    }
   ],
   "source": [
    "# 리스트에 한 개의 요소 추가\n",
    "lst = [1, 2, 3]\n",
    "lst.append(4)                              # 실행 결과로 아무것도 출력하지 않음\n",
    "print(lst)                                 # lst 원본 값이 변함"
   ]
  },
  {
   "cell_type": "code",
   "execution_count": 169,
   "id": "ee183b6a-9608-4b71-bc3d-8b29414dc384",
   "metadata": {},
   "outputs": [],
   "source": [
    "# append() 함수는 여러 개의 인자를 입력하거나, 연속으로 사용할 수 없음\n",
    "lst = [1, 2, 3]\n",
    "#lst.append(4,5)\n",
    "#lst.append(4).append(5)"
   ]
  },
  {
   "cell_type": "code",
   "execution_count": 114,
   "id": "1cc7b9ba-a59f-4a57-8141-807b977f7a69",
   "metadata": {},
   "outputs": [
    {
     "name": "stdout",
     "output_type": "stream",
     "text": [
      "[1, 2, 3, 11, 12]\n"
     ]
    }
   ],
   "source": [
    "# 리스트에 여러 개의 요소 추가\n",
    "lst = [1, 2, 3]\n",
    "lst.extend([11, 12])                       # 실행 결과로 아무것도 출력하지 않음\n",
    "print(lst)                                 # lst1 원본 값이 변함"
   ]
  },
  {
   "cell_type": "code",
   "execution_count": 160,
   "id": "61d27225-4514-49f1-a8e0-52791e5dc133",
   "metadata": {},
   "outputs": [
    {
     "name": "stdout",
     "output_type": "stream",
     "text": [
      "[1, 2, 3]\n",
      "[11, 12, 13]\n"
     ]
    }
   ],
   "source": [
    "# extend() 함수와 리스트 연결 연산자 +의 차이\n",
    "lst1 = [1, 2, 3]\n",
    "lst2 = [11, 12, 13]\n",
    "lst1 + lst2                                # 실행 결과가 출력됨\n",
    "print(lst1)                                # lst1 원본 값이 변하지 않음\n",
    "print(lst2)                                # lst2 원본 값이 변하지 않음"
   ]
  },
  {
   "cell_type": "code",
   "execution_count": 156,
   "id": "ff389416-eca5-471f-b8db-65076f568e53",
   "metadata": {},
   "outputs": [
    {
     "name": "stdout",
     "output_type": "stream",
     "text": [
      "[100, 1, 2, 3]\n"
     ]
    }
   ],
   "source": [
    "# 특정 위치에 한 개의 요소 추가\n",
    "lst = [1, 2, 3]\n",
    "lst.insert(0, 100)                         # 실행 결과로 아무것도 출력하지 않음\n",
    "print(lst)                                 # lst 원본 값이 변함"
   ]
  },
  {
   "cell_type": "code",
   "execution_count": 143,
   "id": "ef307c81-7721-4b31-b225-06b5cd076e58",
   "metadata": {},
   "outputs": [
    {
     "name": "stdout",
     "output_type": "stream",
     "text": [
      "[1, 11, 12, 2, 3]\n"
     ]
    }
   ],
   "source": [
    "# 특정 위치에 여러 개의 요소 추가 : 슬라이싱을 이용\n",
    "lst = [1, 2, 3]\n",
    "lst[1:1] = [11, 12]                        # 인덱스 1의 위치에 리스트 [11, 12]의 요소를 개별적으로 삽입\n",
    "print(lst)                                 # lst 원본 값이 변함"
   ]
  },
  {
   "cell_type": "markdown",
   "id": "d4dfa41c-3630-429b-9be7-fde1ba133761",
   "metadata": {},
   "source": [
    "#### 3.2.5.2. 리스트 삭제\n",
    "\n",
    "|함수|설명|\n",
    "|:---:|:------------|\n",
    "|pop()|- 특정 인덱스 값을 삭제하고 그 값을 반환 <br>- 인덱스를 생략하면 마지막 요소를 삭제|\n",
    "|del 키워드|- 특정 인덱스 값을 삭제 <br>- 리스트 객체 자체를 삭제 가능함|\n",
    "|remove()|- 리스트에서 첫 번째로 일치하는 값을 삭제 <br>- 값으로 삭제하므로 인덱스를 사용하지 않음|\n",
    "|clear()|- 리스트의 모든 요소를 삭제|"
   ]
  },
  {
   "cell_type": "code",
   "execution_count": 142,
   "id": "e28b6179-e40a-4d19-a87c-c0ae1bab2feb",
   "metadata": {},
   "outputs": [
    {
     "name": "stdout",
     "output_type": "stream",
     "text": [
      "[1, 2, 3, 5]\n",
      "4\n"
     ]
    }
   ],
   "source": [
    "# 특정 인덱스 값 삭제1\n",
    "lst = [1, 2, 3, 4, 5]\n",
    "result = lst.pop(3)                        # 실행 결과로 삭제한 값을 반환\n",
    "print(lst)                                 # lst 원본 값이 변함\n",
    "print(result)"
   ]
  },
  {
   "cell_type": "code",
   "execution_count": 185,
   "id": "86222e69-3a7d-42ab-9a8f-24b97500f38a",
   "metadata": {},
   "outputs": [
    {
     "name": "stdout",
     "output_type": "stream",
     "text": [
      "[1, 2, 3, 4]\n",
      "5\n"
     ]
    }
   ],
   "source": [
    "# 특정 인덱스 값 삭제2\n",
    "lst = [1, 2, 3, 4, 5]\n",
    "result = lst.pop()                         # 인덱스를 생략하면 마지막 요소를 삭제 후 반환\n",
    "print(lst)                                 # lst 원본 값이 변함\n",
    "print(result)"
   ]
  },
  {
   "cell_type": "code",
   "execution_count": 134,
   "id": "936cdfd5-3a61-4434-8273-ea6061e5a474",
   "metadata": {},
   "outputs": [
    {
     "name": "stdout",
     "output_type": "stream",
     "text": [
      "[1, 2, 3, 5]\n"
     ]
    }
   ],
   "source": [
    "# 특정 인덱스 값 삭제3\n",
    "lst = [1, 2, 3, 4, 5]\n",
    "del lst[3]                                 # 실행 결과로 아무것도 반환하지 않음\n",
    "print(lst)                                 # lst 원본 값이 변함"
   ]
  },
  {
   "cell_type": "code",
   "execution_count": 137,
   "id": "2b7c57fb-da4d-4c55-a68c-b71e0243e0b4",
   "metadata": {},
   "outputs": [],
   "source": [
    "# 리스트 객체 삭제\n",
    "lst = [1, 2, 3, 4, 5]\n",
    "del lst\n",
    "#print(lst)"
   ]
  },
  {
   "cell_type": "code",
   "execution_count": 189,
   "id": "943b00ce-adab-470c-979c-b340c645b72f",
   "metadata": {},
   "outputs": [
    {
     "name": "stdout",
     "output_type": "stream",
     "text": [
      "[1, 2, 3, 5]\n"
     ]
    }
   ],
   "source": [
    "# 일치하는 값 삭제1\n",
    "lst = [1, 2, 3, 4, 5]\n",
    "lst.remove(4)                              # 실행 결과로 아무것도 출력하지 않음\n",
    "print(lst)                                 # lst 원본 값이 변함"
   ]
  },
  {
   "cell_type": "code",
   "execution_count": 190,
   "id": "2afdffaa-446d-4154-af7c-c97258bc7521",
   "metadata": {},
   "outputs": [
    {
     "name": "stdout",
     "output_type": "stream",
     "text": [
      "[2, 3, 1, 4, 5, 1, 6, 7]\n"
     ]
    }
   ],
   "source": [
    "# 일치하는 값 삭제2\n",
    "lst = [1, 2, 3, 1, 4, 5, 1, 6, 7]\n",
    "lst.remove(1)                              # 첫 번째로 일치하는 값만 삭제됨\n",
    "print(lst)                                 # lst 원본 값이 변함"
   ]
  },
  {
   "cell_type": "code",
   "execution_count": 141,
   "id": "01473602-bc6a-4901-af84-a05b3bf0610a",
   "metadata": {},
   "outputs": [
    {
     "name": "stdout",
     "output_type": "stream",
     "text": [
      "[]\n"
     ]
    }
   ],
   "source": [
    "# 리스트 모든 요소 삭제\n",
    "lst = [1, 2, 3, 4, 5]\n",
    "lst.clear()                                # 실행 결과로 아무것도 출력하지 않음\n",
    "print(lst)                                 # lst 원본 값이 변함"
   ]
  },
  {
   "cell_type": "markdown",
   "id": "15e265dc-b734-4384-888f-efa6b4b891de",
   "metadata": {},
   "source": [
    "#### 3.2.5.3. 리스트 재배열\n",
    "\n",
    "|함수|설명|\n",
    "|:---:|:------------|\n",
    "|reverse()|- 리스트 요소를 역순으로 재배열|\n",
    "|sort()|- 리스트 요소를 오름차순(default)으로 정렬 <br>- 내림차순으로 정렬하려면 reverse=True로 설정|"
   ]
  },
  {
   "cell_type": "code",
   "execution_count": 191,
   "id": "cd60063d-80ab-409e-9025-b0c69473c5c4",
   "metadata": {},
   "outputs": [
    {
     "name": "stdout",
     "output_type": "stream",
     "text": [
      "[7, 1, 275, 32, 103, 273, 52]\n"
     ]
    }
   ],
   "source": [
    "# 리스트 역순\n",
    "lst = [52, 273, 103, 32, 275, 1, 7]\n",
    "lst.reverse()                              # 실행 결과로 아무것도 출력하지 않음\n",
    "print(lst)                                 # lst 원본 값이 변함"
   ]
  },
  {
   "cell_type": "code",
   "execution_count": 195,
   "id": "e4915bca-c18f-4c54-9b7c-384b98a3c35c",
   "metadata": {},
   "outputs": [
    {
     "name": "stdout",
     "output_type": "stream",
     "text": [
      "[1, 7, 32, 52, 103, 273, 275]\n",
      "[275, 273, 103, 52, 32, 7, 1]\n"
     ]
    }
   ],
   "source": [
    "# 리스트 정렬\n",
    "lst = [52, 273, 103, 32, 275, 1, 7]\n",
    "lst.sort()                                 # 실행 결과로 아무것도 출력하지 않음, 오름차순 정렬\n",
    "print(lst)                                 # lst 원본 값이 변함\n",
    "\n",
    "lst.sort(reverse=True)                     # 내림차순 정렬\n",
    "print(lst)                                 # lst 원본 값이 변함"
   ]
  },
  {
   "cell_type": "markdown",
   "id": "3f239906-3189-44ce-be3a-87d18d16a289",
   "metadata": {},
   "source": [
    "#### 3.2.5.4. 리스트 검색\n",
    "\n",
    "|함수|설명|\n",
    "|:---:|:------------|\n",
    "|count()|리스트 내부에 특정 값이 몇 번 나타나는지 개수를 반환|\n",
    "|index()|리스트 내부에 특정 값의 첫 번째 인덱스를 반환하며, 없으면 오류 발생|\n",
    "|in 연산자|리스트 내부에 특정 값이 있다면 True, 없다면 False를 반환|"
   ]
  },
  {
   "cell_type": "code",
   "execution_count": 198,
   "id": "f82e5b61-484d-49d2-8c73-f72c9461f871",
   "metadata": {},
   "outputs": [
    {
     "name": "stdout",
     "output_type": "stream",
     "text": [
      "3\n",
      "0\n"
     ]
    }
   ],
   "source": [
    "# 특정 값 개수\n",
    "lst = [1, 2, 3, 1, 4, 5, 1, 6, 7]\n",
    "print(lst.count(1))\n",
    "print(lst.count(9))"
   ]
  },
  {
   "cell_type": "code",
   "execution_count": 200,
   "id": "fd0e02e8-530a-4682-98ed-0e9a92033493",
   "metadata": {},
   "outputs": [
    {
     "name": "stdout",
     "output_type": "stream",
     "text": [
      "0\n"
     ]
    }
   ],
   "source": [
    "# 특정 값의 첫 번쩨 인덱스\n",
    "lst = [1, 2, 3, 1, 4, 5, 1, 6, 7]\n",
    "print(lst.index(1))\n",
    "#print(lst.index(9))"
   ]
  },
  {
   "cell_type": "code",
   "execution_count": 201,
   "id": "6bc5998a-e2e9-4d00-83ad-ec68902b72cb",
   "metadata": {},
   "outputs": [
    {
     "name": "stdout",
     "output_type": "stream",
     "text": [
      "True\n",
      "False\n"
     ]
    }
   ],
   "source": [
    "# 특정값 찾기\n",
    "lst = [1, 2, 3, 4, 5]\n",
    "print(3 in lst)\n",
    "print(6 in lst)"
   ]
  },
  {
   "cell_type": "markdown",
   "id": "2f543974-e65f-452f-b0fc-e8deaa4a9d00",
   "metadata": {},
   "source": [
    "#### 3.2.5.5. 리스트 통계\n",
    "\n",
    "|함수|설명|\n",
    "|:---:|:------------|\n",
    "|len()|리스트 요소의 개수(리스트 길이) 반환|\n",
    "|sum()|리스트 요소의 합계 반환|\n",
    "|max()|리스트 요소 중 최대값 반환|\n",
    "|min()|리스트 요소 중 최소값 반환|"
   ]
  },
  {
   "cell_type": "code",
   "execution_count": 205,
   "id": "ae025ef8-ee4f-4f78-bbd1-7c5c712c31b4",
   "metadata": {},
   "outputs": [
    {
     "name": "stdout",
     "output_type": "stream",
     "text": [
      "5\n",
      "15\n",
      "5\n",
      "1\n"
     ]
    }
   ],
   "source": [
    "lst = [1, 2, 3, 4, 5]\n",
    "print(len(lst))\n",
    "print(sum(lst))\n",
    "print(max(lst))\n",
    "print(min(lst))"
   ]
  },
  {
   "cell_type": "markdown",
   "id": "4f0e6e2c-06bb-402b-874f-651c9baa6722",
   "metadata": {},
   "source": [
    "### 3.2.6. 리스트 컴프리헨션(list comprehension)\n",
    "\n",
    "> [식 for 변수 in 반복범위 if 조건식]\n",
    "\n",
    "\n",
    "+ 기존 리스트를 사용하여 간결하게 새로운 리스트를 생성하는 기법\n",
    "+ 리스트와 for 문을 한 줄에 사용할 수 있어 코드가 더 직관적으로 작성됨\n",
    "+ 필터링, 중첩 반복문, 이차원 리스트 등 다양한 방식으로 활용됨\n",
    "\n",
    "<br>\n",
    "\n",
    "+ 리스트 컴프리헨션은 수학에서 집합을 정의할 때 **특정 조건을 만족하는 원소들의 집합**으로 표현하는 방법과 유사함\n",
    "  + 수학적 집합 :  $ S = \\{x  |  x$ 는  0 이상 10 이하의 정수$\\} $\n",
    "  + 리스트 컴프리헨션 :  `[x for x in range(10)]`"
   ]
  },
  {
   "cell_type": "code",
   "execution_count": 7,
   "id": "ffc0e27e-e0c2-4ba1-9581-e1f5e1135afb",
   "metadata": {},
   "outputs": [
    {
     "name": "stdout",
     "output_type": "stream",
     "text": [
      "[0, 1, 2, 3, 4, 5, 6, 7, 8, 9]\n"
     ]
    }
   ],
   "source": [
    "## 0~9 정수 저장\n",
    "# 일반적인 반복문 + 리스트\n",
    "result1 = []\n",
    "for i in range(10):\n",
    "    result1.append(i)\n",
    "\n",
    "print(result1)"
   ]
  },
  {
   "cell_type": "code",
   "execution_count": 10,
   "id": "6344500e-1dba-43e7-b1a3-fc690ccc2a5c",
   "metadata": {},
   "outputs": [
    {
     "name": "stdout",
     "output_type": "stream",
     "text": [
      "[0, 1, 2, 3, 4, 5, 6, 7, 8, 9]\n"
     ]
    }
   ],
   "source": [
    "## 0~9 정수 저장\n",
    "# 리스트 컴프리헨션\n",
    "result2 = [i for i in range(10)]\n",
    "print(result2)"
   ]
  },
  {
   "cell_type": "code",
   "execution_count": 13,
   "id": "9ef51419-ab03-46b0-995e-f98900f89e72",
   "metadata": {},
   "outputs": [
    {
     "name": "stdout",
     "output_type": "stream",
     "text": [
      "[0, 2, 4, 6, 8]\n"
     ]
    }
   ],
   "source": [
    "## 짝수만 저장 (필터링, if 문과 함께 사용)\n",
    "# 일반적인 반복문 + 리스트\n",
    "result1 = []\n",
    "for i in range(10):\n",
    "    if i % 2 == 0:\n",
    "        result1.append(i)\n",
    "\n",
    "print(result1)"
   ]
  },
  {
   "cell_type": "code",
   "execution_count": 14,
   "id": "1d0771df-a0f9-4921-959a-62984e56258f",
   "metadata": {},
   "outputs": [
    {
     "name": "stdout",
     "output_type": "stream",
     "text": [
      "[0, 2, 4, 6, 8]\n"
     ]
    }
   ],
   "source": [
    "## 짝수만 저장 (필터링, if 문과 함께 사용)\n",
    "# 리스트 컴프리헨션\n",
    "result2 = [i for i in range(10) if i % 2 == 0]\n",
    "print(result2)"
   ]
  },
  {
   "cell_type": "code",
   "execution_count": 20,
   "id": "6fa07d5c-9420-4d39-a17e-25eb6af182ac",
   "metadata": {},
   "outputs": [
    {
     "name": "stdout",
     "output_type": "stream",
     "text": [
      "['HW', 'Ho', 'Hr', 'Hl', 'Hd', 'eW', 'eo', 'er', 'el', 'ed', 'lW', 'lo', 'lr', 'll', 'ld', 'lW', 'lo', 'lr', 'll', 'ld', 'oW', 'oo', 'or', 'ol', 'od']\n"
     ]
    }
   ],
   "source": [
    "## 두 개의 문자열 조합하여 새로운 리스트 생성 (중첨 반복문)\n",
    "# 일반적인 반복문 + 리스트\n",
    "word1 = \"Hello\"\n",
    "word2 = \"World\"\n",
    "result1 = []\n",
    "\n",
    "for i in word1:\n",
    "    for j in word2:\n",
    "        result1.append(i+j)\n",
    "\n",
    "print(result1)"
   ]
  },
  {
   "cell_type": "code",
   "execution_count": 21,
   "id": "d93698db-d57b-45f1-9ca9-9c0d73b9366c",
   "metadata": {},
   "outputs": [
    {
     "name": "stdout",
     "output_type": "stream",
     "text": [
      "['HW', 'Ho', 'Hr', 'Hl', 'Hd', 'eW', 'eo', 'er', 'el', 'ed', 'lW', 'lo', 'lr', 'll', 'ld', 'lW', 'lo', 'lr', 'll', 'ld', 'oW', 'oo', 'or', 'ol', 'od']\n"
     ]
    }
   ],
   "source": [
    "## 두 개의 문자열 조합하여 새로운 리스트 생성 (중첨 반복문)\n",
    "# 리스트 컴프리헨션\n",
    "word1 = \"Hello\"\n",
    "word2 = \"World\"\n",
    "\n",
    "result2 = [i+j for i in word1 for j in word2]\n",
    "print(result2)"
   ]
  },
  {
   "cell_type": "code",
   "execution_count": 27,
   "id": "61932226-947b-4369-8861-b67721ff51ef",
   "metadata": {},
   "outputs": [
    {
     "name": "stdout",
     "output_type": "stream",
     "text": [
      "['AD', 'AE', 'BD', 'BE', 'BA', 'CD', 'CE', 'CA']\n"
     ]
    }
   ],
   "source": [
    "# 리스트 컴프리헨션 (필터링 + 중첩 반복문)\n",
    "case1 = [\"A\", \"B\", \"C\"]\n",
    "case2 = [\"D\", \"E\", \"A\"]\n",
    "result = [i + j for i in case1 for j in case2 if not(i==j)]\n",
    "print(result)"
   ]
  },
  {
   "cell_type": "code",
   "execution_count": 35,
   "id": "c4eeb907-5bb2-490e-be84-20eaa3c7b764",
   "metadata": {},
   "outputs": [
    {
     "data": {
      "text/plain": [
       "[['THE', 'the', 3],\n",
       " ['QUICK', 'quick', 5],\n",
       " ['BROWN', 'brown', 5],\n",
       " ['FOX', 'fox', 3],\n",
       " ['JUMPS', 'jumps', 5],\n",
       " ['OVER', 'over', 4],\n",
       " ['THE', 'the', 3],\n",
       " ['LAZY', 'lazy', 4],\n",
       " ['DOG', 'dog', 3]]"
      ]
     },
     "execution_count": 35,
     "metadata": {},
     "output_type": "execute_result"
    }
   ],
   "source": [
    "## 리스트의 각 요소를 대문자, 소문자, 길이로 변환하여 이차원 리스트 생성 (이차원 리스트)\n",
    "# 일반적인 반복문 + 리스트\n",
    "words = \"The quick brown fox jumps over the lazy dog\".split()\n",
    "word_info1 = []\n",
    "\n",
    "for w in words:\n",
    "    word_info1.append([w.upper(), w.lower(), len(w)])\n",
    "\n",
    "word_info1"
   ]
  },
  {
   "cell_type": "code",
   "execution_count": 37,
   "id": "fb4259c8-c9c8-4b6a-8efb-dc1163fc61f0",
   "metadata": {},
   "outputs": [
    {
     "data": {
      "text/plain": [
       "[['THE', 'the', 3],\n",
       " ['QUICK', 'quick', 5],\n",
       " ['BROWN', 'brown', 5],\n",
       " ['FOX', 'fox', 3],\n",
       " ['JUMPS', 'jumps', 5],\n",
       " ['OVER', 'over', 4],\n",
       " ['THE', 'the', 3],\n",
       " ['LAZY', 'lazy', 4],\n",
       " ['DOG', 'dog', 3]]"
      ]
     },
     "execution_count": 37,
     "metadata": {},
     "output_type": "execute_result"
    }
   ],
   "source": [
    "## 리스트의 각 요소를 대문자, 소문자, 길이로 변환하여 이차원 리스트 생성 (이차원 리스트)\n",
    "# 리스트 컴프리헨션\n",
    "words = \"The quick brown fox jumps over the lazy dog\".split()\n",
    "word_info2 = [[w.upper(), w.lower(), len(w)] for w in words]\n",
    "word_info2"
   ]
  },
  {
   "cell_type": "code",
   "execution_count": 211,
   "id": "df10c1fd-af27-4ce3-a76d-4bfb1195abc9",
   "metadata": {},
   "outputs": [
    {
     "name": "stdout",
     "output_type": "stream",
     "text": [
      "['A1', 'A2', 'A3', 'B1', 'B2', 'B3', 'C1', 'C2', 'C3']\n",
      "[['A1', 'B1', 'C1'], ['A2', 'B2', 'C2'], ['A3', 'B3', 'C3']]\n"
     ]
    }
   ],
   "source": [
    "# [주의] 중첩 반복문에서 대괄호의 위치에 따라 리스트의 구조가 달라짐\n",
    "case1 = [\"A\", \"B\", \"C\"]\n",
    "case2 = [\"1\", \"2\", \"3\"]\n",
    "\n",
    "result1 = [i + j for i in case1 for j in case2]                    # 일차원 리스트, 앞의 for 문이 먼저 실행됨\n",
    "result2 = [[i + j for i in case1] for j in case2]                  # 이차원 리스트, 뒤의 for 문이 바깥쪽에서 먼저 실행됨\n",
    "\n",
    "print(result1)\n",
    "print(result2)"
   ]
  }
 ],
 "metadata": {
  "kernelspec": {
   "display_name": "Python 3 (ipykernel)",
   "language": "python",
   "name": "python3"
  },
  "language_info": {
   "codemirror_mode": {
    "name": "ipython",
    "version": 3
   },
   "file_extension": ".py",
   "mimetype": "text/x-python",
   "name": "python",
   "nbconvert_exporter": "python",
   "pygments_lexer": "ipython3",
   "version": "3.9.21"
  }
 },
 "nbformat": 4,
 "nbformat_minor": 5
}
