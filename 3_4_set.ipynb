{
 "cells": [
  {
   "cell_type": "markdown",
   "id": "89be3b9f-02b2-4912-b416-5c9fa8f02d63",
   "metadata": {},
   "source": [
    "### 세트(set) : 중복 제거 및 집합 연산\n",
    "4.1 셋의 특징 및 구조\n",
    "  4.1.1 세트 정의 및 해시 기반 구조\n",
    "  + 세트의 데이터 무결성 및 중복 제거 원리\n",
    "  4.1.2 셋과 리스트의 차이\n",
    "\n",
    "4.2 셋의 주요 메서드 및 활용\n",
    "  4.2.1 추가/삭제 (add, remove, discard)\n",
    "  4.2.2 집합 연산 (합집합 union, 교집합 intersection, 차집합 difference)\n",
    "\n",
    "4.3 셋의 활용 사례: 데이터 중복 제거, 효율적 필터링"
   ]
  }
 ],
 "metadata": {
  "kernelspec": {
   "display_name": "Python 3 (ipykernel)",
   "language": "python",
   "name": "python3"
  },
  "language_info": {
   "codemirror_mode": {
    "name": "ipython",
    "version": 3
   },
   "file_extension": ".py",
   "mimetype": "text/x-python",
   "name": "python",
   "nbconvert_exporter": "python",
   "pygments_lexer": "ipython3",
   "version": "3.9.21"
  }
 },
 "nbformat": 4,
 "nbformat_minor": 5
}
