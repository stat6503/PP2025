{
 "cells": [
  {
   "cell_type": "markdown",
   "id": "d52a2f5f-b693-415a-95f0-ef7efbb1dbd9",
   "metadata": {},
   "source": [
    "# 3. 자료구조\n",
    "## 3.1. 자료구조\n",
    "### 3.1.1. 자료구조(data structure)\n",
    "+ 데이터의 특징을 고려하여 메모리에 효율적으로 저장 및 반환하는 방법으로 데이터를 관리하는 방식\n",
    "+ 자료구조가 중요한 이유\n",
    "  + 데이터 저장과 검색을 효율적으로 수행 : (예) 빠른 검색이 필요한 경우 딕셔너리를 사용\n",
    "  + 연산 속도 최적화 : (예) 중복을 제거할 때 리스트보다 세트가 빠름\n",
    "  + 메모리 사용 절약 : (예) 불변형 데이터를 다룰 때 리스트 대신 튜플 사용\n",
    "  + 적절한 자료구조 선택 시 코드의 가독성과 유지보수성 향상"
   ]
  },
  {
   "cell_type": "markdown",
   "id": "f8b69945-d32a-4474-893d-b0944d706a2b",
   "metadata": {
    "jp-MarkdownHeadingCollapsed": true
   },
   "source": [
    "### 3.1.2. Python 자료구조\n",
    "+ Python은 리스트(list), 튜플(tuple), 세트(set), 딕셔너리(dictionary)의 4개 대표적인 자료구조를 제공함\n",
    "\n",
    "|자료구조|설명|\n",
    "|:---:|:------------|\n",
    "|리스트(list)|여러 개의 값을 저장할 수 있는 순차적인 자료구조|\n",
    "|튜플(tuple)|리스트와 같지만 데이터의 변경을 허용하지 않는 자료구조|\n",
    "|세트(set)|데이터의 중복을 허용하지 않고, 수학의 집합 연산을 지원하는 자료구조|\n",
    "|딕셔너리(dictionary)|키(key)와 값(value)의 형태로 데이터를 저장하는 자료구조|\n",
    "\n",
    "<br>\n",
    "\n",
    "+ 자료구조 비교\n",
    "\n",
    "|자료구조|순서 유지|변경 가능|중복 허용|특징|\n",
    "|:------:|:---:|:---:|:---:|:------------------|\n",
    "|리스트(list)|○|○|○|가장 기본적인 자료구조, 인덱스로 접근|\n",
    "|튜플(tuple)|○|×|○|리스트와 유사하지만 불변형(immutable)|\n",
    "|세트(set)|×|○|×|중복 제거, 수학적 집합 연산 가능|\n",
    "|딕셔너리(dictionary)|○|○|△|키-값(key-value) 형태로 저장|"
   ]
  }
 ],
 "metadata": {
  "kernelspec": {
   "display_name": "Python 3 (ipykernel)",
   "language": "python",
   "name": "python3"
  },
  "language_info": {
   "codemirror_mode": {
    "name": "ipython",
    "version": 3
   },
   "file_extension": ".py",
   "mimetype": "text/x-python",
   "name": "python",
   "nbconvert_exporter": "python",
   "pygments_lexer": "ipython3",
   "version": "3.9.21"
  }
 },
 "nbformat": 4,
 "nbformat_minor": 5
}
