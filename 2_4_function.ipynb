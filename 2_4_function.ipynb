{
 "cells": [
  {
   "cell_type": "markdown",
   "id": "c72e0a54-85e2-48d8-b0b9-ccf8795ccfa2",
   "metadata": {},
   "source": [
    "# 2. Python 기초\n",
    "## 2.4. 함수\n",
    "### 2.4.1. 함수의 개념\n",
    "\n",
    "+ 함수(function)\n",
    "  + 특정한 기능을 수행하도록 미리 만들어 놓고, 필요할 때마다 호출하여 사용하는 일련의 코드\n",
    "  + Python에서 기본적으로 제공하는 **내장 함수**와 사용자가 직접 만들어서 사용할 수 있는 **사용자 정의 함수**가 있음\n",
    "\n",
    "<br>\n",
    "\n",
    "+ 함수 장점\n",
    "  + 필요할 때마다 호출 가능 : 반복적으로 수행해야 하는 업무를 한 번만 작성해 놓고 필요할 때마다 호출하여 사용할 수 있음\n",
    "  + 논리적인 단위로 분할 가능 : (예) 도형 계산 프로그램 - 덧셈 코드, 곱셈 코드, 나눗셈 코드 등으로 나눔\n",
    "  + 코드의 캡슐화 가능 : 함수의 인터페이스만 잘 정의하면 다른 사람이 자신의 코드를 쉽게 가져다 사용할 수 있음"
   ]
  },
  {
   "cell_type": "code",
   "execution_count": 9,
   "id": "78bbe15f-6455-40fe-a0e7-77f12a5ecda5",
   "metadata": {},
   "outputs": [
    {
     "data": {
      "text/plain": [
       "10"
      ]
     },
     "execution_count": 9,
     "metadata": {},
     "output_type": "execute_result"
    }
   ],
   "source": [
    "# 절대값 반환 함수\n",
    "abs(-10)"
   ]
  },
  {
   "cell_type": "markdown",
   "id": "3c1d5644-d3e9-4bf2-8c72-3654eafa09a1",
   "metadata": {},
   "source": [
    "### 2.4.2. 함수 정의\n",
    "\n",
    "> def 함수 이름(매개변수1, 매개변수2, ...): <br>\n",
    "> 　　문장 <br>\n",
    "> 　　return 반환값\n",
    "\n",
    "<br>\n",
    "\n",
    "+ 함수 이름 규칙\n",
    "  + 변수 이름 규칙과 동일함\n",
    "  + 일반적으로 소문자로 입력\n",
    "  + 작업을 나타내기 위해 동사와 명사를 함께 사용하는 경우가 많음 - (예) find_number\n",
    "  + 외부에 공개하는  함수일 경우 줄임말을 사용하지 않고 짧고 명료한 이름으로 정함\n",
    "\n",
    "<br>\n",
    "\n",
    "+ 매개변수(parameter)\n",
    "  + 함수에서 입력값으로 사용하는 변수로, 1개 이상의 값을 적을 수 있음\n",
    " \n",
    "<br>\n",
    "\n",
    "+ 함수 형태\n",
    "\n",
    "|구분|매개변수 없음|매개변수 있음|\n",
    "|:---:|:------------|:------------|\n",
    "|반환값 없음|함수 내부 명령문만 수행|매개변수를 사용하여 명령문만 수행|\n",
    "|반환값 있음|매개변수 없이 명령문을 수행한 후 결과값 반환|매개변수를 사용하여 명령문을 수행한 후 결과값 반환|"
   ]
  },
  {
   "cell_type": "code",
   "execution_count": 1,
   "id": "a5764c94-60ac-4c74-8aa5-e6393454bd57",
   "metadata": {},
   "outputs": [
    {
     "name": "stdout",
     "output_type": "stream",
     "text": [
      "함수 호출 전입니다\n",
      "함수입니다.\n",
      "함수 호출 후입니다\n"
     ]
    }
   ],
   "source": [
    "# 매개변수 ×, 반환값 ×\n",
    "def func():\n",
    "    print('함수입니다.')\n",
    "\n",
    "print('함수 호출 전입니다')\n",
    "func()\n",
    "print('함수 호출 후입니다')"
   ]
  },
  {
   "cell_type": "code",
   "execution_count": 7,
   "id": "aa13a70d-fe8b-4259-b71a-672afbd7ca44",
   "metadata": {},
   "outputs": [
    {
     "name": "stdout",
     "output_type": "stream",
     "text": [
      "30\n",
      "None\n"
     ]
    }
   ],
   "source": [
    "# 매개변수 ○, 반환값 ×\n",
    "def add1(x, y):\n",
    "    print(x+y)\n",
    "\n",
    "res1 = add1(10,20)\n",
    "print(res1)"
   ]
  },
  {
   "cell_type": "code",
   "execution_count": 10,
   "id": "452d7efc-ea53-432a-898b-47483a2af9c1",
   "metadata": {},
   "outputs": [
    {
     "name": "stdout",
     "output_type": "stream",
     "text": [
      "30\n"
     ]
    }
   ],
   "source": [
    "# 매개변수 ○, 반환값 ○\n",
    "def add2(x, y):\n",
    "    return x+y\n",
    "\n",
    "res2 = add2(10,20)\n",
    "print(res2)"
   ]
  },
  {
   "cell_type": "code",
   "execution_count": 16,
   "id": "fd9d53df-dccf-43a0-99f6-9267f005ef83",
   "metadata": {},
   "outputs": [
    {
     "data": {
      "text/plain": [
       "37.77777777777778"
      ]
     },
     "execution_count": 16,
     "metadata": {},
     "output_type": "execute_result"
    }
   ],
   "source": [
    "## 섭씨온도를 화씨온도로 변환하는 함수\n",
    "# (섭씨온도) = (화씨온도 - 32) × 5/9\n",
    "def f_to_c(fahrenheit):\n",
    "    return (fahrenheit-32) * 5/9\n",
    "\n",
    "f_to_c(100)"
   ]
  }
 ],
 "metadata": {
  "kernelspec": {
   "display_name": "Python 3 (ipykernel)",
   "language": "python",
   "name": "python3"
  },
  "language_info": {
   "codemirror_mode": {
    "name": "ipython",
    "version": 3
   },
   "file_extension": ".py",
   "mimetype": "text/x-python",
   "name": "python",
   "nbconvert_exporter": "python",
   "pygments_lexer": "ipython3",
   "version": "3.9.21"
  }
 },
 "nbformat": 4,
 "nbformat_minor": 5
}
