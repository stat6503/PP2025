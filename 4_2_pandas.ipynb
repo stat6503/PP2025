{
 "cells": [
  {
   "cell_type": "markdown",
   "id": "e047a66e-b275-462b-94e0-7e3417975dc1",
   "metadata": {},
   "source": [
    "# 4. 라이브러리\n",
    "## 4.2. Pandas 라이브러리\n",
    "### 4.2.1. 판다스 객체\n",
    "#### 4.2.1.1. 판다스 객체 소개\n",
    "+ Pandas\n",
    "  + NumPy를 기반으로 만들어진 데이터 분석용 라이브러리\n",
    "  + 레이블(label)로 식별되는 데이터를 쉽게 다룰 수 있도록 지원\n",
    "  + 고성능 데이터 조작, 탐색, 전처리, 변환, 요약, 통계 연산 기능 제공\n",
    "  + 주요 객체로는 Series(1차원), DataFrame(2차원), Index(레이블 관리 구조)가 있음\n",
    "\n",
    "<br>\n",
    "\n",
    "|객체|설명|\n",
    "|:---:|:------------|\n",
    "|Series|- 1차원 레이블이 붙은 배열로, 각 데이터에 고유한 인덱스가 있음 <br>- 모든 원소가 동일한 자료형으로 저장되며, 숫자, 문자열, bool 등 다양한 자료형을 지원|\n",
    "|DataFrame|- 2차원 표 형태의 데이터 구조로, 행(row)과 열(column)로 구성됨 <br>- 각 열은 Series로 구성되어 있으며, 각 열이 서로 다른 자료형을 가질 수 있음 <br>- DataFrame은 정렬(같은 인덱스를 공유)된 Series 객체의 연속으로 볼 수 있음|\n",
    "|Index|- 데이터에 레이블을 부여하는 객체로, 행 또는 열에 사용됨 <br>- 데이터 정렬, 선택, 결합 등을 효율적으로 할 수 있도록 지원|"
   ]
  },
  {
   "cell_type": "markdown",
   "id": "c252ba58-3a54-4e11-880d-92483b2f0d07",
   "metadata": {},
   "source": [
    "<br>\n",
    "\n",
    "#### 4.2.1.2. 판다스 객체 생성\n",
    "\n",
    "|함수|설명|\n",
    "|:---:|:------------|\n",
    "|pd.Series()|1차원 Series 객체 생성|\n",
    "|pd.DataFrame()|2차원 DataFrame 객체 생성|\n",
    "|pd.Index()|Index 객체 생성|"
   ]
  },
  {
   "cell_type": "code",
   "execution_count": 1,
   "id": "f4f89eef-a87d-4130-9cd1-db805729a608",
   "metadata": {},
   "outputs": [],
   "source": [
    "import numpy as np\n",
    "import pandas as pd"
   ]
  },
  {
   "cell_type": "code",
   "execution_count": 2,
   "id": "c37383fc-1afe-4780-9435-4f3ff3394b75",
   "metadata": {},
   "outputs": [
    {
     "name": "stdout",
     "output_type": "stream",
     "text": [
      "0    1\n",
      "1    2\n",
      "2    3\n",
      "3    4\n",
      "4    5\n",
      "dtype: int64\n"
     ]
    }
   ],
   "source": [
    "# Series 생성1 : 리스트 사용\n",
    "s = pd.Series([1, 2, 3, 4, 5])\n",
    "print(s)"
   ]
  },
  {
   "cell_type": "code",
   "execution_count": 3,
   "id": "1efb2220-80a0-45f3-97fa-63dfa18021f0",
   "metadata": {},
   "outputs": [
    {
     "name": "stdout",
     "output_type": "stream",
     "text": [
      "a    10\n",
      "b    20\n",
      "c    30\n",
      "dtype: int64\n"
     ]
    }
   ],
   "source": [
    "# Series 생성2 : 딕셔너리 사용\n",
    "s = pd.Series({'a': 10, 'b': 20, 'c': 30})\n",
    "print(s)"
   ]
  },
  {
   "cell_type": "code",
   "execution_count": 4,
   "id": "cbc0de92-23c1-42e1-ba9e-caeec3f263f3",
   "metadata": {},
   "outputs": [
    {
     "name": "stdout",
     "output_type": "stream",
     "text": [
      "a    1\n",
      "b    2\n",
      "c    3\n",
      "dtype: int64\n"
     ]
    }
   ],
   "source": [
    "# Series 생성3 : 인덱스 지정\n",
    "s = pd.Series([1, 2, 3], index = ['a', 'b', 'c'])\n",
    "print(s)"
   ]
  },
  {
   "cell_type": "code",
   "execution_count": 5,
   "id": "ab4f287a-0dab-47af-86a5-210b5df428dc",
   "metadata": {},
   "outputs": [
    {
     "name": "stdout",
     "output_type": "stream",
     "text": [
      "   value\n",
      "a      1\n",
      "b      2\n",
      "c      3\n"
     ]
    }
   ],
   "source": [
    "# DataFrame 생성1 : Series 사용\n",
    "s = pd.Series([1, 2, 3], index = ['a', 'b', 'c'])\n",
    "df = pd.DataFrame(s, columns = ['value'])\n",
    "print(df)"
   ]
  },
  {
   "cell_type": "code",
   "execution_count": 6,
   "id": "443cec84-ed26-474f-813e-60673141b6d3",
   "metadata": {},
   "outputs": [
    {
     "name": "stdout",
     "output_type": "stream",
     "text": [
      "      Name  Age\n",
      "0    Alice   22\n",
      "1      Bob   20\n",
      "2  Charlie   27\n"
     ]
    }
   ],
   "source": [
    "# DataFrame 생성2 : 리스트 사용\n",
    "lst = [['Alice', 22], ['Bob', 20], ['Charlie', 27]]\n",
    "df = pd.DataFrame(lst, columns=['Name', 'Age'])\n",
    "print(df)"
   ]
  },
  {
   "cell_type": "code",
   "execution_count": 7,
   "id": "195b974c-a6bd-470e-b049-6779aead0b11",
   "metadata": {},
   "outputs": [
    {
     "name": "stdout",
     "output_type": "stream",
     "text": [
      "      Name  Age\n",
      "0    Alice   22\n",
      "1      Bob   20\n",
      "2  Charlie   27\n"
     ]
    }
   ],
   "source": [
    "# DataFrame 생성3 : 딕셔너리 사용\n",
    "dct = {'Name': ['Alice', 'Bob', 'Charlie'], 'Age': [22, 20, 27]}\n",
    "df = pd.DataFrame(dct)\n",
    "print(df)"
   ]
  },
  {
   "cell_type": "code",
   "execution_count": 8,
   "id": "6cf6181c-b555-46b5-a483-baf3b7ebcc8f",
   "metadata": {},
   "outputs": [
    {
     "name": "stdout",
     "output_type": "stream",
     "text": [
      "          ID  Age\n",
      "Alice    101   22\n",
      "Bob      102   20\n",
      "Charlie  103   27\n"
     ]
    }
   ],
   "source": [
    "# DataFrame 생성4 : 인덱스 및 열 이름 지정\n",
    "data = [[101, 22], [102, 20], [103, 27]]\n",
    "columns = ['ID', 'Age']\n",
    "index = ['Alice', 'Bob', 'Charlie']\n",
    "df = pd.DataFrame(data, columns=columns, index=index)\n",
    "print(df)"
   ]
  },
  {
   "cell_type": "code",
   "execution_count": 9,
   "id": "d34b570a-0523-4a27-8dcc-58ed5d8b5e14",
   "metadata": {},
   "outputs": [
    {
     "name": "stdout",
     "output_type": "stream",
     "text": [
      "Index(['a', 'b', 'c', 'd'], dtype='object')\n"
     ]
    }
   ],
   "source": [
    "# Index 생성1 : 리스트 사용\n",
    "idx = pd.Index(['a', 'b', 'c', 'd'])\n",
    "print(idx)"
   ]
  },
  {
   "cell_type": "code",
   "execution_count": 10,
   "id": "0c836b3c-e7e2-4d2c-af75-defca8923c6d",
   "metadata": {},
   "outputs": [
    {
     "name": "stdout",
     "output_type": "stream",
     "text": [
      "RangeIndex(start=1, stop=6, step=1)\n"
     ]
    }
   ],
   "source": [
    "# Index 생성1 : range() 사용\n",
    "idx = pd.Index(range(1, 6))\n",
    "print(idx)"
   ]
  },
  {
   "cell_type": "markdown",
   "id": "1e075b77-3951-46a9-a883-a2a10362df3e",
   "metadata": {},
   "source": [
    "<br>\n",
    "\n",
    "#### 4.2.1.3. 데이터프레임 속성\n",
    "\n",
    "|속성|설명|\n",
    "|:---:|:------------|\n",
    "|.index|데이터프레임의 행 인덱스를 조회 및 변경|\n",
    "|.columns|데이터프레임의 열 이름을 조회 및 변경|\n",
    "|.dtypes|각 열의 자료형 확인|"
   ]
  },
  {
   "cell_type": "code",
   "execution_count": 11,
   "id": "a1eb663e-6103-4b4c-bab9-70ba7d199a42",
   "metadata": {},
   "outputs": [],
   "source": [
    "df = pd.DataFrame({\n",
    "    'Name': ['Alice', 'Bob', 'Charlie', 'David', 'Eva'],\n",
    "    'Age': [25, 30, 35, 40, 28],\n",
    "    'Score': [85.5, 90.3, 78.2, 88.9, 92.5]\n",
    "})"
   ]
  },
  {
   "cell_type": "code",
   "execution_count": 12,
   "id": "fb4717cb-1e5c-4a87-96f5-3a9b513234ae",
   "metadata": {},
   "outputs": [
    {
     "name": "stdout",
     "output_type": "stream",
     "text": [
      "RangeIndex(start=0, stop=5, step=1)\n"
     ]
    }
   ],
   "source": [
    "print(df.index)"
   ]
  },
  {
   "cell_type": "code",
   "execution_count": 13,
   "id": "ba5b809a-2cbd-4549-a682-a6f810f8c716",
   "metadata": {},
   "outputs": [
    {
     "name": "stdout",
     "output_type": "stream",
     "text": [
      "Index(['Name', 'Age', 'Score'], dtype='object')\n"
     ]
    }
   ],
   "source": [
    "print(df.columns)"
   ]
  },
  {
   "cell_type": "code",
   "execution_count": 14,
   "id": "1e18e147-4259-49d6-9aeb-4147f2110e93",
   "metadata": {},
   "outputs": [
    {
     "name": "stdout",
     "output_type": "stream",
     "text": [
      "Name      object\n",
      "Age        int64\n",
      "Score    float64\n",
      "dtype: object\n"
     ]
    }
   ],
   "source": [
    "print(df.dtypes)"
   ]
  },
  {
   "cell_type": "code",
   "execution_count": 15,
   "id": "5d07b5e1-2cd3-430d-9137-78e4d54fa07d",
   "metadata": {},
   "outputs": [
    {
     "name": "stdout",
     "output_type": "stream",
     "text": [
      "      Name  Age  Score\n",
      "a    Alice   25   85.5\n",
      "b      Bob   30   90.3\n",
      "c  Charlie   35   78.2\n",
      "d    David   40   88.9\n",
      "e      Eva   28   92.5\n"
     ]
    }
   ],
   "source": [
    "df.index = ['a', 'b', 'c', 'd', 'e']\n",
    "print(df)"
   ]
  },
  {
   "cell_type": "code",
   "execution_count": 16,
   "id": "b698fac3-d8cb-4b84-8ac8-0abf390356d7",
   "metadata": {},
   "outputs": [
    {
     "name": "stdout",
     "output_type": "stream",
     "text": [
      "  Student Name  Student Age  Exam Score\n",
      "a        Alice           25        85.5\n",
      "b          Bob           30        90.3\n",
      "c      Charlie           35        78.2\n",
      "d        David           40        88.9\n",
      "e          Eva           28        92.5\n"
     ]
    }
   ],
   "source": [
    "df.columns = ['Student Name', 'Student Age', 'Exam Score']\n",
    "print(df)"
   ]
  },
  {
   "cell_type": "markdown",
   "id": "c8dccd64-b5d1-4f0f-be1b-969342add496",
   "metadata": {},
   "source": [
    "<br>\n",
    "\n",
    "#### 4.2.1.4. 데이터프레임 정보 조회\n",
    "\n",
    "|함수|설명|\n",
    "|:---:|:------------|\n",
    "|head()|상위 n개의 행 출력(초기 값 n=5)|\n",
    "|info()|기본 정보(행 개수, 열 개수, 데이터 자료형, 결측값 여부 등) 출력|\n",
    "|describe()|수치형 데이터의 요약 통계량(평균, 표준편차 등) 제공|"
   ]
  },
  {
   "cell_type": "code",
   "execution_count": 17,
   "id": "e5df3f94-fc72-476a-8fd7-781ad8d14f55",
   "metadata": {},
   "outputs": [],
   "source": [
    "df = pd.DataFrame({\n",
    "    'Name': ['Alice', 'Bob', 'Charlie', 'David', 'Eva'],\n",
    "    'Age': [25, 30, 35, 40, 28],\n",
    "    'Score': [85.5, 90.3, 78.2, 88.9, 92.5]\n",
    "})"
   ]
  },
  {
   "cell_type": "code",
   "execution_count": 18,
   "id": "bee7b213-cb8f-4076-b651-069a0f37576a",
   "metadata": {},
   "outputs": [
    {
     "name": "stdout",
     "output_type": "stream",
     "text": [
      "      Name  Age  Score\n",
      "0    Alice   25   85.5\n",
      "1      Bob   30   90.3\n",
      "2  Charlie   35   78.2\n",
      "3    David   40   88.9\n",
      "4      Eva   28   92.5\n"
     ]
    }
   ],
   "source": [
    "print(df.head())"
   ]
  },
  {
   "cell_type": "code",
   "execution_count": 19,
   "id": "2abdec3d-a125-45c8-9e51-5650469588ae",
   "metadata": {},
   "outputs": [
    {
     "name": "stdout",
     "output_type": "stream",
     "text": [
      "<class 'pandas.core.frame.DataFrame'>\n",
      "RangeIndex: 5 entries, 0 to 4\n",
      "Data columns (total 3 columns):\n",
      " #   Column  Non-Null Count  Dtype  \n",
      "---  ------  --------------  -----  \n",
      " 0   Name    5 non-null      object \n",
      " 1   Age     5 non-null      int64  \n",
      " 2   Score   5 non-null      float64\n",
      "dtypes: float64(1), int64(1), object(1)\n",
      "memory usage: 248.0+ bytes\n",
      "None\n"
     ]
    }
   ],
   "source": [
    "print(df.info())"
   ]
  },
  {
   "cell_type": "code",
   "execution_count": 20,
   "id": "051de244-0767-43ea-a587-b511068cbf0a",
   "metadata": {},
   "outputs": [
    {
     "name": "stdout",
     "output_type": "stream",
     "text": [
      "            Age      Score\n",
      "count   5.00000   5.000000\n",
      "mean   31.60000  87.080000\n",
      "std     5.94138   5.576917\n",
      "min    25.00000  78.200000\n",
      "25%    28.00000  85.500000\n",
      "50%    30.00000  88.900000\n",
      "75%    35.00000  90.300000\n",
      "max    40.00000  92.500000\n"
     ]
    }
   ],
   "source": [
    "print(df.describe())"
   ]
  },
  {
   "cell_type": "markdown",
   "id": "a374faa3-a4eb-4b88-a83d-c5dc8bd1ae04",
   "metadata": {},
   "source": [
    "<br>\n",
    "\n",
    "### 4.2.2. 데이터프레임 인덱싱과 슬라이싱\n",
    "#### 4.2.2.1. 열 인덱싱과 슬라이싱\n",
    "+ 열 이름을 사용하여 직접 선택\n",
    "  + 여러 개의 열을 선택할 때는 열 이름을 리스트로 작성\n",
    "+ `loc[:, ]` : 라벨(label) 기반 접근 방식\n",
    "+ `iloc[:, ]` : 정수(integer) 기반 접근 방식"
   ]
  },
  {
   "cell_type": "code",
   "execution_count": 21,
   "id": "7b8f5e6c-9b7a-4dcc-a1d2-613e6764b25e",
   "metadata": {},
   "outputs": [],
   "source": [
    "df = pd.DataFrame({\n",
    "    'A': [1, 2, 3],\n",
    "    'B': [4, 5, 6],\n",
    "    'C': [7, 8, 9],\n",
    "    'D': [10, 11, 12]\n",
    "}, index=['x', 'y', 'z'])"
   ]
  },
  {
   "cell_type": "code",
   "execution_count": 22,
   "id": "78310d94-f965-4744-94fb-8357501f8df6",
   "metadata": {},
   "outputs": [
    {
     "name": "stdout",
     "output_type": "stream",
     "text": [
      "x    1\n",
      "y    2\n",
      "z    3\n",
      "Name: A, dtype: int64\n",
      "   A  C\n",
      "x  1  7\n",
      "y  2  8\n",
      "z  3  9\n"
     ]
    }
   ],
   "source": [
    "# 열 인덱싱과 슬라이싱1 : 열 이름 사용\n",
    "print(df['A'])                               # 열 이름\n",
    "print(df[['A', 'C']])                        # 열 이름 리스트"
   ]
  },
  {
   "cell_type": "code",
   "execution_count": 23,
   "id": "4dada753-5ce0-4905-80db-b452e3fe4896",
   "metadata": {},
   "outputs": [
    {
     "name": "stdout",
     "output_type": "stream",
     "text": [
      "x    1\n",
      "y    2\n",
      "z    3\n",
      "Name: A, dtype: int64\n",
      "   A  C\n",
      "x  1  7\n",
      "y  2  8\n",
      "z  3  9\n",
      "   A  B\n",
      "x  1  4\n",
      "y  2  5\n",
      "z  3  6\n",
      "   B   D\n",
      "x  4  10\n",
      "y  5  11\n",
      "z  6  12\n",
      "   A  C   D\n",
      "x  1  7  10\n",
      "y  2  8  11\n",
      "z  3  9  12\n"
     ]
    }
   ],
   "source": [
    "# 열 인덱싱과 슬라이싱2 : 라벨 기반 접근\n",
    "print(df.loc[:, 'A'])                        # 열 이름\n",
    "print(df.loc[:, ['A', 'C']])                 # 열 이름 리스트\n",
    "print(df.loc[:, 'A':'B'])                    # 열 이름 슬라이싱\n",
    "print(df.loc[:, 'B'::2])                     # 열 이름 스트라이딩\n",
    "print(df.loc[:, [True, False, True, True]])  # bool 리스트"
   ]
  },
  {
   "cell_type": "code",
   "execution_count": 24,
   "id": "2ff8656e-9a25-4f0d-86ae-b05f16d0dc8e",
   "metadata": {},
   "outputs": [
    {
     "name": "stdout",
     "output_type": "stream",
     "text": [
      "x    1\n",
      "y    2\n",
      "z    3\n",
      "Name: A, dtype: int64\n",
      "   A   D\n",
      "x  1  10\n",
      "y  2  11\n",
      "z  3  12\n",
      "   A  B\n",
      "x  1  4\n",
      "y  2  5\n",
      "z  3  6\n",
      "   A  B  C\n",
      "x  1  4  7\n",
      "y  2  5  8\n",
      "z  3  6  9\n",
      "   B   D\n",
      "x  4  10\n",
      "y  5  11\n",
      "z  6  12\n"
     ]
    }
   ],
   "source": [
    "# 열 인덱싱과 슬라이싱3 : 정수 기반 접근\n",
    "print(df.iloc[:, 0])                         # 정수\n",
    "print(df.iloc[:, [0, 3]])                    # 정수 리스트\n",
    "print(df.iloc[:, range(2)])                  # range\n",
    "print(df.iloc[:, 0:3])                       # 슬라이싱\n",
    "print(df.iloc[:, 1::2])                      # 스트라이딩"
   ]
  },
  {
   "cell_type": "markdown",
   "id": "ad6cdfd7-5eda-4f1a-b128-839e65e91172",
   "metadata": {},
   "source": [
    "<br>\n",
    "\n",
    "#### 4.2.2.2. 행 인덱싱과 슬라이싱\n",
    "+ `loc[, :]` : 라벨(label) 기반 접근 방식\n",
    "+ `iloc[, :]` : 정수(integer) 기반 접근 방식"
   ]
  },
  {
   "cell_type": "code",
   "execution_count": 25,
   "id": "b4a1b645-6f91-4bfb-ba83-29f4ef655619",
   "metadata": {},
   "outputs": [
    {
     "name": "stdout",
     "output_type": "stream",
     "text": [
      "A     1\n",
      "B     4\n",
      "C     7\n",
      "D    10\n",
      "Name: x, dtype: int64\n",
      "   A  B  C   D\n",
      "x  1  4  7  10\n",
      "y  2  5  8  11\n",
      "   A  B  C   D\n",
      "x  1  4  7  10\n",
      "y  2  5  8  11\n",
      "   A  B  C   D\n",
      "x  1  4  7  10\n",
      "y  2  5  8  11\n",
      "z  3  6  9  12\n",
      "   A  B  C   D\n",
      "x  1  4  7  10\n",
      "z  3  6  9  12\n",
      "   A  B  C   D\n",
      "x  1  4  7  10\n",
      "y  2  5  8  11\n"
     ]
    }
   ],
   "source": [
    "# 행 인덱싱과 슬라이싱1 : 라벨 기반 접근\n",
    "print(df.loc['x', ])                         # 인덱스 이름\n",
    "print(df.loc[['x', 'y'], :])                 # 인덱스 이름 리스트\n",
    "print(df.loc['x':'y', :])                    # 인덱스 이름 슬라이싱\n",
    "print(df.loc['x'::1, :])                     # 인덱스 이름 스트라이딩\n",
    "print(df.loc[[True, False, True], :])        # bool 리스트\n",
    "print(df.loc[list(df['A'] < 3), :])          # bool 리스트"
   ]
  },
  {
   "cell_type": "code",
   "execution_count": 26,
   "id": "d036d3fd-ac78-4d56-8062-e39fc97597d0",
   "metadata": {},
   "outputs": [
    {
     "name": "stdout",
     "output_type": "stream",
     "text": [
      "A     1\n",
      "B     4\n",
      "C     7\n",
      "D    10\n",
      "Name: x, dtype: int64\n",
      "   A  B  C   D\n",
      "x  1  4  7  10\n",
      "z  3  6  9  12\n",
      "   A  B  C   D\n",
      "x  1  4  7  10\n",
      "y  2  5  8  11\n",
      "   A  B  C   D\n",
      "x  1  4  7  10\n",
      "   A  B  C   D\n",
      "y  2  5  8  11\n"
     ]
    }
   ],
   "source": [
    "# 행 인덱싱과 슬라이싱2 : 정수 기반 접근\n",
    "print(df.iloc[0, :])                         # 정수\n",
    "print(df.iloc[[0, 2], :])                    # 정수 리스트\n",
    "print(df.iloc[range(2), :])                  # range\n",
    "print(df.iloc[0:1, :])                       # 슬라이싱\n",
    "print(df.iloc[1::2, :])                      # 스트라이딩"
   ]
  },
  {
   "cell_type": "code",
   "execution_count": 27,
   "id": "f4599780-1ff8-42cc-8415-044ae3c7ed83",
   "metadata": {},
   "outputs": [
    {
     "name": "stdout",
     "output_type": "stream",
     "text": [
      "A     1\n",
      "B     4\n",
      "C     7\n",
      "D    10\n",
      "Name: x, dtype: int64\n",
      "   A  B  C   D\n",
      "x  1  4  7  10\n",
      "z  3  6  9  12\n",
      "   A  B  C   D\n",
      "x  1  4  7  10\n",
      "y  2  5  8  11\n",
      "   A  B  C   D\n",
      "x  1  4  7  10\n",
      "   A  B  C   D\n",
      "y  2  5  8  11\n",
      "   A  B  C   D\n",
      "x  1  4  7  10\n",
      "z  3  6  9  12\n"
     ]
    }
   ],
   "source": [
    "# 행 인덱싱과 슬라이싱3 : 정수 기반 접근\n",
    "print(df.iloc[0])                            # 정수\n",
    "print(df.iloc[[0, 2]])                       # 정수 리스트\n",
    "print(df.iloc[range(2)])                     # range\n",
    "print(df.iloc[0:1])                          # 슬라이싱\n",
    "print(df.iloc[1::2])                         # 스트라이딩\n",
    "print(df.iloc[[True, False, True]])          # bool 리스트"
   ]
  }
 ],
 "metadata": {
  "kernelspec": {
   "display_name": "Python 3 (ipykernel)",
   "language": "python",
   "name": "python3"
  },
  "language_info": {
   "codemirror_mode": {
    "name": "ipython",
    "version": 3
   },
   "file_extension": ".py",
   "mimetype": "text/x-python",
   "name": "python",
   "nbconvert_exporter": "python",
   "pygments_lexer": "ipython3",
   "version": "3.9.21"
  }
 },
 "nbformat": 4,
 "nbformat_minor": 5
}
