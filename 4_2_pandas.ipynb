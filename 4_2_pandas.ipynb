{
 "cells": [
  {
   "cell_type": "markdown",
   "id": "e047a66e-b275-462b-94e0-7e3417975dc1",
   "metadata": {},
   "source": [
    "# 4. 라이브러리\n",
    "## 4.2. Pandas 라이브러리\n",
    "### 4.2.1. 판다스 객체\n",
    "#### 4.2.1.1. 판다스 객체 소개\n",
    "+ Pandas\n",
    "  + NumPy를 기반으로 만들어진 데이터 분석용 라이브러리\n",
    "  + 레이블(label)로 식별되는 데이터를 쉽게 다룰 수 있도록 지원\n",
    "  + 고성능 데이터 조작, 탐색, 전처리, 변환, 요약, 통계 연산 기능 제공\n",
    "  + 주요 객체로는 Series(1차원), DataFrame(2차원), Index(레이블 관리 구조)가 있음\n",
    "\n",
    "<br>\n",
    "\n",
    "|객체|설명|\n",
    "|:---:|:------------|\n",
    "|Series|- 1차원 레이블이 붙은 배열로, 각 데이터에 고유한 인덱스가 있음 <br>- 모든 원소가 동일한 자료형으로 저장되며, 숫자, 문자열, bool 등 다양한 자료형을 지원|\n",
    "|DataFrame|- 2차원 표 형태의 데이터 구조로, 행(row)과 열(column)로 구성됨 <br>- 각 열은 Series로 구성되어 있으며, 각 열이 서로 다른 자료형을 가질 수 있음 <br>- DataFrame은 정렬(같은 인덱스 공유)된 Series 객체의 연속으로 볼 수 있음|\n",
    "|Index|- 데이터에 레이블을 부여하는 객체로, 행 또는 열에 사용됨 <br>- 데이터 정렬, 선택, 결합 등을 효율적으로 할 수 있도록 지원|"
   ]
  },
  {
   "cell_type": "markdown",
   "id": "c252ba58-3a54-4e11-880d-92483b2f0d07",
   "metadata": {},
   "source": [
    "<br>\n",
    "\n",
    "#### 4.2.1.2. 판다스 객체 생성\n",
    "\n",
    "|함수|설명|\n",
    "|:---:|:------------|\n",
    "|pd.Series()|1차원 Series 객체 생성|\n",
    "|pd.DataFrame()|2차원 DataFrame 객체 생성|\n",
    "|pd.Index()|Index 객체 생성|"
   ]
  },
  {
   "cell_type": "code",
   "execution_count": 1,
   "id": "f4f89eef-a87d-4130-9cd1-db805729a608",
   "metadata": {},
   "outputs": [],
   "source": [
    "import numpy as np\n",
    "import pandas as pd"
   ]
  },
  {
   "cell_type": "code",
   "execution_count": 2,
   "id": "c37383fc-1afe-4780-9435-4f3ff3394b75",
   "metadata": {},
   "outputs": [
    {
     "name": "stdout",
     "output_type": "stream",
     "text": [
      "0    1\n",
      "1    2\n",
      "2    3\n",
      "3    4\n",
      "4    5\n",
      "dtype: int64\n"
     ]
    }
   ],
   "source": [
    "# Series 생성1 : 리스트 사용\n",
    "sr = pd.Series([1, 2, 3, 4, 5])\n",
    "print(sr)"
   ]
  },
  {
   "cell_type": "code",
   "execution_count": 3,
   "id": "791f1142-2a1d-49ea-b2da-6210a11defa0",
   "metadata": {},
   "outputs": [
    {
     "name": "stdout",
     "output_type": "stream",
     "text": [
      "0    1\n",
      "1    2\n",
      "2    3\n",
      "3    4\n",
      "4    5\n",
      "dtype: int64\n"
     ]
    }
   ],
   "source": [
    "# Series 생성2 : 넘파이 배열 사용\n",
    "sr = pd.Series(np.array([1, 2, 3, 4, 5]))\n",
    "print(sr)"
   ]
  },
  {
   "cell_type": "code",
   "execution_count": 4,
   "id": "1efb2220-80a0-45f3-97fa-63dfa18021f0",
   "metadata": {},
   "outputs": [
    {
     "name": "stdout",
     "output_type": "stream",
     "text": [
      "a    10\n",
      "b    20\n",
      "c    30\n",
      "dtype: int64\n"
     ]
    }
   ],
   "source": [
    "# Series 생성3 : 딕셔너리 사용\n",
    "# 딕셔너리 키는 인덱스로 자동 지정됨\n",
    "sr = pd.Series({'a': 10, 'b': 20, 'c': 30})\n",
    "print(sr)"
   ]
  },
  {
   "cell_type": "code",
   "execution_count": 5,
   "id": "cbc0de92-23c1-42e1-ba9e-caeec3f263f3",
   "metadata": {},
   "outputs": [
    {
     "name": "stdout",
     "output_type": "stream",
     "text": [
      "a    1\n",
      "b    2\n",
      "c    3\n",
      "dtype: int64\n"
     ]
    }
   ],
   "source": [
    "# Series 생성4 : 인덱스 지정\n",
    "sr = pd.Series([1, 2, 3], index = ['a', 'b', 'c'])\n",
    "print(sr)"
   ]
  },
  {
   "cell_type": "code",
   "execution_count": 6,
   "id": "ab4f287a-0dab-47af-86a5-210b5df428dc",
   "metadata": {},
   "outputs": [
    {
     "name": "stdout",
     "output_type": "stream",
     "text": [
      "   value\n",
      "a      1\n",
      "b      2\n",
      "c      3\n"
     ]
    }
   ],
   "source": [
    "# DataFrame 생성1 : Series 사용\n",
    "sr = pd.Series([1, 2, 3], index = ['a', 'b', 'c'])\n",
    "df = pd.DataFrame(sr, columns = ['value'])\n",
    "print(df)"
   ]
  },
  {
   "cell_type": "code",
   "execution_count": 7,
   "id": "443cec84-ed26-474f-813e-60673141b6d3",
   "metadata": {},
   "outputs": [
    {
     "name": "stdout",
     "output_type": "stream",
     "text": [
      "      Name  Age\n",
      "0    Alice   22\n",
      "1      Bob   20\n",
      "2  Charlie   27\n"
     ]
    }
   ],
   "source": [
    "# DataFrame 생성2 : 리스트 사용\n",
    "lst = [['Alice', 22], ['Bob', 20], ['Charlie', 27]]\n",
    "df = pd.DataFrame(lst, columns=['Name', 'Age'])\n",
    "print(df)"
   ]
  },
  {
   "cell_type": "code",
   "execution_count": 8,
   "id": "7db6280e-c43a-405e-a410-f5ad3741604b",
   "metadata": {},
   "outputs": [
    {
     "name": "stdout",
     "output_type": "stream",
     "text": [
      "      Name Age\n",
      "0    Alice  22\n",
      "1      Bob  20\n",
      "2  Charlie  27\n"
     ]
    }
   ],
   "source": [
    "# DataFrame 생성3 : 넘파이 배열 사용\n",
    "arr = np.array([['Alice', 22], ['Bob', 20], ['Charlie', 27]])\n",
    "df = pd.DataFrame(arr, columns=['Name', 'Age'])\n",
    "print(df)"
   ]
  },
  {
   "cell_type": "code",
   "execution_count": 9,
   "id": "195b974c-a6bd-470e-b049-6779aead0b11",
   "metadata": {},
   "outputs": [
    {
     "name": "stdout",
     "output_type": "stream",
     "text": [
      "      Name  Age\n",
      "0    Alice   22\n",
      "1      Bob   20\n",
      "2  Charlie   27\n"
     ]
    }
   ],
   "source": [
    "# DataFrame 생성4 : 딕셔너리 사용\n",
    "# 딕셔너리 키는 열 이름으로 자동 지정됨\n",
    "dct = {'Name': ['Alice', 'Bob', 'Charlie'], 'Age': [22, 20, 27]}\n",
    "df = pd.DataFrame(dct)\n",
    "print(df)"
   ]
  },
  {
   "cell_type": "code",
   "execution_count": 10,
   "id": "4f55ad02-4522-400e-92c5-d6de7abf05ba",
   "metadata": {},
   "outputs": [
    {
     "name": "stdout",
     "output_type": "stream",
     "text": [
      "   a  b\n",
      "0  0  0\n",
      "1  1  2\n",
      "2  2  4\n"
     ]
    }
   ],
   "source": [
    "# DataFrame 생성5 : 딕셔너리 + 리스트 컴프리헨션 사용\n",
    "dct = [{'a': i, 'b': 2*i} for i in range(3)]\n",
    "df = pd.DataFrame(dct)\n",
    "print(df)"
   ]
  },
  {
   "cell_type": "code",
   "execution_count": 11,
   "id": "8fc74e4d-8fbc-4790-bc92-3036e60e4b09",
   "metadata": {},
   "outputs": [
    {
     "name": "stdout",
     "output_type": "stream",
     "text": [
      "     x    y\n",
      "a  1.0  4.0\n",
      "b  2.0  NaN\n",
      "c  3.0  5.0\n",
      "d  NaN  6.0\n"
     ]
    }
   ],
   "source": [
    "# DataFrame 생성6 : Series 사용\n",
    "# 서로 다른 인덱스를 가진 Series로 DataFrame을 생성하면\n",
    "# 공통된 인덱스를 기준으로 맞춰지고, 누락된 값은 NaN(Not a Number)으로 채워짐\n",
    "sr1 = pd.Series([1, 2, 3], index = ['a', 'b', 'c'])\n",
    "sr2 = pd.Series([4, 5, 6], index = ['a', 'c', 'd'])\n",
    "df = pd.DataFrame({'x': sr1, 'y': sr2})\n",
    "print(df)"
   ]
  },
  {
   "cell_type": "code",
   "execution_count": 12,
   "id": "6cf6181c-b555-46b5-a483-baf3b7ebcc8f",
   "metadata": {},
   "outputs": [
    {
     "name": "stdout",
     "output_type": "stream",
     "text": [
      "          ID  Age\n",
      "Alice    101   22\n",
      "Bob      102   20\n",
      "Charlie  103   27\n"
     ]
    }
   ],
   "source": [
    "# DataFrame 생성7 : 인덱스 및 열 이름 지정\n",
    "data = [[101, 22], [102, 20], [103, 27]]\n",
    "columns = ['ID', 'Age']\n",
    "index = ['Alice', 'Bob', 'Charlie']\n",
    "df = pd.DataFrame(data, columns=columns, index=index)\n",
    "print(df)"
   ]
  },
  {
   "cell_type": "code",
   "execution_count": 13,
   "id": "d34b570a-0523-4a27-8dcc-58ed5d8b5e14",
   "metadata": {},
   "outputs": [
    {
     "data": {
      "text/plain": [
       "Index(['a', 'b', 'c', 'd'], dtype='object')"
      ]
     },
     "execution_count": 13,
     "metadata": {},
     "output_type": "execute_result"
    }
   ],
   "source": [
    "# Index 생성1 : 리스트 사용\n",
    "idx = pd.Index(['a', 'b', 'c', 'd'])\n",
    "idx"
   ]
  },
  {
   "cell_type": "code",
   "execution_count": 14,
   "id": "0c836b3c-e7e2-4d2c-af75-defca8923c6d",
   "metadata": {},
   "outputs": [
    {
     "data": {
      "text/plain": [
       "RangeIndex(start=1, stop=6, step=1)"
      ]
     },
     "execution_count": 14,
     "metadata": {},
     "output_type": "execute_result"
    }
   ],
   "source": [
    "# Index 생성2 : range() 사용\n",
    "idx = pd.Index(range(1, 6))\n",
    "idx"
   ]
  },
  {
   "cell_type": "markdown",
   "id": "1e075b77-3951-46a9-a883-a2a10362df3e",
   "metadata": {},
   "source": [
    "<br>\n",
    "\n",
    "#### 4.2.1.3. 데이터프레임 속성\n",
    "\n",
    "|속성|설명|\n",
    "|:---:|:------------|\n",
    "|.shape|데이터프레임의 모양(행, 열)|\n",
    "|.index|행 인덱스 조회 및 변경|\n",
    "|.columns|열 이름 조회 및 변경|\n",
    "|.dtypes|각 열의 자료형 확인|"
   ]
  },
  {
   "cell_type": "code",
   "execution_count": 15,
   "id": "a1eb663e-6103-4b4c-bab9-70ba7d199a42",
   "metadata": {},
   "outputs": [
    {
     "name": "stdout",
     "output_type": "stream",
     "text": [
      "(5, 3)\n",
      "RangeIndex(start=0, stop=5, step=1)\n",
      "Index(['Name', 'Age', 'Score'], dtype='object')\n",
      "Name      object\n",
      "Age        int64\n",
      "Score    float64\n",
      "dtype: object\n"
     ]
    }
   ],
   "source": [
    "# 데이터프레임 속성\n",
    "df = pd.DataFrame({\n",
    "    'Name': ['Alice', 'Bob', 'Charlie', 'David', 'Eva'],\n",
    "    'Age': [25, 30, 35, 40, 28],\n",
    "    'Score': [85.5, 90.3, 78.2, 88.9, 92.5]\n",
    "})\n",
    "\n",
    "print(df.shape)\n",
    "print(df.index)\n",
    "print(df.columns)\n",
    "print(df.dtypes)"
   ]
  },
  {
   "cell_type": "code",
   "execution_count": 16,
   "id": "5d07b5e1-2cd3-430d-9137-78e4d54fa07d",
   "metadata": {},
   "outputs": [
    {
     "name": "stdout",
     "output_type": "stream",
     "text": [
      "      Name  Age  Score\n",
      "a    Alice   25   85.5\n",
      "b      Bob   30   90.3\n",
      "c  Charlie   35   78.2\n",
      "d    David   40   88.9\n",
      "e      Eva   28   92.5\n"
     ]
    }
   ],
   "source": [
    "# 행 인덱스 변경\n",
    "df.index = ['a', 'b', 'c', 'd', 'e']\n",
    "print(df)"
   ]
  },
  {
   "cell_type": "code",
   "execution_count": 17,
   "id": "b698fac3-d8cb-4b84-8ac8-0abf390356d7",
   "metadata": {},
   "outputs": [
    {
     "name": "stdout",
     "output_type": "stream",
     "text": [
      "  Student Name  Student Age  Exam Score\n",
      "a        Alice           25        85.5\n",
      "b          Bob           30        90.3\n",
      "c      Charlie           35        78.2\n",
      "d        David           40        88.9\n",
      "e          Eva           28        92.5\n"
     ]
    }
   ],
   "source": [
    "# 열 이름 변경\n",
    "df.columns = ['Student Name', 'Student Age', 'Exam Score']\n",
    "print(df)"
   ]
  },
  {
   "cell_type": "markdown",
   "id": "c8dccd64-b5d1-4f0f-be1b-969342add496",
   "metadata": {},
   "source": [
    "<br>\n",
    "\n",
    "#### 4.2.1.4. 데이터프레임 정보 조회\n",
    "\n",
    "|함수|설명|\n",
    "|:---:|:------------|\n",
    "|info()|기본 정보(행 개수, 열 개수, 데이터 자료형, 결측값 여부 등) 출력|\n",
    "|head()|상위 n개의 행 출력(초기 값 n=5)|\n",
    "|describe()|수치형 데이터의 요약 통계량(평균, 표준편차 등) 제공|"
   ]
  },
  {
   "cell_type": "code",
   "execution_count": 18,
   "id": "e5df3f94-fc72-476a-8fd7-781ad8d14f55",
   "metadata": {},
   "outputs": [],
   "source": [
    "df = pd.DataFrame({\n",
    "    'Name': ['Alice', 'Bob', 'Charlie', 'David', 'Eva'],\n",
    "    'Age': [25, 30, 35, 40, 28],\n",
    "    'Score': [85.5, 90.3, 78.2, 88.9, 92.5]\n",
    "})"
   ]
  },
  {
   "cell_type": "code",
   "execution_count": 19,
   "id": "2abdec3d-a125-45c8-9e51-5650469588ae",
   "metadata": {},
   "outputs": [
    {
     "name": "stdout",
     "output_type": "stream",
     "text": [
      "<class 'pandas.core.frame.DataFrame'>\n",
      "RangeIndex: 5 entries, 0 to 4\n",
      "Data columns (total 3 columns):\n",
      " #   Column  Non-Null Count  Dtype  \n",
      "---  ------  --------------  -----  \n",
      " 0   Name    5 non-null      object \n",
      " 1   Age     5 non-null      int64  \n",
      " 2   Score   5 non-null      float64\n",
      "dtypes: float64(1), int64(1), object(1)\n",
      "memory usage: 248.0+ bytes\n",
      "None\n"
     ]
    }
   ],
   "source": [
    "# 기본 정보\n",
    "print(df.info())"
   ]
  },
  {
   "cell_type": "code",
   "execution_count": 20,
   "id": "bee7b213-cb8f-4076-b651-069a0f37576a",
   "metadata": {},
   "outputs": [
    {
     "name": "stdout",
     "output_type": "stream",
     "text": [
      "      Name  Age  Score\n",
      "0    Alice   25   85.5\n",
      "1      Bob   30   90.3\n",
      "2  Charlie   35   78.2\n",
      "3    David   40   88.9\n",
      "4      Eva   28   92.5\n"
     ]
    }
   ],
   "source": [
    "# 상위 5개 행\n",
    "print(df.head())"
   ]
  },
  {
   "cell_type": "code",
   "execution_count": 21,
   "id": "051de244-0767-43ea-a587-b511068cbf0a",
   "metadata": {},
   "outputs": [
    {
     "name": "stdout",
     "output_type": "stream",
     "text": [
      "            Age      Score\n",
      "count   5.00000   5.000000\n",
      "mean   31.60000  87.080000\n",
      "std     5.94138   5.576917\n",
      "min    25.00000  78.200000\n",
      "25%    28.00000  85.500000\n",
      "50%    30.00000  88.900000\n",
      "75%    35.00000  90.300000\n",
      "max    40.00000  92.500000\n"
     ]
    }
   ],
   "source": [
    "# 요약 통계량\n",
    "print(df.describe())"
   ]
  },
  {
   "cell_type": "markdown",
   "id": "a374faa3-a4eb-4b88-a83d-c5dc8bd1ae04",
   "metadata": {},
   "source": [
    "<br>\n",
    "\n",
    "### 4.2.2. 데이터프레임 인덱싱과 슬라이싱\n",
    "#### 4.2.2.1. 열 인덱싱과 슬라이싱\n",
    "+ 열 이름을 사용하여 직접 선택\n",
    "  + 여러 개의 열을 선택할 때는 열 이름을 리스트로 작성\n",
    "+ `loc[:, ]` : 레이블(label) 기반 접근 방식\n",
    "+ `iloc[:, ]` : 정수(integer) 기반 접근 방식"
   ]
  },
  {
   "cell_type": "code",
   "execution_count": 22,
   "id": "7b8f5e6c-9b7a-4dcc-a1d2-613e6764b25e",
   "metadata": {},
   "outputs": [],
   "source": [
    "df = pd.DataFrame({\n",
    "    'A': [1, 2, 3],\n",
    "    'B': [4, 5, 6],\n",
    "    'C': [7, 8, 9],\n",
    "    'D': [10, 11, 12]\n",
    "}, index=['x', 'y', 'z'])"
   ]
  },
  {
   "cell_type": "code",
   "execution_count": 23,
   "id": "78310d94-f965-4744-94fb-8357501f8df6",
   "metadata": {},
   "outputs": [
    {
     "data": {
      "text/html": [
       "<div>\n",
       "<style scoped>\n",
       "    .dataframe tbody tr th:only-of-type {\n",
       "        vertical-align: middle;\n",
       "    }\n",
       "\n",
       "    .dataframe tbody tr th {\n",
       "        vertical-align: top;\n",
       "    }\n",
       "\n",
       "    .dataframe thead th {\n",
       "        text-align: right;\n",
       "    }\n",
       "</style>\n",
       "<table border=\"1\" class=\"dataframe\">\n",
       "  <thead>\n",
       "    <tr style=\"text-align: right;\">\n",
       "      <th></th>\n",
       "      <th>A</th>\n",
       "      <th>C</th>\n",
       "    </tr>\n",
       "  </thead>\n",
       "  <tbody>\n",
       "    <tr>\n",
       "      <th>x</th>\n",
       "      <td>1</td>\n",
       "      <td>7</td>\n",
       "    </tr>\n",
       "    <tr>\n",
       "      <th>y</th>\n",
       "      <td>2</td>\n",
       "      <td>8</td>\n",
       "    </tr>\n",
       "    <tr>\n",
       "      <th>z</th>\n",
       "      <td>3</td>\n",
       "      <td>9</td>\n",
       "    </tr>\n",
       "  </tbody>\n",
       "</table>\n",
       "</div>"
      ],
      "text/plain": [
       "   A  C\n",
       "x  1  7\n",
       "y  2  8\n",
       "z  3  9"
      ]
     },
     "execution_count": 23,
     "metadata": {},
     "output_type": "execute_result"
    }
   ],
   "source": [
    "# 열 인덱싱과 슬라이싱1 : 열 이름 사용\n",
    "df['A']                                      # 열 이름\n",
    "df[['A', 'C']]                               # 열 이름 리스트\n",
    "#df['A':'B']                                 # 열 이름 슬라이싱은 안 됨, Error!"
   ]
  },
  {
   "cell_type": "code",
   "execution_count": 24,
   "id": "4dada753-5ce0-4905-80db-b452e3fe4896",
   "metadata": {},
   "outputs": [
    {
     "data": {
      "text/html": [
       "<div>\n",
       "<style scoped>\n",
       "    .dataframe tbody tr th:only-of-type {\n",
       "        vertical-align: middle;\n",
       "    }\n",
       "\n",
       "    .dataframe tbody tr th {\n",
       "        vertical-align: top;\n",
       "    }\n",
       "\n",
       "    .dataframe thead th {\n",
       "        text-align: right;\n",
       "    }\n",
       "</style>\n",
       "<table border=\"1\" class=\"dataframe\">\n",
       "  <thead>\n",
       "    <tr style=\"text-align: right;\">\n",
       "      <th></th>\n",
       "      <th>A</th>\n",
       "      <th>C</th>\n",
       "      <th>D</th>\n",
       "    </tr>\n",
       "  </thead>\n",
       "  <tbody>\n",
       "    <tr>\n",
       "      <th>x</th>\n",
       "      <td>1</td>\n",
       "      <td>7</td>\n",
       "      <td>10</td>\n",
       "    </tr>\n",
       "    <tr>\n",
       "      <th>y</th>\n",
       "      <td>2</td>\n",
       "      <td>8</td>\n",
       "      <td>11</td>\n",
       "    </tr>\n",
       "    <tr>\n",
       "      <th>z</th>\n",
       "      <td>3</td>\n",
       "      <td>9</td>\n",
       "      <td>12</td>\n",
       "    </tr>\n",
       "  </tbody>\n",
       "</table>\n",
       "</div>"
      ],
      "text/plain": [
       "   A  C   D\n",
       "x  1  7  10\n",
       "y  2  8  11\n",
       "z  3  9  12"
      ]
     },
     "execution_count": 24,
     "metadata": {},
     "output_type": "execute_result"
    }
   ],
   "source": [
    "# 열 인덱싱과 슬라이싱2 : 레이블 기반 접근\n",
    "df.loc[:, 'A']                               # 열 이름\n",
    "df.loc[:, ['A', 'C']]                        # 열 이름 리스트\n",
    "df.loc[:, 'A':'B']                           # 열 이름 슬라이싱\n",
    "df.loc[:, 'B'::2]                            # 열 이름 스트라이딩\n",
    "df.loc[:, [True, False, True, True]]         # bool 리스트"
   ]
  },
  {
   "cell_type": "code",
   "execution_count": 25,
   "id": "2ff8656e-9a25-4f0d-86ae-b05f16d0dc8e",
   "metadata": {},
   "outputs": [
    {
     "data": {
      "text/html": [
       "<div>\n",
       "<style scoped>\n",
       "    .dataframe tbody tr th:only-of-type {\n",
       "        vertical-align: middle;\n",
       "    }\n",
       "\n",
       "    .dataframe tbody tr th {\n",
       "        vertical-align: top;\n",
       "    }\n",
       "\n",
       "    .dataframe thead th {\n",
       "        text-align: right;\n",
       "    }\n",
       "</style>\n",
       "<table border=\"1\" class=\"dataframe\">\n",
       "  <thead>\n",
       "    <tr style=\"text-align: right;\">\n",
       "      <th></th>\n",
       "      <th>B</th>\n",
       "      <th>D</th>\n",
       "    </tr>\n",
       "  </thead>\n",
       "  <tbody>\n",
       "    <tr>\n",
       "      <th>x</th>\n",
       "      <td>4</td>\n",
       "      <td>10</td>\n",
       "    </tr>\n",
       "    <tr>\n",
       "      <th>y</th>\n",
       "      <td>5</td>\n",
       "      <td>11</td>\n",
       "    </tr>\n",
       "    <tr>\n",
       "      <th>z</th>\n",
       "      <td>6</td>\n",
       "      <td>12</td>\n",
       "    </tr>\n",
       "  </tbody>\n",
       "</table>\n",
       "</div>"
      ],
      "text/plain": [
       "   B   D\n",
       "x  4  10\n",
       "y  5  11\n",
       "z  6  12"
      ]
     },
     "execution_count": 25,
     "metadata": {},
     "output_type": "execute_result"
    }
   ],
   "source": [
    "# 열 인덱싱과 슬라이싱3 : 정수 기반 접근\n",
    "df.iloc[:, 0]                                # 정수\n",
    "df.iloc[:, [0, 3]]                           # 정수 리스트\n",
    "df.iloc[:, range(2)]                         # range\n",
    "df.iloc[:, 0:3]                              # 슬라이싱\n",
    "df.iloc[:, 1::2]                             # 스트라이딩"
   ]
  },
  {
   "cell_type": "markdown",
   "id": "ad6cdfd7-5eda-4f1a-b128-839e65e91172",
   "metadata": {},
   "source": [
    "<br>\n",
    "\n",
    "#### 4.2.2.2. 행 인덱싱과 슬라이싱\n",
    "+ `loc[, :]` : 레이블(label) 기반 접근 방식\n",
    "+ `iloc[, :]` : 정수(integer) 기반 접근 방식"
   ]
  },
  {
   "cell_type": "code",
   "execution_count": 26,
   "id": "b4a1b645-6f91-4bfb-ba83-29f4ef655619",
   "metadata": {},
   "outputs": [
    {
     "data": {
      "text/html": [
       "<div>\n",
       "<style scoped>\n",
       "    .dataframe tbody tr th:only-of-type {\n",
       "        vertical-align: middle;\n",
       "    }\n",
       "\n",
       "    .dataframe tbody tr th {\n",
       "        vertical-align: top;\n",
       "    }\n",
       "\n",
       "    .dataframe thead th {\n",
       "        text-align: right;\n",
       "    }\n",
       "</style>\n",
       "<table border=\"1\" class=\"dataframe\">\n",
       "  <thead>\n",
       "    <tr style=\"text-align: right;\">\n",
       "      <th></th>\n",
       "      <th>A</th>\n",
       "      <th>B</th>\n",
       "      <th>C</th>\n",
       "      <th>D</th>\n",
       "    </tr>\n",
       "  </thead>\n",
       "  <tbody>\n",
       "    <tr>\n",
       "      <th>x</th>\n",
       "      <td>1</td>\n",
       "      <td>4</td>\n",
       "      <td>7</td>\n",
       "      <td>10</td>\n",
       "    </tr>\n",
       "    <tr>\n",
       "      <th>y</th>\n",
       "      <td>2</td>\n",
       "      <td>5</td>\n",
       "      <td>8</td>\n",
       "      <td>11</td>\n",
       "    </tr>\n",
       "  </tbody>\n",
       "</table>\n",
       "</div>"
      ],
      "text/plain": [
       "   A  B  C   D\n",
       "x  1  4  7  10\n",
       "y  2  5  8  11"
      ]
     },
     "execution_count": 26,
     "metadata": {},
     "output_type": "execute_result"
    }
   ],
   "source": [
    "# 행 인덱싱과 슬라이싱1 : 레이블 기반 접근\n",
    "df.loc['x', ]                                # 인덱스 이름\n",
    "df.loc[['x', 'y'], :]                        # 인덱스 이름 리스트\n",
    "df.loc['x':'y', :]                           # 인덱스 이름 슬라이싱\n",
    "df.loc['x'::1, :]                            # 인덱스 이름 스트라이딩\n",
    "df.loc[[True, False, True], :]               # bool 리스트\n",
    "df.loc[list(df['A'] < 3), :]                 # bool 리스트\n",
    "df.loc[df['A'] < 3, :]                       # bool 리스트"
   ]
  },
  {
   "cell_type": "code",
   "execution_count": 27,
   "id": "d036d3fd-ac78-4d56-8062-e39fc97597d0",
   "metadata": {},
   "outputs": [
    {
     "data": {
      "text/html": [
       "<div>\n",
       "<style scoped>\n",
       "    .dataframe tbody tr th:only-of-type {\n",
       "        vertical-align: middle;\n",
       "    }\n",
       "\n",
       "    .dataframe tbody tr th {\n",
       "        vertical-align: top;\n",
       "    }\n",
       "\n",
       "    .dataframe thead th {\n",
       "        text-align: right;\n",
       "    }\n",
       "</style>\n",
       "<table border=\"1\" class=\"dataframe\">\n",
       "  <thead>\n",
       "    <tr style=\"text-align: right;\">\n",
       "      <th></th>\n",
       "      <th>A</th>\n",
       "      <th>B</th>\n",
       "      <th>C</th>\n",
       "      <th>D</th>\n",
       "    </tr>\n",
       "  </thead>\n",
       "  <tbody>\n",
       "    <tr>\n",
       "      <th>x</th>\n",
       "      <td>1</td>\n",
       "      <td>4</td>\n",
       "      <td>7</td>\n",
       "      <td>10</td>\n",
       "    </tr>\n",
       "    <tr>\n",
       "      <th>y</th>\n",
       "      <td>2</td>\n",
       "      <td>5</td>\n",
       "      <td>8</td>\n",
       "      <td>11</td>\n",
       "    </tr>\n",
       "  </tbody>\n",
       "</table>\n",
       "</div>"
      ],
      "text/plain": [
       "   A  B  C   D\n",
       "x  1  4  7  10\n",
       "y  2  5  8  11"
      ]
     },
     "execution_count": 27,
     "metadata": {},
     "output_type": "execute_result"
    }
   ],
   "source": [
    "# 행 인덱싱과 슬라이싱2 : 정수 기반 접근\n",
    "df.iloc[0, :]                                # 정수\n",
    "df.iloc[[0, 2], :]                           # 정수 리스트\n",
    "df.iloc[range(2), :]                         # range\n",
    "df.iloc[0:1, :]                              # 슬라이싱\n",
    "df.iloc[1::2, :]                             # 스트라이딩\n",
    "df.iloc[[True, False, True], :]              # bool 리스트 (권장하지 않음)\n",
    "df.iloc[list(df['A'] < 3), :]                # bool 리스트 (권장하지 않음)\n",
    "#df.iloc[df['A'] < 3, :]                     # bool 리스트 (Error!)"
   ]
  },
  {
   "cell_type": "code",
   "execution_count": 28,
   "id": "f4599780-1ff8-42cc-8415-044ae3c7ed83",
   "metadata": {},
   "outputs": [
    {
     "data": {
      "text/html": [
       "<div>\n",
       "<style scoped>\n",
       "    .dataframe tbody tr th:only-of-type {\n",
       "        vertical-align: middle;\n",
       "    }\n",
       "\n",
       "    .dataframe tbody tr th {\n",
       "        vertical-align: top;\n",
       "    }\n",
       "\n",
       "    .dataframe thead th {\n",
       "        text-align: right;\n",
       "    }\n",
       "</style>\n",
       "<table border=\"1\" class=\"dataframe\">\n",
       "  <thead>\n",
       "    <tr style=\"text-align: right;\">\n",
       "      <th></th>\n",
       "      <th>A</th>\n",
       "      <th>B</th>\n",
       "      <th>C</th>\n",
       "      <th>D</th>\n",
       "    </tr>\n",
       "  </thead>\n",
       "  <tbody>\n",
       "    <tr>\n",
       "      <th>x</th>\n",
       "      <td>1</td>\n",
       "      <td>4</td>\n",
       "      <td>7</td>\n",
       "      <td>10</td>\n",
       "    </tr>\n",
       "    <tr>\n",
       "      <th>y</th>\n",
       "      <td>2</td>\n",
       "      <td>5</td>\n",
       "      <td>8</td>\n",
       "      <td>11</td>\n",
       "    </tr>\n",
       "  </tbody>\n",
       "</table>\n",
       "</div>"
      ],
      "text/plain": [
       "   A  B  C   D\n",
       "x  1  4  7  10\n",
       "y  2  5  8  11"
      ]
     },
     "execution_count": 28,
     "metadata": {},
     "output_type": "execute_result"
    }
   ],
   "source": [
    "# 행 인덱싱과 슬라이싱3 : 정수 기반 접근\n",
    "df.iloc[0]                                   # 정수\n",
    "df.iloc[[0, 2]]                              # 정수 리스트\n",
    "df.iloc[range(2)]                            # range\n",
    "df.iloc[0:1]                                 # 슬라이싱\n",
    "df.iloc[1::2]                                # 스트라이딩\n",
    "df.iloc[[True, False, True]]                 # bool 리스트(권장하지 않음)\n",
    "df.iloc[list(df['A'] < 3)]                   # bool 리스트(권장하지 않음)\n",
    "#df.iloc[df['A'] < 3]                        # bool 리스트 (Error!)"
   ]
  },
  {
   "cell_type": "code",
   "execution_count": 29,
   "id": "5a25f65c-10fe-474c-93b8-d7dc30cc53d5",
   "metadata": {},
   "outputs": [
    {
     "data": {
      "text/html": [
       "<div>\n",
       "<style scoped>\n",
       "    .dataframe tbody tr th:only-of-type {\n",
       "        vertical-align: middle;\n",
       "    }\n",
       "\n",
       "    .dataframe tbody tr th {\n",
       "        vertical-align: top;\n",
       "    }\n",
       "\n",
       "    .dataframe thead th {\n",
       "        text-align: right;\n",
       "    }\n",
       "</style>\n",
       "<table border=\"1\" class=\"dataframe\">\n",
       "  <thead>\n",
       "    <tr style=\"text-align: right;\">\n",
       "      <th></th>\n",
       "      <th>A</th>\n",
       "      <th>B</th>\n",
       "      <th>C</th>\n",
       "      <th>D</th>\n",
       "    </tr>\n",
       "  </thead>\n",
       "  <tbody>\n",
       "    <tr>\n",
       "      <th>x</th>\n",
       "      <td>1</td>\n",
       "      <td>4</td>\n",
       "      <td>7</td>\n",
       "      <td>10</td>\n",
       "    </tr>\n",
       "    <tr>\n",
       "      <th>y</th>\n",
       "      <td>2</td>\n",
       "      <td>5</td>\n",
       "      <td>8</td>\n",
       "      <td>11</td>\n",
       "    </tr>\n",
       "  </tbody>\n",
       "</table>\n",
       "</div>"
      ],
      "text/plain": [
       "   A  B  C   D\n",
       "x  1  4  7  10\n",
       "y  2  5  8  11"
      ]
     },
     "execution_count": 29,
     "metadata": {},
     "output_type": "execute_result"
    }
   ],
   "source": [
    "# 행 인덱싱과 슬라이싱4\n",
    "# 인덱싱은 열을 참조하는 반면, 슬라이싱은 행을 참조함\n",
    "#df[0]                                       # Error!\n",
    "df[0:2]                                      # 권장하지 않음\n",
    "df['x':'y']                                  # 권장하지 않음\n",
    "df[df['A'] < 3]                              # 불리언 인덱싱은 행 단위로 적용됨"
   ]
  },
  {
   "cell_type": "code",
   "execution_count": 30,
   "id": "ad69c304-fe36-4b21-83c1-0f2a4fd8d2d1",
   "metadata": {},
   "outputs": [
    {
     "data": {
      "text/html": [
       "<div>\n",
       "<style scoped>\n",
       "    .dataframe tbody tr th:only-of-type {\n",
       "        vertical-align: middle;\n",
       "    }\n",
       "\n",
       "    .dataframe tbody tr th {\n",
       "        vertical-align: top;\n",
       "    }\n",
       "\n",
       "    .dataframe thead th {\n",
       "        text-align: right;\n",
       "    }\n",
       "</style>\n",
       "<table border=\"1\" class=\"dataframe\">\n",
       "  <thead>\n",
       "    <tr style=\"text-align: right;\">\n",
       "      <th></th>\n",
       "      <th>A</th>\n",
       "      <th>B</th>\n",
       "      <th>C</th>\n",
       "      <th>D</th>\n",
       "    </tr>\n",
       "  </thead>\n",
       "  <tbody>\n",
       "    <tr>\n",
       "      <th>0</th>\n",
       "      <td>1</td>\n",
       "      <td>4</td>\n",
       "      <td>7</td>\n",
       "      <td>10</td>\n",
       "    </tr>\n",
       "  </tbody>\n",
       "</table>\n",
       "</div>"
      ],
      "text/plain": [
       "   A  B  C   D\n",
       "0  1  4  7  10"
      ]
     },
     "execution_count": 30,
     "metadata": {},
     "output_type": "execute_result"
    }
   ],
   "source": [
    "# 행 인덱싱과 슬라이싱5\n",
    "df = pd.DataFrame({\n",
    "    'A': [1, 2, 3],\n",
    "    'B': [4, 5, 6],\n",
    "    'C': [7, 8, 9],\n",
    "    'D': [10, 11, 12]})\n",
    "\n",
    "df.loc[0:1]                                  # 명시적 인덱스(label) 사용 - 마지막 인덱스 포함\n",
    "df.iloc[0:1]                                 # 암묵적 인덱스(integer) 사용 - 마지막 인덱스 제외\n",
    "df[0:1]                                      # 암묵적 인덱스(integer) 사용, iloc와 동일"
   ]
  },
  {
   "cell_type": "markdown",
   "id": "7809f4f8-abd3-4c00-b11b-9261aa5b1f0d",
   "metadata": {},
   "source": [
    "<br>\n",
    "\n",
    "### 4.2.3. 데이터프레임 연산\n",
    "#### 4.2.3.1. 데이터프레임 기본 연산\n",
    "+ NumPy와 동일하게 벡터화, 브로드캐스팅 모두 지원\n",
    "+ 단항 연산: 인덱스와 열 레이블 보존\n",
    "+ 이항 연산: 인덱스와 열 레이블을 기준으로 자동 정렬되어 연산\n",
    "  + 위치가 아닌 동일한 레이블끼리 연산하며, 일치하지 않는 항목은 `NaN`으로 처리"
   ]
  },
  {
   "cell_type": "code",
   "execution_count": 31,
   "id": "31af2aa4-1453-410a-bb4f-68a3379accaf",
   "metadata": {},
   "outputs": [
    {
     "name": "stdout",
     "output_type": "stream",
     "text": [
      "0    3\n",
      "1    4\n",
      "2    5\n",
      "3    6\n",
      "4    7\n",
      "dtype: int64\n"
     ]
    }
   ],
   "source": [
    "# 단항 연산1 : Series\n",
    "sr = pd.Series([1, 2, 3, 4, 5])\n",
    "print(sr + 2)"
   ]
  },
  {
   "cell_type": "code",
   "execution_count": 32,
   "id": "748b415f-0fc1-4aa9-a3ab-104aabf862c6",
   "metadata": {},
   "outputs": [
    {
     "name": "stdout",
     "output_type": "stream",
     "text": [
      "          x         y\n",
      "0  0.000000  2.397895\n",
      "1  0.693147  2.484907\n",
      "2  1.098612  2.564949\n",
      "3  1.386294  2.639057\n",
      "4  1.609438  2.708050\n"
     ]
    }
   ],
   "source": [
    "# 단항 연산2 : DataFrame\n",
    "df = pd.DataFrame({\n",
    "    'x': [1, 2, 3, 4, 5],\n",
    "    'y': [11, 12, 13, 14, 15] \n",
    "})\n",
    "print(np.log(df))"
   ]
  },
  {
   "cell_type": "code",
   "execution_count": 33,
   "id": "bed5f6ba-f1d9-4d31-85d8-cce38d637875",
   "metadata": {},
   "outputs": [
    {
     "name": "stdout",
     "output_type": "stream",
     "text": [
      "Alice      180.0\n",
      "Bob          NaN\n",
      "Charlie    158.0\n",
      "David        NaN\n",
      "dtype: float64\n"
     ]
    }
   ],
   "source": [
    "# 이항 연산1 : Series\n",
    "# 두 시리즈에 존재하는 모든 행 인덱스를 포함한 결과 생성 (합집합처럼 동작)\n",
    "math = pd.Series({'Alice': 85, 'Bob': 90, 'Charlie': 78})\n",
    "english = pd.Series({'Alice': 95, 'Charlie': 80, 'David': 88})\n",
    "print(math + english)"
   ]
  },
  {
   "cell_type": "code",
   "execution_count": 34,
   "id": "687a2cd9-0692-4a65-b99e-d3fa8fd47f92",
   "metadata": {},
   "outputs": [
    {
     "name": "stdout",
     "output_type": "stream",
     "text": [
      "         english   math  science\n",
      "Alice        NaN  180.0      NaN\n",
      "Bob          NaN    NaN      NaN\n",
      "Charlie      NaN  166.0      NaN\n",
      "David        NaN    NaN      NaN\n"
     ]
    }
   ],
   "source": [
    "# 이항 연산2: DataFrame\n",
    "midterm = pd.DataFrame({\n",
    "    'math': [85, 90, 78],\n",
    "    'science': [88, 92, 79]\n",
    "}, index=['Alice', 'Bob', 'Charlie'])\n",
    "\n",
    "final = pd.DataFrame({\n",
    "    'math': [95, 88, 82],\n",
    "    'english': [95, 80, 88]\n",
    "}, index=['Alice', 'Charlie', 'David'])\n",
    "\n",
    "print(midterm + final)"
   ]
  },
  {
   "cell_type": "markdown",
   "id": "5cf6bedd-1e15-466e-8e7e-ed267aa06619",
   "metadata": {},
   "source": [
    "<br>\n",
    "\n",
    "#### 4.2.3.2. 연산자 메소드\n",
    "+ 인덱스와 열 레이블이 일치하지 않아도 연산 가능\n",
    "+ 예외 처리가 필요한 경우 기본 연산자보다 안정적임\n",
    "  + `fill_value` 인수를 사용하여 `NaN`를 다른 값으로 처리 가능\n",
    "\n",
    "|연산자|연산자 메소드|\n",
    "|:---:|:------------|\n",
    "|+|add()|\n",
    "|-|sub()|\n",
    "|*|mul()|\n",
    "|/|divide()|\n",
    "|//|floordiv()|\n",
    "|%|mod()|\n",
    "|**|pow()|"
   ]
  },
  {
   "cell_type": "code",
   "execution_count": 35,
   "id": "01d33c6d-b297-408d-9249-0ea93e629ac3",
   "metadata": {},
   "outputs": [
    {
     "name": "stdout",
     "output_type": "stream",
     "text": [
      "         english   math  science\n",
      "Alice        NaN  180.0      NaN\n",
      "Bob          NaN    NaN      NaN\n",
      "Charlie      NaN  166.0      NaN\n",
      "David        NaN    NaN      NaN\n"
     ]
    }
   ],
   "source": [
    "# 연산자 메소드1\n",
    "# midterm + final과 동일한 결과\n",
    "print(midterm.add(final))"
   ]
  },
  {
   "cell_type": "code",
   "execution_count": 36,
   "id": "c0679007-443d-4cd7-a48a-3065bbbd0724",
   "metadata": {},
   "outputs": [
    {
     "name": "stdout",
     "output_type": "stream",
     "text": [
      "         english   math  science\n",
      "Alice       95.0  180.0     88.0\n",
      "Bob          NaN   90.0     92.0\n",
      "Charlie     80.0  166.0     79.0\n",
      "David       88.0   82.0      NaN\n"
     ]
    }
   ],
   "source": [
    "# 연산자 메소드2\n",
    "# 하나의 데이터프레임에만 값이 있는 경우 0으로 처리하고, 둘 다 값이 없으면 NaN 반환\n",
    "print(midterm.add(final, fill_value = 0))"
   ]
  },
  {
   "cell_type": "markdown",
   "id": "749e0590-ffe3-4e03-8184-f6670a483ea1",
   "metadata": {},
   "source": [
    "<br>\n",
    "\n",
    "#### 4.2.3.3. 새로운 열 생성\n",
    "\n",
    "|함수|설명|\n",
    "|:---:|:------------|\n",
    "|assign()|기존 데이터프레임을 수정하지 않고, 새로운 열을 추가한 복사본을 반환|\n",
    "|eval()|수식을 문자열로 작성하여 열 간 계산을 간결하게 수행(직관적인 수식 표현)|\n",
    "|where()|조건에 따라 서로 다른 값을 선택하여 새로운 열 생성(NumPy 메소드)|"
   ]
  },
  {
   "cell_type": "code",
   "execution_count": 37,
   "id": "f15fa393-ff71-4e20-bb2c-bdc84fa1d77b",
   "metadata": {},
   "outputs": [
    {
     "name": "stdout",
     "output_type": "stream",
     "text": [
      "  product  price  quantity\n",
      "0       A    100        10\n",
      "1       B    200         5\n",
      "2       C    150         3\n",
      "3       D    300         7\n",
      "4       E    250         6\n"
     ]
    }
   ],
   "source": [
    "df = pd.DataFrame({\n",
    "    'product': ['A', 'B', 'C', 'D', 'E'],\n",
    "    'price': [100, 200, 150, 300, 250],\n",
    "    'quantity': [10, 5, 3, 7, 6]\n",
    "})\n",
    "print(df)"
   ]
  },
  {
   "cell_type": "code",
   "execution_count": 38,
   "id": "f8cd79cc-837d-4b35-b96f-219d1dd9f829",
   "metadata": {},
   "outputs": [
    {
     "name": "stdout",
     "output_type": "stream",
     "text": [
      "  product  price  quantity  total_price\n",
      "0       A    100        10         1000\n",
      "1       B    200         5         1000\n",
      "2       C    150         3          450\n",
      "3       D    300         7         2100\n",
      "4       E    250         6         1500\n"
     ]
    }
   ],
   "source": [
    "# 새로운 열 생성1: 기본 할당\n",
    "# 기본 할당은 데이터를 직접 수정하므로, 권장하지 않음\n",
    "df['total_price'] = df['price'] * df['quantity']\n",
    "print(df)"
   ]
  },
  {
   "cell_type": "code",
   "execution_count": 39,
   "id": "7b12c8a9-b011-4db8-b1d0-3e962a877276",
   "metadata": {},
   "outputs": [
    {
     "name": "stdout",
     "output_type": "stream",
     "text": [
      "  product  price  quantity  total_price\n",
      "0       A    100        10         1000\n",
      "1       B    200         5         1000\n",
      "2       C    150         3          450\n",
      "3       D    300         7         2100\n",
      "4       E    250         6         1500\n"
     ]
    }
   ],
   "source": [
    "# 새로운 열 생성2: assign() 사용\n",
    "print(df.assign(total_price = df['price'] * df['quantity']))"
   ]
  },
  {
   "cell_type": "code",
   "execution_count": 40,
   "id": "4a79813f-0f0d-4eba-963f-8037be408296",
   "metadata": {},
   "outputs": [
    {
     "name": "stdout",
     "output_type": "stream",
     "text": [
      "  product  price  quantity  total_price\n",
      "0       A    100        10         1000\n",
      "1       B    200         5         1000\n",
      "2       C    150         3          450\n",
      "3       D    300         7         2100\n",
      "4       E    250         6         1500\n"
     ]
    }
   ],
   "source": [
    "# 새로운 열 생성3: eval() 사용\n",
    "# inplace=True: 기존 데이터프레임에 직접 적용(새 객체를 반환하지 않음)\n",
    "df.eval('total_price = price * quantity', inplace=True)\n",
    "print(df)"
   ]
  },
  {
   "cell_type": "code",
   "execution_count": 41,
   "id": "63fb8f47-6d6a-48e8-9f1f-b6936c8ace5d",
   "metadata": {},
   "outputs": [
    {
     "name": "stdout",
     "output_type": "stream",
     "text": [
      "  product  price  quantity  total_price price_category\n",
      "0       A    100        10         1000     Affordable\n",
      "1       B    200         5         1000      Expensive\n",
      "2       C    150         3          450     Affordable\n",
      "3       D    300         7         2100      Expensive\n",
      "4       E    250         6         1500      Expensive\n"
     ]
    }
   ],
   "source": [
    "# 새로운 열 생성4: where() 사용\n",
    "# 가격이 200 이상이면 'Expensive', 아니면 'Affordable'로 구분\n",
    "df['price_category'] = np.where(df['price'] >= 200, 'Expensive', 'Affordable')\n",
    "print(df)"
   ]
  },
  {
   "cell_type": "markdown",
   "id": "153d725b-2abb-49bd-91e8-69c625b645b0",
   "metadata": {},
   "source": [
    "<br>\n",
    "\n",
    "#### 4.2.3.4. 데이터프레임 집계\n",
    "+ NumPy와 동일한 축 개념 사용\n",
    "  + axis=0 : 행 방향 연산(열 단위로 요약)\n",
    "  + axis 1 : 열 방향 연산(행 단위로 요약)\n",
    "+ 수치형 데이터에 적용되며, NaN은 기본적으로 제외됨\n",
    "\n",
    "|함수|설명|\n",
    "|:---:|:------------|\n",
    "|count()|NaN를 제외한 행의 개수|\n",
    "|value_counts()|집단별 빈도|\n",
    "|sum()|합계|\n",
    "|mean()|평균|\n",
    "|std()|표준편차|\n",
    "|median()|중앙값|\n",
    "|min(), max()|최소값, 최대값|\n",
    "|cumsum(), cumprod()|누적 합계, 누적 곱|"
   ]
  },
  {
   "cell_type": "code",
   "execution_count": 42,
   "id": "88db43cc-a649-47f7-b29a-a8f458562b6a",
   "metadata": {},
   "outputs": [],
   "source": [
    "## 실습 데이터 : tips 데이터셋\n",
    "import seaborn as sns\n",
    "tips = sns.load_dataset('tips')"
   ]
  },
  {
   "cell_type": "code",
   "execution_count": 43,
   "id": "11ee3987-5e9f-4f48-94a5-4bf2288ee5d9",
   "metadata": {},
   "outputs": [
    {
     "name": "stdout",
     "output_type": "stream",
     "text": [
      "<class 'pandas.core.frame.DataFrame'>\n",
      "RangeIndex: 244 entries, 0 to 243\n",
      "Data columns (total 7 columns):\n",
      " #   Column      Non-Null Count  Dtype   \n",
      "---  ------      --------------  -----   \n",
      " 0   total_bill  244 non-null    float64 \n",
      " 1   tip         244 non-null    float64 \n",
      " 2   sex         244 non-null    category\n",
      " 3   smoker      244 non-null    category\n",
      " 4   day         244 non-null    category\n",
      " 5   time        244 non-null    category\n",
      " 6   size        244 non-null    int64   \n",
      "dtypes: category(4), float64(2), int64(1)\n",
      "memory usage: 7.4 KB\n",
      "None\n"
     ]
    }
   ],
   "source": [
    "# total_bill: 식사 금액\n",
    "# tip: 팁 금액\n",
    "# sex: 성별\n",
    "# smoker: 흡연 여부\n",
    "# day: 요일\n",
    "# time: 식사 시간(Lunch, Dinner)\n",
    "# size: 식사 인원 수\n",
    "print(tips.info())"
   ]
  },
  {
   "cell_type": "code",
   "execution_count": 44,
   "id": "a301d2da-916d-45c9-ab5c-cfe9a3047a25",
   "metadata": {},
   "outputs": [
    {
     "name": "stdout",
     "output_type": "stream",
     "text": [
      "   total_bill   tip     sex smoker  day    time  size\n",
      "0       16.99  1.01  Female     No  Sun  Dinner     2\n",
      "1       10.34  1.66    Male     No  Sun  Dinner     3\n",
      "2       21.01  3.50    Male     No  Sun  Dinner     3\n",
      "3       23.68  3.31    Male     No  Sun  Dinner     2\n",
      "4       24.59  3.61  Female     No  Sun  Dinner     4\n"
     ]
    }
   ],
   "source": [
    "print(tips.head())"
   ]
  },
  {
   "cell_type": "code",
   "execution_count": 45,
   "id": "5d985c1e-6ca2-4fb3-830c-aa48582d8ada",
   "metadata": {},
   "outputs": [
    {
     "name": "stdout",
     "output_type": "stream",
     "text": [
      "       total_bill         tip        size\n",
      "count  244.000000  244.000000  244.000000\n",
      "mean    19.785943    2.998279    2.569672\n",
      "std      8.902412    1.383638    0.951100\n",
      "min      3.070000    1.000000    1.000000\n",
      "25%     13.347500    2.000000    2.000000\n",
      "50%     17.795000    2.900000    2.000000\n",
      "75%     24.127500    3.562500    3.000000\n",
      "max     50.810000   10.000000    6.000000\n"
     ]
    }
   ],
   "source": [
    "print(tips.describe())"
   ]
  },
  {
   "cell_type": "code",
   "execution_count": 46,
   "id": "b865d326-7e47-46e6-ae0d-a1db6a4a5ccb",
   "metadata": {},
   "outputs": [
    {
     "name": "stdout",
     "output_type": "stream",
     "text": [
      "total_bill    244\n",
      "tip           244\n",
      "sex           244\n",
      "smoker        244\n",
      "day           244\n",
      "time          244\n",
      "size          244\n",
      "dtype: int64\n"
     ]
    }
   ],
   "source": [
    "# 각 열의 유효한 데이터 수 (NaN 제외)\n",
    "print(tips.count())"
   ]
  },
  {
   "cell_type": "code",
   "execution_count": 47,
   "id": "65e15b66-902e-4d04-b67e-0c0c3ef2ce68",
   "metadata": {},
   "outputs": [
    {
     "name": "stdout",
     "output_type": "stream",
     "text": [
      "time\n",
      "Dinner    176\n",
      "Lunch      68\n",
      "Name: count, dtype: int64\n"
     ]
    }
   ],
   "source": [
    "# 식사 시간별 주문 수\n",
    "print(tips.value_counts('time'))"
   ]
  },
  {
   "cell_type": "code",
   "execution_count": 48,
   "id": "2ad1e0b3-cbf2-48db-9680-fc7b066ebd50",
   "metadata": {},
   "outputs": [
    {
     "name": "stdout",
     "output_type": "stream",
     "text": [
      "total_bill    4827.77\n",
      "tip            731.58\n",
      "size           627.00\n",
      "dtype: float64\n"
     ]
    }
   ],
   "source": [
    "# 전체(합계) 식사 금액, 팁 금액, 식사 인원 수\n",
    "print(tips[['total_bill', 'tip', 'size']].sum())"
   ]
  },
  {
   "cell_type": "code",
   "execution_count": 49,
   "id": "3a4bc19d-d6d2-40cf-b41c-be70ce6913da",
   "metadata": {},
   "outputs": [
    {
     "name": "stdout",
     "output_type": "stream",
     "text": [
      "7.888229508196722\n"
     ]
    }
   ],
   "source": [
    "# 고객 1인당 평균 식사 금액\n",
    "print((tips['total_bill'] / tips['size']).mean())"
   ]
  },
  {
   "cell_type": "code",
   "execution_count": 50,
   "id": "e46bcb13-772f-4fdb-8729-da774daa7f74",
   "metadata": {},
   "outputs": [
    {
     "name": "stdout",
     "output_type": "stream",
     "text": [
      "1.2127616120218578\n"
     ]
    }
   ],
   "source": [
    "# 고객 1인당 평균 팁 금액\n",
    "print((tips['tip'] / tips['size']).mean())"
   ]
  },
  {
   "cell_type": "code",
   "execution_count": 51,
   "id": "a0cb702f-31ab-4a36-b558-7a2266723241",
   "metadata": {},
   "outputs": [
    {
     "name": "stdout",
     "output_type": "stream",
     "text": [
      "0      0.059447\n",
      "1      0.160542\n",
      "2      0.166587\n",
      "3      0.139780\n",
      "4      0.146808\n",
      "         ...   \n",
      "239    0.203927\n",
      "240    0.073584\n",
      "241    0.088222\n",
      "242    0.098204\n",
      "243    0.159744\n",
      "Length: 244, dtype: float64\n"
     ]
    }
   ],
   "source": [
    "# 전체 식사 금액에서 팁이 차지하는 비율\n",
    "print(tips['tip'] / tips['total_bill'])"
   ]
  },
  {
   "cell_type": "code",
   "execution_count": 52,
   "id": "428dfd71-102e-4f69-b1a8-a73dfc0eb5f1",
   "metadata": {},
   "outputs": [
    {
     "name": "stdout",
     "output_type": "stream",
     "text": [
      "count    244.000000\n",
      "mean       0.160803\n",
      "std        0.061072\n",
      "min        0.035638\n",
      "25%        0.129127\n",
      "50%        0.154770\n",
      "75%        0.191475\n",
      "max        0.710345\n",
      "dtype: float64\n"
     ]
    }
   ],
   "source": [
    "# 전체 식사 금액에서 팁이 차지하는 비율에 대한 요약 통계량\n",
    "print((tips['tip'] / tips['total_bill']).describe())"
   ]
  },
  {
   "cell_type": "code",
   "execution_count": 53,
   "id": "d870dfeb-2622-4b49-9f83-ec7989ea3a5a",
   "metadata": {},
   "outputs": [
    {
     "name": "stdout",
     "output_type": "stream",
     "text": [
      "     total_bill   tip   sex smoker  day    time  size\n",
      "172        7.25  5.15  Male    Yes  Sun  Dinner     2\n"
     ]
    }
   ],
   "source": [
    "# 전체 식사 금액에서 팁이 차지하는 비율이 50% 이상인 경우\n",
    "print(tips[tips['tip'] / tips['total_bill'] >= 0.5])"
   ]
  },
  {
   "cell_type": "markdown",
   "id": "3feba27f-b0be-4b77-9ec0-6b68fe0936c6",
   "metadata": {},
   "source": [
    "<br>\n",
    "\n",
    "### 4.2.4. 고급 데이터 처리\n",
    "#### 4.2.4.1. 데이터프레임 집단별 연산\n",
    "+ `groupby()` 함수를 이용하여 특정 열을 기준으로 데이터를 집단화한 후, 다양한 연산 수행 가능\n",
    "+ SQL의 GROUP BY와 유사한 기능을 제공하며, 집계, 변환, 필터링을 지원\n",
    " \n",
    "|함수|설명|\n",
    "|:---:|:------------|\n",
    "|aggregate() 또는 agg()|여러 집계 함수를 동시에 적용(문자열, 함수, 리스트 등 가능)|\n",
    "|filter()|집단별 집계 결과를 조건으로 집단 자체를 필터링|\n",
    "|transform()|집단별 연산 결과를 원래 구조와 같은 형태로 반환(원소 개수 유지)|\n",
    "|apply()|임의의 함수를 전체 집단에 유연하게 적용(집계, 반환 모두 가능)|"
   ]
  },
  {
   "cell_type": "code",
   "execution_count": 54,
   "id": "70fe9fed-31c9-4bd9-981f-a2387d5e1624",
   "metadata": {},
   "outputs": [],
   "source": [
    "#  실습 데이터 : tips 데이터셋\n",
    "tips = sns.load_dataset('tips')"
   ]
  },
  {
   "cell_type": "code",
   "execution_count": 55,
   "id": "fcd730ec-1e9a-464d-ab1f-893767930c0e",
   "metadata": {},
   "outputs": [
    {
     "name": "stdout",
     "output_type": "stream",
     "text": [
      "day\n",
      "Thur    17.682742\n",
      "Fri     17.151579\n",
      "Sat     20.441379\n",
      "Sun     21.410000\n",
      "Name: total_bill, dtype: float64\n"
     ]
    }
   ],
   "source": [
    "# 요일별 평균 식사 금액\n",
    "# observed=False: 모든 범주 포함, 실제 데이터가 없으면 NaN\n",
    "print(tips.groupby('day', observed=False)['total_bill'].mean())"
   ]
  },
  {
   "cell_type": "code",
   "execution_count": 56,
   "id": "dd586284-2675-4376-93cf-67f83fa89e25",
   "metadata": {},
   "outputs": [
    {
     "name": "stdout",
     "output_type": "stream",
     "text": [
      "       total_bill                 tip          \n",
      "             mean       std      mean       std\n",
      "time                                           \n",
      "Lunch   17.168676  7.713882  2.728088  1.205345\n",
      "Dinner  20.797159  9.142029  3.102670  1.436243\n"
     ]
    }
   ],
   "source": [
    "# 식사 시간별 식사 금액, 팁 금액의 평균 및 표준편차\n",
    "print(tips.groupby('time', observed=False)[['total_bill', 'tip']].agg(['mean', 'std']))"
   ]
  },
  {
   "cell_type": "code",
   "execution_count": 57,
   "id": "c76ba26c-3f09-45bf-ab2c-de9a79843cc2",
   "metadata": {},
   "outputs": [
    {
     "name": "stdout",
     "output_type": "stream",
     "text": [
      "     time  total_bill   tip\n",
      "0   Lunch       43.11  1.25\n",
      "1  Dinner       50.81  1.00\n"
     ]
    }
   ],
   "source": [
    "# 식사 시간별 식사 금액의 최대값, 팁 금액의 최소값: 딕셔너리 사용\n",
    "print(tips.groupby('time', observed=False).agg({'total_bill': 'max', 'tip': 'min'}).reset_index())"
   ]
  },
  {
   "cell_type": "code",
   "execution_count": 58,
   "id": "36faf4e2-e1c7-4eae-a6f2-a87e224d7680",
   "metadata": {},
   "outputs": [
    {
     "name": "stdout",
     "output_type": "stream",
     "text": [
      "     time  total_bill_max  tip_min\n",
      "0   Lunch           43.11     1.25\n",
      "1  Dinner           50.81     1.00\n"
     ]
    }
   ],
   "source": [
    "# 식사 시간별 식사 금액의 최대값, 팁 금액의 최소값: 튜플 사용, named aggregation 문법\n",
    "print(tips.groupby('time', observed=False).agg(total_bill_max = ('total_bill', 'max'), tip_min = ('tip', 'min')).reset_index())"
   ]
  },
  {
   "cell_type": "markdown",
   "id": "364cf65c-fcaa-4ee9-acc7-cdcc55d12471",
   "metadata": {},
   "source": [
    "\n",
    "<br>\n",
    "\n",
    "+ [참고] 람다 함수(lamdba function)\n",
    "  + 함수 이름 없이 일시적으로 정의해 사용할 수 있는 익명 함수\n",
    "  + `def`, `return` 없이 간단한 함수 로직을 한 줄로 표현\n",
    "  + 구조는 일반 함수와 같지만, 주로 짧고 단순한 연산에 사용\n",
    "  + `apply()`, `filter()` 등 함수의 인수로 전달할 때 유용하게 활용"
   ]
  },
  {
   "cell_type": "code",
   "execution_count": 59,
   "id": "e3ecaf4a-2469-4df5-9eeb-87caa949c820",
   "metadata": {},
   "outputs": [
    {
     "data": {
      "text/plain": [
       "5"
      ]
     },
     "execution_count": 59,
     "metadata": {},
     "output_type": "execute_result"
    }
   ],
   "source": [
    "# 함수 정의\n",
    "def f(x, y):\n",
    "    return x + y\n",
    "f(1, 4)"
   ]
  },
  {
   "cell_type": "code",
   "execution_count": 60,
   "id": "fa79c106-cfcf-4af6-815a-7426a0653f4a",
   "metadata": {},
   "outputs": [
    {
     "data": {
      "text/plain": [
       "5"
      ]
     },
     "execution_count": 60,
     "metadata": {},
     "output_type": "execute_result"
    }
   ],
   "source": [
    "# 람다 함수\n",
    "(lambda x, y: x + y)(1, 4)"
   ]
  },
  {
   "cell_type": "code",
   "execution_count": 61,
   "id": "840dbf05-dd8f-42dc-bafb-c821f7eab060",
   "metadata": {},
   "outputs": [
    {
     "name": "stdout",
     "output_type": "stream",
     "text": [
      "     total_bill   tip     sex smoker  day    time  size\n",
      "0         16.99  1.01  Female     No  Sun  Dinner     2\n",
      "1         10.34  1.66    Male     No  Sun  Dinner     3\n",
      "2         21.01  3.50    Male     No  Sun  Dinner     3\n",
      "3         23.68  3.31    Male     No  Sun  Dinner     2\n",
      "4         24.59  3.61  Female     No  Sun  Dinner     4\n",
      "..          ...   ...     ...    ...  ...     ...   ...\n",
      "186       20.90  3.50  Female    Yes  Sun  Dinner     3\n",
      "187       30.46  2.00    Male    Yes  Sun  Dinner     5\n",
      "188       18.15  3.50  Female    Yes  Sun  Dinner     3\n",
      "189       23.10  4.00    Male    Yes  Sun  Dinner     3\n",
      "190       15.69  1.50    Male    Yes  Sun  Dinner     2\n",
      "\n",
      "[76 rows x 7 columns]\n"
     ]
    }
   ],
   "source": [
    "# 팀 금액 평균이 3달러 이상인 요일 데이터 필터링: 함수 정의\n",
    "def filter_tip_avg(x):\n",
    "    return x['tip'].mean() >= 3\n",
    "\n",
    "print(tips.groupby('day', observed=False).filter(filter_tip_avg))"
   ]
  },
  {
   "cell_type": "code",
   "execution_count": 62,
   "id": "3db507e9-fd47-4f5a-94d5-40960f10719c",
   "metadata": {},
   "outputs": [
    {
     "name": "stdout",
     "output_type": "stream",
     "text": [
      "     total_bill   tip     sex smoker  day    time  size\n",
      "0         16.99  1.01  Female     No  Sun  Dinner     2\n",
      "1         10.34  1.66    Male     No  Sun  Dinner     3\n",
      "2         21.01  3.50    Male     No  Sun  Dinner     3\n",
      "3         23.68  3.31    Male     No  Sun  Dinner     2\n",
      "4         24.59  3.61  Female     No  Sun  Dinner     4\n",
      "..          ...   ...     ...    ...  ...     ...   ...\n",
      "186       20.90  3.50  Female    Yes  Sun  Dinner     3\n",
      "187       30.46  2.00    Male    Yes  Sun  Dinner     5\n",
      "188       18.15  3.50  Female    Yes  Sun  Dinner     3\n",
      "189       23.10  4.00    Male    Yes  Sun  Dinner     3\n",
      "190       15.69  1.50    Male    Yes  Sun  Dinner     2\n",
      "\n",
      "[76 rows x 7 columns]\n"
     ]
    }
   ],
   "source": [
    "# 팀 금액 평균이 3달러 이상인 요일 데이터 필터링: 람다 함수 사용\n",
    "print(tips.groupby('day', observed=False).filter(lambda x: x['tip'].mean() >= 3))"
   ]
  },
  {
   "cell_type": "code",
   "execution_count": 63,
   "id": "f4a68296-bb59-4670-a3e8-c58f18c940d6",
   "metadata": {},
   "outputs": [
    {
     "name": "stdout",
     "output_type": "stream",
     "text": [
      "      sex   tip   tip_dev\n",
      "0  Female  1.01 -1.823448\n",
      "1    Male  1.66 -1.429618\n",
      "2    Male  3.50  0.410382\n",
      "3    Male  3.31  0.220382\n",
      "4  Female  3.61  0.776552\n"
     ]
    }
   ],
   "source": [
    "# 성별 팁 금액의 편차\n",
    "tips['tip_dev'] = tips.groupby('sex', observed=False)['tip'].transform(lambda x: x - x.mean())\n",
    "print(tips[['sex', 'tip', 'tip_dev']].head())"
   ]
  },
  {
   "cell_type": "code",
   "execution_count": 64,
   "id": "976347d6-5466-4473-a7d6-92f2eb104f30",
   "metadata": {},
   "outputs": [
    {
     "name": "stdout",
     "output_type": "stream",
     "text": [
      "time\n",
      "Lunch     1.2875\n",
      "Dinner    1.6875\n",
      "Name: tip, dtype: float64\n"
     ]
    }
   ],
   "source": [
    "# 식사 시간별 팁 금액의 사분위수범위: 함수 정의\n",
    "def iqr(x):\n",
    "    return x.quantile(0.75) - x.quantile(0.25)\n",
    "\n",
    "print(tips.groupby('time', observed=False)['tip'].apply(iqr))"
   ]
  },
  {
   "cell_type": "code",
   "execution_count": 65,
   "id": "31b245eb-8a4b-48c3-aea4-8ef2e0170766",
   "metadata": {},
   "outputs": [
    {
     "name": "stdout",
     "output_type": "stream",
     "text": [
      "time\n",
      "Lunch     1.2875\n",
      "Dinner    1.6875\n",
      "Name: tip, dtype: float64\n"
     ]
    }
   ],
   "source": [
    "# 식사 시간별 팁 금액의 사분위수범위: 람다 함수 사용\n",
    "print(tips.groupby('time', observed=False)['tip'].apply(lambda x: x.quantile(0.75) - x.quantile(0.25)))"
   ]
  },
  {
   "cell_type": "markdown",
   "id": "afa590ed-8df8-4c7a-9ba1-a26017631aad",
   "metadata": {},
   "source": [
    "<br>\n",
    "\n",
    "#### 4.2.4.2. 수식 및 조건식 기반 데이터 처리\n",
    "+ eval(), query() 메소드를 사용하면 문자열 형태의 표현식을 통해 데이터를 보다 직관적으로 처리 가능\n",
    "+ 복잡한 연산이나 조건 필터링을 간결하게 표현할 수 있어 가독성과 성능 모두에 유리함\n",
    "  + 데이터프레임의 열 이름을 따옴표 없이 사용 가능\n",
    "  + 외부 변수는 `@` 기호를 사용하여 표현식에 표현 가능\n",
    "\n",
    "\n",
    "|함수|설명|\n",
    "|:---:|:------------|\n",
    "|eval()|- 문자열로 작성한 수식을 이용하여 기존 열을 연산하거나 새로운 열을 생성 <br>- Python 표현식을 그대로 사용할 수 있어 가독성이 높음|\n",
    "|query()|- 문자열로 작성한 조건식을 이용하여 행을 필터링<br>- 복잡한 불리언 인덱싱보다 간결하고 직관적인 문법 제공 <br>- 논리 연산자는 `&`, `\\|`, `~`의 사용을 권장하며, 각 조건은 괄호 ()로 감싸야 함|"
   ]
  },
  {
   "cell_type": "code",
   "execution_count": 66,
   "id": "81ce16bf-a6e5-448b-863d-5da6f2bbbd7c",
   "metadata": {},
   "outputs": [],
   "source": [
    "#  실습 데이터 : tips 데이터셋\n",
    "tips = sns.load_dataset('tips')"
   ]
  },
  {
   "cell_type": "code",
   "execution_count": 67,
   "id": "e72245e7-8569-477b-9446-7ec2781670fc",
   "metadata": {},
   "outputs": [
    {
     "name": "stdout",
     "output_type": "stream",
     "text": [
      "     total_bill   tip     sex smoker   day    time  size\n",
      "0        15.291  1.01  Female     No   Sun  Dinner     2\n",
      "1         9.306  1.66    Male     No   Sun  Dinner     3\n",
      "2        18.909  3.50    Male     No   Sun  Dinner     3\n",
      "3        21.312  3.31    Male     No   Sun  Dinner     2\n",
      "4        22.131  3.61  Female     No   Sun  Dinner     4\n",
      "..          ...   ...     ...    ...   ...     ...   ...\n",
      "239      26.127  5.92    Male     No   Sat  Dinner     3\n",
      "240      24.462  2.00  Female    Yes   Sat  Dinner     2\n",
      "241      20.403  2.00    Male    Yes   Sat  Dinner     2\n",
      "242      16.038  1.75    Male     No   Sat  Dinner     2\n",
      "243      16.902  3.00  Female     No  Thur  Dinner     2\n",
      "\n",
      "[244 rows x 7 columns]\n"
     ]
    }
   ],
   "source": [
    "# 기존 열 연산: 식사 금액에서 세금 10%를 제외한 실수령 금액\n",
    "print(tips.eval('total_bill = total_bill * 0.9'))"
   ]
  },
  {
   "cell_type": "code",
   "execution_count": 68,
   "id": "5ab4a755-77b9-462b-8b30-3e0a4e4ba94f",
   "metadata": {},
   "outputs": [
    {
     "name": "stdout",
     "output_type": "stream",
     "text": [
      "     total_bill   tip     sex smoker   day    time  size  tip_rate\n",
      "0         16.99  1.01  Female     No   Sun  Dinner     2  0.059447\n",
      "1         10.34  1.66    Male     No   Sun  Dinner     3  0.160542\n",
      "2         21.01  3.50    Male     No   Sun  Dinner     3  0.166587\n",
      "3         23.68  3.31    Male     No   Sun  Dinner     2  0.139780\n",
      "4         24.59  3.61  Female     No   Sun  Dinner     4  0.146808\n",
      "..          ...   ...     ...    ...   ...     ...   ...       ...\n",
      "239       29.03  5.92    Male     No   Sat  Dinner     3  0.203927\n",
      "240       27.18  2.00  Female    Yes   Sat  Dinner     2  0.073584\n",
      "241       22.67  2.00    Male    Yes   Sat  Dinner     2  0.088222\n",
      "242       17.82  1.75    Male     No   Sat  Dinner     2  0.098204\n",
      "243       18.78  3.00  Female     No  Thur  Dinner     2  0.159744\n",
      "\n",
      "[244 rows x 8 columns]\n"
     ]
    }
   ],
   "source": [
    "# 새로운 열 생성: 전체 식사 금액 대비 팁 금액 비율\n",
    "# inplace=True: 기존 데이터프레임에 직접 적용(새 객체를 반환하지 않음)\n",
    "tips.eval('tip_rate = tip / total_bill', inplace=True)\n",
    "print(tips)"
   ]
  },
  {
   "cell_type": "code",
   "execution_count": 69,
   "id": "e22e1374-9311-45f3-bdb1-994c56286b08",
   "metadata": {},
   "outputs": [
    {
     "name": "stdout",
     "output_type": "stream",
     "text": [
      "     total_bill   tip     sex smoker   day    time  size  tip_rate  min_tip\n",
      "0         16.99  1.01  Female     No   Sun  Dinner     2  0.059447   2.5485\n",
      "1         10.34  1.66    Male     No   Sun  Dinner     3  0.160542   1.5510\n",
      "2         21.01  3.50    Male     No   Sun  Dinner     3  0.166587   3.1515\n",
      "3         23.68  3.31    Male     No   Sun  Dinner     2  0.139780   3.5520\n",
      "4         24.59  3.61  Female     No   Sun  Dinner     4  0.146808   3.6885\n",
      "..          ...   ...     ...    ...   ...     ...   ...       ...      ...\n",
      "239       29.03  5.92    Male     No   Sat  Dinner     3  0.203927   4.3545\n",
      "240       27.18  2.00  Female    Yes   Sat  Dinner     2  0.073584   4.0770\n",
      "241       22.67  2.00    Male    Yes   Sat  Dinner     2  0.088222   3.4005\n",
      "242       17.82  1.75    Male     No   Sat  Dinner     2  0.098204   2.6730\n",
      "243       18.78  3.00  Female     No  Thur  Dinner     2  0.159744   2.8170\n",
      "\n",
      "[244 rows x 9 columns]\n"
     ]
    }
   ],
   "source": [
    "# 외부 변수 사용: 전체 식사 금액에 따른 기본(최소) 팁 금액\n",
    "tip_percentage = 0.15\n",
    "tips.eval('min_tip = total_bill * @tip_percentage', inplace = True)\n",
    "print(tips)"
   ]
  },
  {
   "cell_type": "code",
   "execution_count": 70,
   "id": "fcb776e1-0707-496a-92ba-8bb8287d1c7d",
   "metadata": {},
   "outputs": [
    {
     "name": "stdout",
     "output_type": "stream",
     "text": [
      "tip_group\n",
      "Above    136\n",
      "Below    108\n",
      "Name: count, dtype: int64\n"
     ]
    }
   ],
   "source": [
    "# 기본(최소) 팁 금액보다 적게 준 경우 'Below', 많거나 같은 경우 'Above'로 구분\n",
    "# 기본(최소) 팁 금액보다 적게 준 경우는 108팀임\n",
    "tips['tip_group'] = np.where(tips['tip'] < tips['min_tip'], 'Below', 'Above')\n",
    "print(tips['tip_group'].value_counts())"
   ]
  },
  {
   "cell_type": "code",
   "execution_count": 71,
   "id": "32887bfc-35e4-4586-a4bc-0d50c5aef7b9",
   "metadata": {},
   "outputs": [
    {
     "name": "stdout",
     "output_type": "stream",
     "text": [
      "     total_bill   tip     sex smoker  day    time  size  tip_rate  min_tip  \\\n",
      "2         21.01  3.50    Male     No  Sun  Dinner     3  0.166587   3.1515   \n",
      "3         23.68  3.31    Male     No  Sun  Dinner     2  0.139780   3.5520   \n",
      "4         24.59  3.61  Female     No  Sun  Dinner     4  0.146808   3.6885   \n",
      "5         25.29  4.71    Male     No  Sun  Dinner     4  0.186240   3.7935   \n",
      "7         26.88  3.12    Male     No  Sun  Dinner     4  0.116071   4.0320   \n",
      "..          ...   ...     ...    ...  ...     ...   ...       ...      ...   \n",
      "237       32.83  1.17    Male    Yes  Sat  Dinner     2  0.035638   4.9245   \n",
      "238       35.83  4.67  Female     No  Sat  Dinner     3  0.130338   5.3745   \n",
      "239       29.03  5.92    Male     No  Sat  Dinner     3  0.203927   4.3545   \n",
      "240       27.18  2.00  Female    Yes  Sat  Dinner     2  0.073584   4.0770   \n",
      "241       22.67  2.00    Male    Yes  Sat  Dinner     2  0.088222   3.4005   \n",
      "\n",
      "    tip_group  \n",
      "2       Above  \n",
      "3       Below  \n",
      "4       Below  \n",
      "5       Above  \n",
      "7       Below  \n",
      "..        ...  \n",
      "237     Below  \n",
      "238     Below  \n",
      "239     Above  \n",
      "240     Below  \n",
      "241     Below  \n",
      "\n",
      "[97 rows x 10 columns]\n"
     ]
    }
   ],
   "source": [
    "# 단일 조건 필터링: 식사 금액이 20달러 이상인 경우\n",
    "print(tips.query('total_bill >= 20'))"
   ]
  },
  {
   "cell_type": "code",
   "execution_count": 72,
   "id": "dc7a55e2-f747-47ad-a837-b0be96eb406a",
   "metadata": {},
   "outputs": [
    {
     "name": "stdout",
     "output_type": "stream",
     "text": [
      "     total_bill   tip     sex smoker   day   time  size  tip_rate  min_tip  \\\n",
      "77        27.20  4.00    Male     No  Thur  Lunch     4  0.147059   4.0800   \n",
      "85        34.83  5.17  Female     No  Thur  Lunch     4  0.148435   5.2245   \n",
      "119       24.08  2.92  Female     No  Thur  Lunch     4  0.121262   3.6120   \n",
      "125       29.80  4.20  Female     No  Thur  Lunch     6  0.140940   4.4700   \n",
      "129       22.82  2.18    Male     No  Thur  Lunch     3  0.095530   3.4230   \n",
      "141       34.30  6.70    Male     No  Thur  Lunch     6  0.195335   5.1450   \n",
      "142       41.19  5.00    Male     No  Thur  Lunch     5  0.121389   6.1785   \n",
      "143       27.05  5.00  Female     No  Thur  Lunch     6  0.184843   4.0575   \n",
      "146       18.64  1.36  Female     No  Thur  Lunch     3  0.072961   2.7960   \n",
      "197       43.11  5.00  Female    Yes  Thur  Lunch     4  0.115982   6.4665   \n",
      "200       18.71  4.00    Male    Yes  Thur  Lunch     3  0.213789   2.8065   \n",
      "204       20.53  4.00    Male    Yes  Thur  Lunch     4  0.194837   3.0795   \n",
      "205       16.47  3.23  Female    Yes  Thur  Lunch     3  0.196114   2.4705   \n",
      "\n",
      "    tip_group  \n",
      "77      Below  \n",
      "85      Below  \n",
      "119     Below  \n",
      "125     Below  \n",
      "129     Below  \n",
      "141     Above  \n",
      "142     Below  \n",
      "143     Above  \n",
      "146     Below  \n",
      "197     Below  \n",
      "200     Above  \n",
      "204     Above  \n",
      "205     Above  \n"
     ]
    }
   ],
   "source": [
    "# 다중 조건 필터링: 식사 인원 수가 3명 이상이고, 목요일에 방문한 경우\n",
    "#print(tips.query('size >= 3 and day == \"Thur\"'))           # 권장하지 않음, 조건이 복잡할 경우 오류가 발생할 수 있음\n",
    "print(tips.query('(size >= 3) & (day == \"Thur\")'))          # 권장 방식: 괄호로 각 조건을 명확히 구분"
   ]
  },
  {
   "cell_type": "code",
   "execution_count": 73,
   "id": "32a30378-2e6a-4692-b27e-1d5dbaa4e354",
   "metadata": {},
   "outputs": [
    {
     "name": "stdout",
     "output_type": "stream",
     "text": [
      "     total_bill   tip     sex smoker   day    time  size  tip_rate  min_tip  \\\n",
      "0         16.99  1.01  Female     No   Sun  Dinner     2  0.059447   2.5485   \n",
      "1         10.34  1.66    Male     No   Sun  Dinner     3  0.160542   1.5510   \n",
      "2         21.01  3.50    Male     No   Sun  Dinner     3  0.166587   3.1515   \n",
      "3         23.68  3.31    Male     No   Sun  Dinner     2  0.139780   3.5520   \n",
      "4         24.59  3.61  Female     No   Sun  Dinner     4  0.146808   3.6885   \n",
      "..          ...   ...     ...    ...   ...     ...   ...       ...      ...   \n",
      "238       35.83  4.67  Female     No   Sat  Dinner     3  0.130338   5.3745   \n",
      "240       27.18  2.00  Female    Yes   Sat  Dinner     2  0.073584   4.0770   \n",
      "241       22.67  2.00    Male    Yes   Sat  Dinner     2  0.088222   3.4005   \n",
      "242       17.82  1.75    Male     No   Sat  Dinner     2  0.098204   2.6730   \n",
      "243       18.78  3.00  Female     No  Thur  Dinner     2  0.159744   2.8170   \n",
      "\n",
      "    tip_group  \n",
      "0       Below  \n",
      "1       Above  \n",
      "2       Above  \n",
      "3       Below  \n",
      "4       Below  \n",
      "..        ...  \n",
      "238     Below  \n",
      "240     Below  \n",
      "241     Below  \n",
      "242     Below  \n",
      "243     Above  \n",
      "\n",
      "[216 rows x 10 columns]\n"
     ]
    }
   ],
   "source": [
    "# 외부 변수 사용: 기준 팁 금액 미만인 경우\n",
    "min_tip_required = 5\n",
    "print(tips.query('tip < @min_tip_required'))"
   ]
  },
  {
   "cell_type": "code",
   "execution_count": 74,
   "id": "4d401e18-5234-4240-bf16-d061b46ee7cb",
   "metadata": {},
   "outputs": [
    {
     "name": "stdout",
     "output_type": "stream",
     "text": [
      "216\n",
      "216\n"
     ]
    }
   ],
   "source": [
    "# 기준 팁 금액보다 적게 준 경우는 216팀임\n",
    "print(tips.query('tip < @min_tip_required').shape[0])\n",
    "print(len(tips.query('tip < @min_tip_required')))"
   ]
  },
  {
   "cell_type": "markdown",
   "id": "f53285fa-c6ee-4c26-8508-d392f90d5d72",
   "metadata": {},
   "source": [
    "<br>\n",
    "\n",
    "### 4.2.5. 시계열 데이터 처리\n",
    "#### 4.2.5.1. 시계열 데이터(time series data)\n",
    "+ 일정한 시간 간격으로 관측된 연속적인 데이터\n",
    "+ Pandas에서는 시계열 데이터를 처리하기 위한 다양한 날짜/시간 관련 객체를 제공함\n",
    "\n",
    "<br>\n",
    "\n",
    "|구분|설명|예|Pandas 객체|\n",
    "|:---:|:------------|:------|:---------|\n",
    "|타임스탬프(timestampe)|특정 시점|2025-03-02 09:00|`pd.TimeStamp`, `DatetimeIndex`|\n",
    "|시간 기간(period)|일정한 시간 구간(시작~종료)|2025년 3월 (월간)|`pd.Period`, `PeriodIndex`|\n",
    "|시간 델타(time delta)|두 시점 사이의 시간 간격|2일, 5시간|`pd.Timedelta`, `TimedeltaIndex`|"
   ]
  },
  {
   "cell_type": "code",
   "execution_count": 75,
   "id": "bd904982-7c26-4619-922d-b61416b9204b",
   "metadata": {},
   "outputs": [
    {
     "name": "stdout",
     "output_type": "stream",
     "text": [
      "2025-03-02 09:00:00\n",
      "2025-03\n",
      "2 days 05:00:00\n"
     ]
    }
   ],
   "source": [
    "print(pd.Timestamp('2025-03-02 09:00'))      # 타임스탬프\n",
    "print(pd.Period('2025-03', freq='M'))        # 시간 기간\n",
    "print(pd.Timedelta(days=2, hours=5))         # 시간 델타"
   ]
  },
  {
   "cell_type": "markdown",
   "id": "f0f99f4f-e032-4b61-a4c4-966b64322da0",
   "metadata": {},
   "source": [
    "<br>\n",
    "\n",
    "#### 4.2.5.2. 시계열 데이터 형식 변환\n",
    "+ `pd.to_datetime()` 함수\n",
    "  + 문자열이나 정수 등 다양한 형태의 데이터를 시계열 데이터(datetime 형식)로 변환\n",
    "  + `format` 인자를 사용하여 날짜 형식을 명시적으로 지정 가능\n",
    "  + `errors='coerce'` 인자를 사용하면 오류 발생 시 NaT(Not a Time)으로 처리\n",
    "  + 시계열 인덱스를 설정하거나 변환할 때도 자주 사용됨\n",
    "\n",
    "<br>\n",
    "\n",
    "|코드|설명|예|\n",
    "|:---:|:------------|:---:|\n",
    "|%Y|전체 연도|2025|\n",
    "|%B|전체 월 이름|March|\n",
    "|%m|0으로 시작하는 월|03|\n",
    "|%d|0으로 시작하는 일|02|\n",
    "|%H|0으로 시작하는 시간(24시간제)|14|\n",
    "|%I|0으로 시작하는 시간(12시간제)|09|\n",
    "|%p|AM 또는 PM|AM|\n",
    "|%M|0으로 시작하는 분|00|\n",
    "|%S|0으로 시작하는 초|00|"
   ]
  },
  {
   "cell_type": "code",
   "execution_count": 76,
   "id": "61766e4d-bf35-49f4-867d-b8e78c6347d1",
   "metadata": {},
   "outputs": [
    {
     "data": {
      "text/plain": [
       "DatetimeIndex(['2025-03-02', '2025-03-03', '2025-03-04'], dtype='datetime64[ns]', freq=None)"
      ]
     },
     "execution_count": 76,
     "metadata": {},
     "output_type": "execute_result"
    }
   ],
   "source": [
    "# Timestampe1: 문자열 리스트 사용\n",
    "pd.to_datetime(['2025-03-02', '2025-03-03', '2025-03-04'])"
   ]
  },
  {
   "cell_type": "code",
   "execution_count": 77,
   "id": "d300b4ee-54e2-4cdc-a8e4-2e076525360c",
   "metadata": {},
   "outputs": [
    {
     "data": {
      "text/plain": [
       "DatetimeIndex(['2025-03-02', '2025-03-03', '2025-03-04'], dtype='datetime64[ns]', freq=None)"
      ]
     },
     "execution_count": 77,
     "metadata": {},
     "output_type": "execute_result"
    }
   ],
   "source": [
    "# Timestampe2: 명시적 형식 지정\n",
    "pd.to_datetime(['March 2, 2025', 'March 3, 2025', 'March 4, 2025'], format='%B %d, %Y')"
   ]
  },
  {
   "cell_type": "code",
   "execution_count": 78,
   "id": "c0c16fcc-78b6-4f4c-9b8a-518a75ede18d",
   "metadata": {},
   "outputs": [
    {
     "data": {
      "text/plain": [
       "DatetimeIndex(['2025-03-02', 'NaT'], dtype='datetime64[ns]', freq=None)"
      ]
     },
     "execution_count": 78,
     "metadata": {},
     "output_type": "execute_result"
    }
   ],
   "source": [
    "# Timestampe3: 오류 발생 시 NaT 처리\n",
    "pd.to_datetime([\"2025-03-02\", \"not a date\"], errors=\"coerce\")"
   ]
  },
  {
   "cell_type": "code",
   "execution_count": 79,
   "id": "f09cb646-4fa1-450e-9821-99e8fb3e918c",
   "metadata": {},
   "outputs": [
    {
     "data": {
      "text/plain": [
       "0   2025-03-02\n",
       "1   2025-04-15\n",
       "dtype: datetime64[ns]"
      ]
     },
     "execution_count": 79,
     "metadata": {},
     "output_type": "execute_result"
    }
   ],
   "source": [
    "# Timestampe4: 정수 데이터프레임 사용(각 행을 날짜로 변환)\n",
    "df = pd.DataFrame({\n",
    "    \"year\": [2025, 2025],\n",
    "    \"month\": [3, 4],\n",
    "    \"day\": [2, 15]\n",
    "})\n",
    "pd.to_datetime(df)"
   ]
  },
  {
   "cell_type": "code",
   "execution_count": 80,
   "id": "25d7eaf4-a8d5-4ffd-9463-0254613ae473",
   "metadata": {},
   "outputs": [
    {
     "data": {
      "text/plain": [
       "Period('2025-03', 'M')"
      ]
     },
     "execution_count": 80,
     "metadata": {},
     "output_type": "execute_result"
    }
   ],
   "source": [
    "# Period: 2025년 3월 1일 ~ 31일(한 달)\n",
    "pd.to_datetime('2025-03', format='%Y-%m').to_period('M')"
   ]
  },
  {
   "cell_type": "code",
   "execution_count": 81,
   "id": "31dba584-27a3-4d1a-b9c0-f188c42b74c2",
   "metadata": {},
   "outputs": [
    {
     "data": {
      "text/plain": [
       "Timedelta('72 days 00:00:00')"
      ]
     },
     "execution_count": 81,
     "metadata": {},
     "output_type": "execute_result"
    }
   ],
   "source": [
    "# Timedelta\n",
    "pd.to_datetime('2025-05-13') - pd.to_datetime('2025-03-02')"
   ]
  },
  {
   "cell_type": "markdown",
   "id": "d92a7d1e-322e-4d78-b1b9-dc5750dadc35",
   "metadata": {},
   "source": [
    "<br>\n",
    "\n",
    "+ 정규 날짜 시퀀스 생성\n",
    "  + Pandas는 일정 간격의 날짜/시간 데이터를 생성하는 기능을 제공함\n",
    "  + `pd.date_range()`, `pd.period_range()`, `pd.timedelta_range()` 함수\n",
    "    + `freq` 인자를 통해 날짜 간격의 빈도(frequency) 지정 가능\n",
    "\n",
    "<br>\n",
    "\n",
    "|코드|설명|\n",
    "|:---:|:------------|\n",
    "|D|일(day)|\n",
    "|W|주(week)|\n",
    "|ME|월말(month end)|\n",
    "|QE|분기말(quarer end)|\n",
    "|YE|연말(year end)|\n",
    "|h|시간(hour)|\n",
    "|min|분(minute)|\n",
    "|s|초(second)|"
   ]
  },
  {
   "cell_type": "code",
   "execution_count": 82,
   "id": "2bd19ae1-a6ef-4400-9905-8adedf3e9eae",
   "metadata": {},
   "outputs": [
    {
     "data": {
      "text/plain": [
       "DatetimeIndex(['2025-03-02', '2025-03-03', '2025-03-04', '2025-03-05',\n",
       "               '2025-03-06'],\n",
       "              dtype='datetime64[ns]', freq='D')"
      ]
     },
     "execution_count": 82,
     "metadata": {},
     "output_type": "execute_result"
    }
   ],
   "source": [
    "# pd.date_range(): 하루씩 증가하는 날짜 시퀀스\n",
    "pd.date_range('2025-03-02', periods=5, freq='D')"
   ]
  },
  {
   "cell_type": "code",
   "execution_count": 83,
   "id": "fe5a3d30-096c-43c9-9ff4-c1e6141a617e",
   "metadata": {},
   "outputs": [
    {
     "data": {
      "text/plain": [
       "DatetimeIndex(['2025-05-18', '2025-05-25', '2025-06-01', '2025-06-08',\n",
       "               '2025-06-15'],\n",
       "              dtype='datetime64[ns]', freq='W-SUN')"
      ]
     },
     "execution_count": 83,
     "metadata": {},
     "output_type": "execute_result"
    }
   ],
   "source": [
    "# pd.date_range(): 일주일씩 증가하는 날짜 시퀀스(일요일 기준)\n",
    "pd.date_range('2025-05-13', periods=5, freq='W')"
   ]
  },
  {
   "cell_type": "code",
   "execution_count": 84,
   "id": "c4fb644e-ad61-4563-951c-ab4ce1728bd8",
   "metadata": {},
   "outputs": [
    {
     "data": {
      "text/plain": [
       "PeriodIndex(['2025-03', '2025-04', '2025-05'], dtype='period[M]')"
      ]
     },
     "execution_count": 84,
     "metadata": {},
     "output_type": "execute_result"
    }
   ],
   "source": [
    "# pd.period_range(): 2025년 3월부터 시작하여 3개월 동안의 기간\n",
    "pd.period_range('2025-03', periods=3, freq='M')"
   ]
  },
  {
   "cell_type": "code",
   "execution_count": 85,
   "id": "6e9613f9-1d62-4c95-bba8-05890e7f2731",
   "metadata": {},
   "outputs": [
    {
     "data": {
      "text/plain": [
       "TimedeltaIndex(['0 days 00:00:00', '0 days 01:00:00', '0 days 02:00:00',\n",
       "                '0 days 03:00:00', '0 days 04:00:00'],\n",
       "               dtype='timedelta64[ns]', freq='h')"
      ]
     },
     "execution_count": 85,
     "metadata": {},
     "output_type": "execute_result"
    }
   ],
   "source": [
    "# pd.timedelta_range(): 1시간 간격의 시간 델타 시퀀스\n",
    "pd.timedelta_range(start='0s', periods=5, freq='h')"
   ]
  },
  {
   "cell_type": "markdown",
   "id": "2687c1be-0cc7-4030-bcc2-d0b8e0cf8678",
   "metadata": {},
   "source": [
    "<br>\n",
    "\n",
    "#### 4.2.5.3. 시계열 데이터 인덱스와 필터링\n",
    "+ 시계열 데이터를 인덱스로 설정하면, 시간 기반으로 데이터를 쉽게 필터링할 수 있음\n",
    "  + 문자열 형태의 날짜를 인덱스 슬라이싱에 사용 가능\n",
    "  + 예: 연도('2025'), 연월('2025-01'), 연월일('2025-01-07') 등\n",
    "+ DatetimeIndex 객체는 다음과 같은 속성을 제공\n",
    "  + `.year`, `.month`, `.day`, `.hour`, `.minute`, `.second`\n",
    "  + `.month_name()`, `.day_name()`, `.dayofweek`(0=월요일)\n",
    "+ `sort_index()` 메소드를 통해 날짜 인덱스를 기준으로 정렬 가능"
   ]
  },
  {
   "cell_type": "code",
   "execution_count": 86,
   "id": "84fa6248-9887-455c-8f37-e37f302b7e95",
   "metadata": {},
   "outputs": [
    {
     "name": "stdout",
     "output_type": "stream",
     "text": [
      "            value\n",
      "2024-12-20     52\n",
      "2024-12-21     13\n",
      "2024-12-22     31\n",
      "2024-12-23     95\n",
      "2024-12-24     75\n",
      "2024-12-25     33\n",
      "2024-12-26     35\n",
      "2024-12-27     58\n",
      "2024-12-28     44\n",
      "2024-12-29     33\n",
      "2024-12-30     89\n",
      "2024-12-31      1\n",
      "2025-01-01     88\n",
      "2025-01-02     13\n",
      "2025-01-03      7\n",
      "2025-01-04     97\n",
      "2025-01-05     50\n",
      "2025-01-06     73\n",
      "2025-01-07      4\n",
      "2025-01-08     85\n",
      "2025-01-09     25\n",
      "2025-01-10     54\n"
     ]
    }
   ],
   "source": [
    "# 시계열 데이터 인덱스 설정\n",
    "date_rng = pd.date_range(start='2024-12-20', end='2025-01-10', freq='D')\n",
    "df = pd.DataFrame({'value': np.random.randint(0, 100, size=len(date_rng))}, index=date_rng)\n",
    "print(df)"
   ]
  },
  {
   "cell_type": "code",
   "execution_count": 87,
   "id": "6138bd70-2796-44eb-b3be-f23e68e67b30",
   "metadata": {},
   "outputs": [
    {
     "name": "stdout",
     "output_type": "stream",
     "text": [
      "            value\n",
      "2025-01-01     88\n",
      "2025-01-02     13\n",
      "2025-01-03      7\n",
      "2025-01-04     97\n",
      "2025-01-05     50\n",
      "2025-01-06     73\n",
      "2025-01-07      4\n",
      "2025-01-08     85\n",
      "2025-01-09     25\n",
      "2025-01-10     54\n"
     ]
    }
   ],
   "source": [
    "# 날짜 기반 필터링1: 특정 연도 데이터\n",
    "print(df.loc['2025'])"
   ]
  },
  {
   "cell_type": "code",
   "execution_count": 88,
   "id": "4173cafa-8ebe-4aeb-a1b6-1069b40a2a9a",
   "metadata": {},
   "outputs": [
    {
     "name": "stdout",
     "output_type": "stream",
     "text": [
      "            value\n",
      "2025-01-07      4\n",
      "2025-01-08     85\n",
      "2025-01-09     25\n",
      "2025-01-10     54\n"
     ]
    }
   ],
   "source": [
    "# 날짜 기반 필터링2: 특정 날짜 이후 데이터\n",
    "print(df.loc['2025-01-07':])"
   ]
  },
  {
   "cell_type": "code",
   "execution_count": 89,
   "id": "2f0081cd-945b-4481-86c2-8e267edea8f3",
   "metadata": {},
   "outputs": [
    {
     "name": "stdout",
     "output_type": "stream",
     "text": [
      "            value\n",
      "2024-12-24     75\n",
      "2024-12-25     33\n",
      "2024-12-26     35\n",
      "2024-12-27     58\n",
      "2024-12-28     44\n",
      "2024-12-29     33\n",
      "2024-12-30     89\n",
      "2024-12-31      1\n"
     ]
    }
   ],
   "source": [
    "# 날짜 기반 필터링2: 특정 날짜 범위 데이터\n",
    "print(df.loc['2024-12-24':'2024-12-31'])"
   ]
  },
  {
   "cell_type": "code",
   "execution_count": 90,
   "id": "c712076a-aa10-4d17-8283-2f9906ef5dbe",
   "metadata": {},
   "outputs": [
    {
     "name": "stdout",
     "output_type": "stream",
     "text": [
      "Index([12, 12, 12, 12, 12, 12, 12, 12, 12, 12, 12, 12, 1, 1, 1, 1, 1, 1, 1, 1,\n",
      "       1, 1],\n",
      "      dtype='int32')\n"
     ]
    }
   ],
   "source": [
    "# DatetimeIndex 속성1: 월(month)\n",
    "print(df.index.month)"
   ]
  },
  {
   "cell_type": "code",
   "execution_count": 91,
   "id": "4e32587d-fca0-46b9-a1ae-73f172265b80",
   "metadata": {},
   "outputs": [
    {
     "name": "stdout",
     "output_type": "stream",
     "text": [
      "Index(['Friday', 'Saturday', 'Sunday', 'Monday', 'Tuesday', 'Wednesday',\n",
      "       'Thursday', 'Friday', 'Saturday', 'Sunday', 'Monday', 'Tuesday',\n",
      "       'Wednesday', 'Thursday', 'Friday', 'Saturday', 'Sunday', 'Monday',\n",
      "       'Tuesday', 'Wednesday', 'Thursday', 'Friday'],\n",
      "      dtype='object')\n"
     ]
    }
   ],
   "source": [
    "# DatetimeIndex 속성2: 요일 이름\n",
    "print(df.index.day_name())"
   ]
  },
  {
   "cell_type": "code",
   "execution_count": 92,
   "id": "9ea74f1c-ad28-4996-a3cd-d69e064b8ab0",
   "metadata": {},
   "outputs": [
    {
     "name": "stdout",
     "output_type": "stream",
     "text": [
      "            value\n",
      "2025-01-10     54\n",
      "2025-01-09     25\n",
      "2025-01-08     85\n",
      "2025-01-07      4\n",
      "2025-01-06     73\n",
      "2025-01-05     50\n",
      "2025-01-04     97\n",
      "2025-01-03      7\n",
      "2025-01-02     13\n",
      "2025-01-01     88\n",
      "2024-12-31      1\n",
      "2024-12-30     89\n",
      "2024-12-29     33\n",
      "2024-12-28     44\n",
      "2024-12-27     58\n",
      "2024-12-26     35\n",
      "2024-12-25     33\n",
      "2024-12-24     75\n",
      "2024-12-23     95\n",
      "2024-12-22     31\n",
      "2024-12-21     13\n",
      "2024-12-20     52\n"
     ]
    }
   ],
   "source": [
    "# 날짜 인덱스 정렬: 내림차순\n",
    "print(df.sort_index(ascending=False))"
   ]
  },
  {
   "cell_type": "markdown",
   "id": "9139e401-5556-45a7-b1a5-c36b4bab5d12",
   "metadata": {},
   "source": [
    "<br>\n",
    "\n",
    "#### 4.2.5.4. 시계열 데이터 처리 및 시각화\n",
    "+ 리샘플링(resampling) : 시계열 데이터의 빈도를 변경하는 방법(예 : 월별 데이터 → 연간 데이터)\n",
    "+ 시간 이동(time-shift) : 시계열 데이터를 시간 축을 기준으로 이동시키는 방법으로, 이전 시점의 데이터와 비교할 때 유용함\n",
    "+ 롤링 윈도우(rolling windows): 일정한 기간을 기준으로 이동 평균 등을 방법으로, 주기적인 변동성을 관할할 때 유용함"
   ]
  },
  {
   "cell_type": "code",
   "execution_count": 93,
   "id": "42a27752-0347-471e-ba3f-8cad66efc827",
   "metadata": {},
   "outputs": [],
   "source": [
    "## 실습 데이터 : flights 데이터셋\n",
    "flights = sns.load_dataset(\"flights\")"
   ]
  },
  {
   "cell_type": "code",
   "execution_count": 94,
   "id": "7b341daa-2f50-4cc6-9c84-f4877ca05d8e",
   "metadata": {},
   "outputs": [
    {
     "name": "stdout",
     "output_type": "stream",
     "text": [
      "<class 'pandas.core.frame.DataFrame'>\n",
      "RangeIndex: 144 entries, 0 to 143\n",
      "Data columns (total 3 columns):\n",
      " #   Column      Non-Null Count  Dtype   \n",
      "---  ------      --------------  -----   \n",
      " 0   year        144 non-null    int64   \n",
      " 1   month       144 non-null    category\n",
      " 2   passengers  144 non-null    int64   \n",
      "dtypes: category(1), int64(2)\n",
      "memory usage: 2.9 KB\n",
      "None\n"
     ]
    }
   ],
   "source": [
    "print(flights.info())"
   ]
  },
  {
   "cell_type": "code",
   "execution_count": 95,
   "id": "d37d7c56-3ef9-4f2e-b044-2632be4bf14b",
   "metadata": {},
   "outputs": [
    {
     "name": "stdout",
     "output_type": "stream",
     "text": [
      "   year month  passengers\n",
      "0  1949   Jan         112\n",
      "1  1949   Feb         118\n",
      "2  1949   Mar         132\n",
      "3  1949   Apr         129\n",
      "4  1949   May         121\n"
     ]
    }
   ],
   "source": [
    "print(flights.head())"
   ]
  },
  {
   "cell_type": "code",
   "execution_count": 96,
   "id": "42c0ffa9-31af-410a-bac7-81aa5bccc955",
   "metadata": {},
   "outputs": [
    {
     "name": "stdout",
     "output_type": "stream",
     "text": [
      "            passengers\n",
      "date                  \n",
      "1949-01-01         112\n",
      "1949-02-01         118\n",
      "1949-03-01         132\n",
      "1949-04-01         129\n",
      "1949-05-01         121\n"
     ]
    }
   ],
   "source": [
    "# 시계열 데이터 인덱스 설정\n",
    "flights['date'] = pd.to_datetime(flights['year'].astype(str) + '-' + flights['month'].astype(str), format='%Y-%b')\n",
    "flights.set_index('date', inplace=True)\n",
    "flights.drop(['year', 'month'], axis=1, inplace=True)\n",
    "print(flights.head())"
   ]
  },
  {
   "cell_type": "code",
   "execution_count": 97,
   "id": "722ba206-6708-4e52-9efe-8a0c3ba2d273",
   "metadata": {},
   "outputs": [
    {
     "name": "stdout",
     "output_type": "stream",
     "text": [
      "            passengers\n",
      "date                  \n",
      "1949-12-31        1520\n",
      "1950-12-31        1676\n",
      "1951-12-31        2042\n",
      "1952-12-31        2364\n",
      "1953-12-31        2700\n",
      "1954-12-31        2867\n",
      "1955-12-31        3408\n",
      "1956-12-31        3939\n",
      "1957-12-31        4421\n",
      "1958-12-31        4572\n",
      "1959-12-31        5140\n",
      "1960-12-31        5714\n"
     ]
    }
   ],
   "source": [
    "# 리샘플링: 월별 데이터 → 연간 데이터(연도별 총합)\n",
    "annual_passengers = flights.resample('YE').sum()\n",
    "print(annual_passengers)"
   ]
  },
  {
   "cell_type": "code",
   "execution_count": 98,
   "id": "f9be1ae8-6173-4693-8a0c-4c0dff84c03d",
   "metadata": {},
   "outputs": [],
   "source": [
    "import matplotlib.pyplot as plt"
   ]
  },
  {
   "cell_type": "code",
   "execution_count": 99,
   "id": "7a6d2b20-ae51-40c7-b660-3ac8a52dd07a",
   "metadata": {},
   "outputs": [
    {
     "data": {
      "image/png": "[encoded data removed]",
      "text/plain": [
       "<Figure size 500x300 with 1 Axes>"
      ]
     },
     "metadata": {},
     "output_type": "display_data"
    }
   ],
   "source": [
    "# 리샘플링: 연간 데이터 시각화\n",
    "plt.figure(figsize=(5, 3))\n",
    "annual_passengers['passengers'].plot()\n",
    "plt.title('Annual Total Passengers')\n",
    "plt.xlabel('Year')\n",
    "plt.ylabel('Number of Passengers')\n",
    "plt.grid(True)\n",
    "plt.show()"
   ]
  },
  {
   "cell_type": "code",
   "execution_count": 100,
   "id": "22f15bdd-3a57-43df-8f40-87cf0a1bbf0d",
   "metadata": {},
   "outputs": [
    {
     "name": "stdout",
     "output_type": "stream",
     "text": [
      "            quarterly_passengers  change_rate\n",
      "date                                         \n",
      "1949-03-31                   362          NaN\n",
      "1949-06-30                   385     6.353591\n",
      "1949-09-30                   432    12.207792\n",
      "1949-12-31                   341   -21.064815\n",
      "1950-03-31                   382    12.023460\n",
      "1950-06-30                   409     7.068063\n",
      "1950-09-30                   498    21.760391\n",
      "1950-12-31                   387   -22.289157\n",
      "1951-03-31                   473    22.222222\n",
      "1951-06-30                   513     8.456660\n",
      "1951-09-30                   582    13.450292\n",
      "1951-12-31                   474   -18.556701\n",
      "1952-03-31                   544    14.767932\n",
      "1952-06-30                   582     6.985294\n",
      "1952-09-30                   681    17.010309\n",
      "1952-12-31                   557   -18.208517\n",
      "1953-03-31                   628    12.746858\n",
      "1953-06-30                   707    12.579618\n",
      "1953-09-30                   773     9.335219\n",
      "1953-12-31                   592   -23.415265\n",
      "1954-03-31                   627     5.912162\n",
      "1954-06-30                   725    15.629984\n",
      "1954-09-30                   854    17.793103\n",
      "1954-12-31                   661   -22.599532\n",
      "1955-03-31                   742    12.254160\n",
      "1955-06-30                   854    15.094340\n",
      "1955-09-30                  1023    19.789227\n",
      "1955-12-31                   789   -22.873900\n",
      "1956-03-31                   878    11.280101\n",
      "1956-06-30                  1005    14.464692\n",
      "1956-09-30                  1173    16.716418\n",
      "1956-12-31                   883   -24.722933\n",
      "1957-03-31                   972    10.079275\n",
      "1957-06-30                  1125    15.740741\n",
      "1957-09-30                  1336    18.755556\n",
      "1957-12-31                   988   -26.047904\n",
      "1958-03-31                  1020     3.238866\n",
      "1958-06-30                  1146    12.352941\n",
      "1958-09-30                  1400    22.164049\n",
      "1958-12-31                  1006   -28.142857\n",
      "1959-03-31                  1108    10.139165\n",
      "1959-06-30                  1288    16.245487\n",
      "1959-09-30                  1570    21.894410\n",
      "1959-12-31                  1174   -25.222930\n",
      "1960-03-31                  1227     4.514480\n",
      "1960-06-30                  1468    19.641402\n",
      "1960-09-30                  1736    18.256131\n",
      "1960-12-31                  1283   -26.094470\n"
     ]
    }
   ],
   "source": [
    "# 시간 이동: 직전 분기 대비 승객 수 증감률(%)\n",
    "quarterly = flights['passengers'].resample('QE').sum()\n",
    "previous_quarter = quarterly.shift(1)\n",
    "change_rate = (quarterly - previous_quarter) / previous_quarter * 100\n",
    "\n",
    "quarterly_df = pd.DataFrame({\n",
    "    'quarterly_passengers': quarterly,\n",
    "    'change_rate': change_rate\n",
    "})\n",
    "print(quarterly_df)"
   ]
  },
  {
   "cell_type": "code",
   "execution_count": 101,
   "id": "74127e99-b456-4948-9d9f-cad383a7c0b1",
   "metadata": {},
   "outputs": [
    {
     "data": {
      "image/png": "[encoded data removed]",
      "text/plain": [
       "<Figure size 500x300 with 1 Axes>"
      ]
     },
     "metadata": {},
     "output_type": "display_data"
    }
   ],
   "source": [
    "# 시프팅: 직전 분기 대비 승객 수 증감률(%) 시각화\n",
    "plt.figure(figsize=(5, 3))\n",
    "plt.plot(quarterly_df['change_rate'])\n",
    "plt.title('Quarter-over-Quarter Change in Airline Passengers (%)')\n",
    "plt.xlabel('Quarter')\n",
    "plt.ylabel('Change Rate (%)')\n",
    "plt.grid(True)\n",
    "plt.show()"
   ]
  },
  {
   "cell_type": "code",
   "execution_count": 102,
   "id": "0324fad9-41e3-4239-adad-35b338230770",
   "metadata": {},
   "outputs": [
    {
     "name": "stdout",
     "output_type": "stream",
     "text": [
      "            passengers  moving_avg_12months\n",
      "date                                       \n",
      "1949-01-01         112                  NaN\n",
      "1949-02-01         118                  NaN\n",
      "1949-03-01         132                  NaN\n",
      "1949-04-01         129                  NaN\n",
      "1949-05-01         121                  NaN\n",
      "...                ...                  ...\n",
      "1960-08-01         606           463.333333\n",
      "1960-09-01         508           467.083333\n",
      "1960-10-01         461           471.583333\n",
      "1960-11-01         390           473.916667\n",
      "1960-12-01         432           476.166667\n",
      "\n",
      "[144 rows x 2 columns]\n"
     ]
    }
   ],
   "source": [
    "# 롤링 윈도우: 12개월 단순이동평균\n",
    "flights['moving_avg_12months'] = flights['passengers'].rolling(window=12).mean()\n",
    "print(flights)"
   ]
  },
  {
   "cell_type": "code",
   "execution_count": 103,
   "id": "9b336574-821a-4bf5-8b04-9a6eb9abccb7",
   "metadata": {},
   "outputs": [
    {
     "data": {
      "image/png": "[encoded data removed]",
      "text/plain": [
       "<Figure size 500x300 with 1 Axes>"
      ]
     },
     "metadata": {},
     "output_type": "display_data"
    }
   ],
   "source": [
    "# 롤링 윈도우: 12개월 단순이동평균 시각화\n",
    "plt.figure(figsize=(5, 3))\n",
    "plt.plot(flights['passengers'], label='Original Data')\n",
    "plt.plot(flights['moving_avg_12months'], label='12-Month Moving Average', color='orange')\n",
    "plt.title('Airline Passenger Trend with 12-Month Moving Average')\n",
    "plt.xlabel('Date')\n",
    "plt.ylabel('Number of Passengers')\n",
    "plt.legend()\n",
    "plt.show()"
   ]
  }
 ],
 "metadata": {
  "kernelspec": {
   "display_name": "Python 3 (ipykernel)",
   "language": "python",
   "name": "python3"
  },
  "language_info": {
   "codemirror_mode": {
    "name": "ipython",
    "version": 3
   },
   "file_extension": ".py",
   "mimetype": "text/x-python",
   "name": "python",
   "nbconvert_exporter": "python",
   "pygments_lexer": "ipython3",
   "version": "3.9.21"
  }
 },
 "nbformat": 4,
 "nbformat_minor": 5
}
