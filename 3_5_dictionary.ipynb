{
 "cells": [
  {
   "cell_type": "markdown",
   "id": "836a30a6-cde9-4e76-9af7-8b06638e959a",
   "metadata": {},
   "source": [
    "### 딕셔너리(dictionary) : 키-값 쌍 데이터 구조\n",
    "5.1 딕셔너리의 특징 및 구조\n",
    "  5.1.1 딕셔너리란? 해시 테이블 기반 구조\n",
    "  5.1.2 키(Key)와 해시 가능성(hashability)\n",
    "\n",
    "5.2 딕셔너리의 주요 메서드 및 활용\n",
    "  5.2.1 요소 추가 및 삭제 (update, pop, clear)\n",
    "  5.2.2 탐색 및 조회 (get, items, keys, values)\n",
    "\n",
    "5.3 딕셔너리 컴프리헨션\n",
    "\n",
    "5.4 딕셔너리의 시간 복잡도 분석"
   ]
  }
 ],
 "metadata": {
  "kernelspec": {
   "display_name": "Python 3 (ipykernel)",
   "language": "python",
   "name": "python3"
  },
  "language_info": {
   "codemirror_mode": {
    "name": "ipython",
    "version": 3
   },
   "file_extension": ".py",
   "mimetype": "text/x-python",
   "name": "python",
   "nbconvert_exporter": "python",
   "pygments_lexer": "ipython3",
   "version": "3.9.21"
  }
 },
 "nbformat": 4,
 "nbformat_minor": 5
}
