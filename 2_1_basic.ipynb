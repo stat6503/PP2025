{
 "cells": [
  {
   "cell_type": "markdown",
   "id": "c3e79f1a-8336-4bff-8ae5-d9feac9f7c7f",
   "metadata": {},
   "source": [
    "# 2. Python 기초\n",
    "## 2.1. 기초 문법\n",
    "### 2.1.1. 변수\n",
    "\n",
    "+ 변수(variable)\n",
    "  + 프로그램이 실행되는 동안 값을 저장하는 공간\n",
    "  + 하나의 프로그램에서 여러 개의 변수를 만들어 사용할 수 있으며, 각 변수를 구분하기 위해 변수마다 이름을 붙여 관리함\n",
    "  + 변수에는 언제든지 새로운 값을 저장할 수 있음\n",
    "  + (정의) `변수 이름 = 값`\n",
    "\n",
    "<br>\n",
    "\n",
    "+ 대입 연산자 `=`\n",
    "  + 변수에 값을 저장할 때 사용하는 연산자로, 할당 연산자라고도 함\n",
    "  + `=` 기호 오른쪽의 값을 `=` 기호 왼쪽의 변수에 저장한다는 의미"
   ]
  },
  {
   "cell_type": "code",
   "execution_count": 26,
   "id": "e9170e4a-8569-4964-9672-e33a514bbd0d",
   "metadata": {},
   "outputs": [
    {
     "name": "stdout",
     "output_type": "stream",
     "text": [
      "20\n"
     ]
    }
   ],
   "source": [
    "# 변수에 값을 저장하고 출력\n",
    "age = 20\n",
    "print(age)"
   ]
  },
  {
   "cell_type": "code",
   "execution_count": 27,
   "id": "b8940322-820b-42b5-ac8f-ed4281c5317c",
   "metadata": {},
   "outputs": [
    {
     "name": "stdout",
     "output_type": "stream",
     "text": [
      "21\n"
     ]
    }
   ],
   "source": [
    "# 변수에 저장된 값 변경\n",
    "age = 21\n",
    "print(age)"
   ]
  },
  {
   "cell_type": "code",
   "execution_count": 28,
   "id": "9f90272a-3379-4b62-bf60-6d0427361ffe",
   "metadata": {},
   "outputs": [
    {
     "name": "stdout",
     "output_type": "stream",
     "text": [
      "7\n",
      "7\n",
      "7\n"
     ]
    }
   ],
   "source": [
    "# 여러 변수에 값 대입\n",
    "a = b = c = 7\n",
    "print(a)\n",
    "print(b)\n",
    "print(c)"
   ]
  },
  {
   "cell_type": "code",
   "execution_count": 29,
   "id": "fae92977-ac10-4a5d-a638-9a8fb2d1c87a",
   "metadata": {},
   "outputs": [
    {
     "name": "stdout",
     "output_type": "stream",
     "text": [
      "7\n",
      "11\n",
      "19\n"
     ]
    }
   ],
   "source": [
    "# 코드 한 줄에서 여러 개의 변수에 각각 다른 값을 한번에 대입할 수 있음\n",
    "a, b, c = 7, 11, 19\n",
    "print(a)\n",
    "print(b)\n",
    "print(c)"
   ]
  },
  {
   "cell_type": "code",
   "execution_count": 30,
   "id": "797f2bad-694c-4aab-b23f-2d95dfeafbba",
   "metadata": {},
   "outputs": [
    {
     "name": "stdout",
     "output_type": "stream",
     "text": [
      "11 7\n"
     ]
    }
   ],
   "source": [
    "# 두 변수의 값 교환\n",
    "a = 7\n",
    "b = 11\n",
    "temp = a\n",
    "a = b\n",
    "b = temp\n",
    "print(a, b)"
   ]
  },
  {
   "cell_type": "code",
   "execution_count": 2,
   "id": "5e0caf63-fb30-4c79-b856-d2f379c14f1b",
   "metadata": {},
   "outputs": [
    {
     "name": "stdout",
     "output_type": "stream",
     "text": [
      "11 7\n"
     ]
    }
   ],
   "source": [
    "# Python에서는 튜플 패킹과 언패킹(tuple packing & unpacking)을 활용하여 임시변수 없이 두 변수의 값을 쉽게 교환할 수 있음\n",
    "a = 7\n",
    "b = 11\n",
    "a, b = b, a\n",
    "print(a, b)"
   ]
  },
  {
   "cell_type": "markdown",
   "id": "dd390603-c6e1-4f8b-b481-43d57f841203",
   "metadata": {},
   "source": [
    "+ 변수 이름 규칙\n",
    "  + 변수가 어떤 용도로 쓰이는지 잘 설명하는 이름으로 만드는 것이 좋음\n",
    "  + 첫 번째글자는 문자 또는 밑줄(\\_)이어야 하고, 나머지 글자는 문자, 숫자, 밑줄(\\_)이어야 함\n",
    "  + 영문 대문자와 소문자를 구분함\n",
    "  + 키워드(예약어; keyword)는 변수 이름으로 사용할 수 없음\n",
    "    + 키워드 : 프로그래밍 언어에서 사용하기 위해 쓰임새를 미리 정해 놓은 단어"
   ]
  },
  {
   "cell_type": "code",
   "execution_count": 32,
   "id": "180681ca-23c1-4af4-86e5-441f0f91861c",
   "metadata": {},
   "outputs": [
    {
     "name": "stdout",
     "output_type": "stream",
     "text": [
      "['False', 'None', 'True', '__peg_parser__', 'and', 'as', 'assert', 'async', 'await', 'break', 'class', 'continue', 'def', 'del', 'elif', 'else', 'except', 'finally', 'for', 'from', 'global', 'if', 'import', 'in', 'is', 'lambda', 'nonlocal', 'not', 'or', 'pass', 'raise', 'return', 'try', 'while', 'with', 'yield']\n"
     ]
    }
   ],
   "source": [
    "import keyword\n",
    "print(keyword.kwlist)"
   ]
  },
  {
   "cell_type": "markdown",
   "id": "597cac02-a80b-479a-955a-588ac6ca6e27",
   "metadata": {},
   "source": [
    "<br>\n",
    "\n",
    "### 2.1.2. 자료형(data type)\n",
    "\n",
    "+ 기본 자료형\n",
    "  + 단순한 값을 저장하는 자료형\n",
    "  + (예시) 정수(1,2,3,...), 부동소수점수(1.23, 3.14, ...), 복소수(2+3j), 문자열('Hi!'), bool(True, False)\n",
    "+ 구조적 자료형\n",
    "  + 여러 개의 값을 담을 수 있는 자료형\n",
    "  + (예시) 리스트(list), 튜플(tuple), 셋(set), 딕셔너리(dict)\n",
    "+ `type()` 함수를 이용하여 자료형을 확인할 수 있음"
   ]
  },
  {
   "cell_type": "code",
   "execution_count": 33,
   "id": "cb9aa1f4-6d8e-4d36-9c93-0c930d680b1c",
   "metadata": {},
   "outputs": [
    {
     "name": "stdout",
     "output_type": "stream",
     "text": [
      "20 28 161 14\n",
      "<class 'int'>\n"
     ]
    }
   ],
   "source": [
    "# 정수형\n",
    "a = 20                      # 10진수\n",
    "b = 0o34                    # 8진수\n",
    "c = 0xA1                    # 16진수\n",
    "d = 0b1110                  # 2진수\n",
    "print(a, b, c, d)\n",
    "print(type(a))"
   ]
  },
  {
   "cell_type": "code",
   "execution_count": 34,
   "id": "79cb0f1c-d00f-4c03-87a1-253a4d817e61",
   "metadata": {},
   "outputs": [
    {
     "name": "stdout",
     "output_type": "stream",
     "text": [
      "3.14 123000.0\n",
      "<class 'float'>\n"
     ]
    }
   ],
   "source": [
    "# 부동소수점수형\n",
    "a = 3.14\n",
    "b = 1.23e5                  # 지수 표현 방식\n",
    "print(a, b)\n",
    "print(type(a))"
   ]
  },
  {
   "cell_type": "code",
   "execution_count": 35,
   "id": "ecb69c04-5729-4b72-bd01-573cd2786af8",
   "metadata": {},
   "outputs": [
    {
     "name": "stdout",
     "output_type": "stream",
     "text": [
      "Hello Python\n",
      "<class 'str'>\n"
     ]
    }
   ],
   "source": [
    "# 문자열형\n",
    "a = 'Hello'\n",
    "b = \"Python\"\n",
    "print(a, b)\n",
    "print(type(a))"
   ]
  },
  {
   "cell_type": "code",
   "execution_count": 36,
   "id": "b6d0cf21-f1e7-46b4-8f65-dc878f3c02ad",
   "metadata": {},
   "outputs": [
    {
     "name": "stdout",
     "output_type": "stream",
     "text": [
      "Hello Python\n"
     ]
    }
   ],
   "source": [
    "# 문자열 연결\n",
    "# 문자열 연결 연산자 +로 문자열과 문자열을 연결할 수 있음\n",
    "print('Hello ' + 'Python')"
   ]
  },
  {
   "cell_type": "code",
   "execution_count": 37,
   "id": "43a0f15e-93d6-4590-9829-15843bd87159",
   "metadata": {},
   "outputs": [
    {
     "name": "stdout",
     "output_type": "stream",
     "text": [
      "False\n",
      "<class 'bool'>\n"
     ]
    }
   ],
   "source": [
    "# bool형\n",
    "a = 10>20\n",
    "print(a)\n",
    "print(type(a))"
   ]
  },
  {
   "cell_type": "markdown",
   "id": "7646231e-6811-4bee-8513-6f6e8ff635ee",
   "metadata": {},
   "source": [
    "<br>\n",
    "\n",
    "### 2.1.3. 입력과 출력\n",
    "+ 입력\n",
    "  + 사용자로부터 데이터를 입력받기 위해 `input()` 함수를 이용함\n",
    "  + `input()` 함수는 안내문을 출력한 후 사용자의 입력을 기다리며, 입력한 데이터를 문자열 형식으로 반환함\n",
    "  + `변수 = input(안내문)`\n",
    "+ 출력\n",
    "  + 데이터를 출력하기 위해 `print()` 함수를 이용함\n",
    "  + 여러 개의 값을 출력하려면 콤마(,)로 구분한 값을 나열하면 됨"
   ]
  },
  {
   "cell_type": "code",
   "execution_count": 38,
   "id": "d97318fb-1eb1-47cd-85f9-8f98b1363600",
   "metadata": {},
   "outputs": [],
   "source": [
    "# 문자열 입력\n",
    "#name = input('이름: ')\n",
    "#age = input('나이: ')\n",
    "#print(name, '나이:', age)"
   ]
  },
  {
   "cell_type": "code",
   "execution_count": 39,
   "id": "064bdc10-604a-4921-98be-87ab6bafd648",
   "metadata": {},
   "outputs": [],
   "source": [
    "# 정수 형식의 문자열 입력\n",
    "# input 함수를 통해서 입력받은 데이터는 문자열형임\n",
    "# 따라서 int() 함수를 이용하여 정수 형식의 문자열을 정수로 변환해야 함\n",
    "#a = int(input(\"정수: \"))\n",
    "#b = int(input(\"정수: \"))\n",
    "#print(a-b)"
   ]
  },
  {
   "cell_type": "code",
   "execution_count": 40,
   "id": "1bc32578-bf79-4eba-bf19-ff9a751e6d38",
   "metadata": {},
   "outputs": [],
   "source": [
    "# 부동소수점 형식의 문자열 입력\n",
    "# float() 함수를 이용하여 부동소수점수 형식의 문자열을 부동소수점수로 변환함\n",
    "#minute = float(input('분 단위 시간: '))\n",
    "#second = minute * 60\n",
    "#print(second, '초')"
   ]
  },
  {
   "cell_type": "code",
   "execution_count": 41,
   "id": "71466d5c-1722-4794-acb1-fb0511ddf872",
   "metadata": {},
   "outputs": [
    {
     "name": "stdout",
     "output_type": "stream",
     "text": [
      "반갑습니다.\n",
      "성적은 99 입니다.\n"
     ]
    }
   ],
   "source": [
    "# 문자열 출력\n",
    "print('반갑습니다.')\n",
    "score = 99\n",
    "print('성적은', score, '입니다.')"
   ]
  },
  {
   "cell_type": "code",
   "execution_count": 42,
   "id": "d46afba8-6016-4fbd-9d42-e75f5388ef60",
   "metadata": {},
   "outputs": [
    {
     "name": "stdout",
     "output_type": "stream",
     "text": [
      "25\n",
      "42\n"
     ]
    }
   ],
   "source": [
    "# print() 함수가 여러 개일 때는 다음 줄로 넘어가서 값을 출력함\n",
    "a = 25\n",
    "b = 42\n",
    "print(a)\n",
    "print(b)"
   ]
  },
  {
   "cell_type": "code",
   "execution_count": 43,
   "id": "f2d6a2e6-22df-40f6-93da-3c3931a04e45",
   "metadata": {},
   "outputs": [
    {
     "name": "stdout",
     "output_type": "stream",
     "text": [
      "25 42\n"
     ]
    }
   ],
   "source": [
    "# print() 함수가 여러 개일 때 다음 줄로 넘어가는 대신 공백이 출력되기를 원하면 end 매개변수를 공백으로 설정함\n",
    "a = 25\n",
    "b = 42\n",
    "print(a, end=' ')\n",
    "print(b)"
   ]
  },
  {
   "cell_type": "markdown",
   "id": "feb1333e-19b5-49ec-ae40-783764deea7c",
   "metadata": {},
   "source": [
    "+ f-문자열(f-string)\n",
    "  + 문자열 앞에 소문자 f나 대문자 F를 붙이고, 문자열 안의 변수를 {}로 감싸서 표현하는 것\n",
    "  + f-문자열을 이용하면 변수 값이 출력되는 형식을 지정할 수 있음"
   ]
  },
  {
   "cell_type": "code",
   "execution_count": 44,
   "id": "cb5a6472-b505-4928-ad7c-7da62f02cc93",
   "metadata": {},
   "outputs": [
    {
     "name": "stdout",
     "output_type": "stream",
     "text": [
      "이름은 홍길동이고, 나이는 20입니다.\n"
     ]
    }
   ],
   "source": [
    "# f-문자열 사용\n",
    "name = '홍길동'\n",
    "age = 20\n",
    "print(f'이름은 {name}이고, 나이는 {age}입니다.')"
   ]
  },
  {
   "cell_type": "code",
   "execution_count": 45,
   "id": "860b7cde-b8d2-4d26-97bf-e0b6aa9c7596",
   "metadata": {},
   "outputs": [
    {
     "name": "stdout",
     "output_type": "stream",
     "text": [
      "홍길동  ,  20\n",
      "20161\n",
      "4.000\n"
     ]
    }
   ],
   "source": [
    "# f-문자열 출력 형식 지정\n",
    "# 변수명 옆에 :을 작성한 다음 형식을 지정함\n",
    "name = '홍길동'\n",
    "age = 20\n",
    "print(f'{name:5}, {age:3}')\n",
    "\n",
    "a = 4\n",
    "b = 3.14159265\n",
    "print(f'20{c:02d}')                        # a 값을 두자리로 출력하되 앞의 빈곳은 0으로 채움\n",
    "print(f'{a:.3f}')                          # c 값을 소수점 이하 세자리로 반올림하여 출력"
   ]
  },
  {
   "cell_type": "code",
   "execution_count": 46,
   "id": "0f5c00ec-3a68-48f3-82e3-127fba9efb33",
   "metadata": {},
   "outputs": [],
   "source": [
    "# 원의 넓이 구하기\n",
    "#pi = 3.14159265\n",
    "#radius = int(input('원의 반지름: '))\n",
    "#area = pi * radius * radius\n",
    "#print(f'원의 넓이: {area:.3f}')"
   ]
  },
  {
   "cell_type": "markdown",
   "id": "019efd36-ca20-4879-8dc5-cbeb606e5560",
   "metadata": {},
   "source": [
    "<br>\n",
    "\n",
    "### 2.1.4. 연산자\n",
    "+ 연산(operation) : 덧셈, 뺄셈 등과 같이 일정한 규칙에 따라 계산하는 것\n",
    "\n",
    "<br>\n",
    "\n",
    "#### 2.1.4.1. 산술 연산자\n",
    "|연산자|설명|예시|결과|\n",
    "|:---:|:---:|:---:|:---:|\n",
    "|+|더하기|print(6+4)|10|\n",
    "|-|빼기|print(6-4)|2|\n",
    "|*|곱하기|print(6*4)|24|\n",
    "|/|나누기|print(6/4)|1.5|\n",
    "|//|나눈 정수 몫|print(6//4)|1|\n",
    "|%|나눈 나머지|print(6%4)|2|\n",
    "|**|거듭제곱|print(6**4)|1296|\n",
    "\n",
    "<br>\n",
    "\n",
    "#### 2.1.4.2. 비교 연산자\n",
    "+ 크기를 비교할 때 사용하는 연산자\n",
    "+ 연산 결과는 참(True) 또는 거짓(False)으로 나타남\n",
    "\n",
    "|연산자|설명|예시|결과|\n",
    "|:---:|:---:|:---:|:---:|\n",
    "|==|같다|print(10==20)|False|\n",
    "|!=|같지 않다|print(10!=20)|True|\n",
    "|>|크다|print(10>20)|False|\n",
    "|<|작다|print(10<20)|True|\n",
    "|>=|크거나 같다|print(10>=20)|False|\n",
    "|<=|작거나 같다|print(10<=20)|True|\n",
    "\n",
    "<br>\n",
    "\n",
    "#### 2.1.4.3. 논리 연산자\n",
    "+ 참과 거짓의 논리 동작을 다루는 연산\n",
    "+ 여러 조건을 조합할 때 주로 사용함\n",
    "\n",
    "|연산자|설명|예시|결과|\n",
    "|:---:|:---------------|:------|:---:|\n",
    "|and|왼쪽 식과 오른쪽 식 모두 참인 경우에만 True|a=25 <br>print(a>8 and a<60)|True|\n",
    "|or|왼쪽 식과 오른쪽 식 중 하나라도 참인 경우에만 True|a=70 <br>print(a<8 or a>=60)|True|\n",
    "|not|오른쪽 식이 참이면 False, 거짓이면 True|a=20 <br>print(not a==20)|False|\n",
    "\n",
    "<br>\n",
    "\n",
    "#### 2.1.4.4. 복합 대입 연산자\n",
    "+ 연산한 값을 다시 대입하는 연산자\n",
    "\n",
    "|연산자|설명|예시|결과|\n",
    "|:---:|:---------------|:------|:---:|\n",
    "|+=|왼쪽 값에 오른쪽 값을 더한 결과를 다시 왼쪽에 대입|a, b = 2, 3 <br>a += b <br> print(a)|5|\n",
    "|-=|왼쪽 값에 오른쪽 값을 뺀 결과를 다시 왼쪽에 대입|a, b = 2, 3 <br>a -= b <br> print(a)|-1|\n",
    "|*=|왼쪽 값에 오른쪽 값을 곱한 결과를 다시 왼쪽에 대입|a, b = 2, 3 <br>a *= b <br> print(a)|6|\n",
    "|/=|왼쪽 값에 오른쪽 값을 나눈 결과를 다시 왼쪽에 대입|a, b = 3, 2 <br>a /= b <br> print(a)|1.5|\n",
    "|//=|왼쪽 값에 오른쪽 값을 나눈 몫을 다시 왼쪽에 대입|a, b = 7, 3 <br>a //= b <br> print(a)|2|\n",
    "|%=|왼쪽 값에 오른쪽 값을 나눈 나머지를 다시 왼쪽에 대입|a, b = 7, 3 <br>a %= b <br> print(a)|1|\n",
    "\n",
    "<br>\n",
    "\n",
    "#### 2.1.4.5. 연산자 우선순위\n",
    "+ 프로그래밍 언어는 연산자에 우선순위를 부여하여 우선순위가 높은 연산자를 먼저 계산함\n",
    "+ 우선순위에 관계없이 연산의 순서를 정하려면 괄호()를 사용함\n",
    "\n",
    "|우선순위|연산자|설명|\n",
    "|:---:|:---:|:---:|\n",
    "|1|**|거듭제곱 연산자|\n",
    "|2|+, -|양수, 음수를 나타내는 단항 연산자|\n",
    "|3|*, /, //, %|곱셈, 나눗셈, 나눈 몫, 나머지|\n",
    "|4|+, -|덧셈, 뺄셈|\n",
    "|5|<, <=, >, >=|비교 연산자|\n",
    "|6|==, !=|동등 연산자|\n",
    "|7|=, +=, -=, /=, //=, %=, **=|대입 연산자|\n",
    "|8|not|논리 연산자|\n",
    "|9|and|논리 연산자|\n",
    "|10|or|논리 연산자|"
   ]
  },
  {
   "cell_type": "code",
   "execution_count": 47,
   "id": "e70dc6b3-149f-4453-8f65-579085504c41",
   "metadata": {},
   "outputs": [
    {
     "name": "stdout",
     "output_type": "stream",
     "text": [
      "180.0\n"
     ]
    }
   ],
   "source": [
    "# 정수 3개의 평균 계산(틀림)\n",
    "avg = 70 + 80 + 90 / 3\n",
    "print(avg)"
   ]
  },
  {
   "cell_type": "code",
   "execution_count": 48,
   "id": "b75210d1-e5a2-48a7-87f2-532922dc81e3",
   "metadata": {},
   "outputs": [
    {
     "name": "stdout",
     "output_type": "stream",
     "text": [
      "80.0\n"
     ]
    }
   ],
   "source": [
    "# 정수 3개의 평균 계산\n",
    "avg = (70 + 80 + 90) / 3\n",
    "print(avg)"
   ]
  },
  {
   "cell_type": "code",
   "execution_count": 49,
   "id": "d56071b3-faf9-464e-ab21-9eb35b1ea88c",
   "metadata": {},
   "outputs": [],
   "source": [
    "# 길이 단위 변환\n",
    "#_cm = int(input('센티미터 단위 길이: '))\n",
    "#m = _cm // 100\n",
    "#cm = _cm % 100\n",
    "#print(f'{m}미터 {cm}센티미터')"
   ]
  }
 ],
 "metadata": {
  "kernelspec": {
   "display_name": "Python 3 (ipykernel)",
   "language": "python",
   "name": "python3"
  },
  "language_info": {
   "codemirror_mode": {
    "name": "ipython",
    "version": 3
   },
   "file_extension": ".py",
   "mimetype": "text/x-python",
   "name": "python",
   "nbconvert_exporter": "python",
   "pygments_lexer": "ipython3",
   "version": "3.9.21"
  }
 },
 "nbformat": 4,
 "nbformat_minor": 5
}
