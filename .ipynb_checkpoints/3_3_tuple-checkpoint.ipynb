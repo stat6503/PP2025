{
 "cells": [
  {
   "cell_type": "markdown",
   "id": "8de5a47a-925a-4091-8291-ca432f55ef69",
   "metadata": {},
   "source": [
    "### 튜플(tuple) : 순서가 있는 불변형 데이터\n",
    "3.1 튜플의 특징 및 구조\n",
    "  3.1.1 튜플의 정의 및 불변성(Immutable)\n",
    "  3.1.2 튜플의 메모리 최적화 구조\n",
    "\n",
    "3.2 튜플의 주요 메서드 및 활용\n",
    "  3.2.1 인덱싱 및 슬라이싱\n",
    "  3.2.2 언패킹 및 활용 사례\n",
    "\n",
    "+ 메소드\n",
    "  + count(), index()\n",
    "  + namedtuple\n",
    "\n",
    "3.3 튜플과 리스트의 차이점 및 선택 기준\n",
    "  + 성능 차이 및 메모리 효율성 비교\n",
    "  + 데이터 변경 여부에 따른 선택 전략"
   ]
  }
 ],
 "metadata": {
  "kernelspec": {
   "display_name": "Python 3 (ipykernel)",
   "language": "python",
   "name": "python3"
  },
  "language_info": {
   "codemirror_mode": {
    "name": "ipython",
    "version": 3
   },
   "file_extension": ".py",
   "mimetype": "text/x-python",
   "name": "python",
   "nbconvert_exporter": "python",
   "pygments_lexer": "ipython3",
   "version": "3.9.21"
  }
 },
 "nbformat": 4,
 "nbformat_minor": 5
}
