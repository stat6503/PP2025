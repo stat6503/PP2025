{
 "cells": [
  {
   "cell_type": "markdown",
   "id": "815d841f-3b7d-4ea7-b8d4-1836f392013a",
   "metadata": {},
   "source": [
    "# 3. 자료구조\n",
    "## 3.3. 튜플\n",
    "### 3.3.1. 튜플 생성\n",
    "+ 튜플(tuple)\n",
    "  + 여러 개의 값을 저장할 수 있는 컬렉션 자료형(collection data type)\n",
    "  + 순서가 존재하는 시퀀스 자료형(sequence data type)\n",
    "  + 한 번 생성된 이후에는 수정할 수 없는 불변형(immutable) 객체\n",
    "  + 정수형, 부동소수점형, 문자열형, bool형, 리스트, 튜플, 딕셔너리 등 다양한 자료형을 저장할 수 있는 컨테이너형 객체\n",
    "  + 리스트와 구조 및 사용 방법이 거의 동일하지만, **수정이 불가능**하다는 차이점이 있음\n",
    "\n",
    "<br>\n",
    "\n",
    "+ 튜플 생성\n",
    "  + 리터럴 방식(tuple literal)\n",
    "    + `()`를 사용하여 튜플을 직접 정의하는 방법\n",
    "    + `()` 안에 원소(element)를 `,`로 구분하여 나열함\n",
    "    + `()`을 생략할 수도 있지만, 원소가 하나인 경우에는 `(값,)`처럼 반드시 `,`를 포함해야 함\n",
    "  + 생성자 방식(tuple constructor)\n",
    "    + `tuple()` 함수를 사용하여 튜플을 생성하는 방법\n",
    "    + 다른 iterable 객체(리스트, 튜플, 세트, 딕셔너리, 문자열 등)를 인수로 받아 튜플을 생성할 때 유용함"
   ]
  },
  {
   "cell_type": "code",
   "execution_count": 1,
   "id": "dfac0f6b-6800-4176-b73c-999b94e6210e",
   "metadata": {},
   "outputs": [
    {
     "name": "stdout",
     "output_type": "stream",
     "text": [
      "(1, 2, 3, 4, 5)\n"
     ]
    }
   ],
   "source": [
    "# 튜플 생성1\n",
    "tpl = (1, 2, 3, 4, 5)\n",
    "print(tpl)"
   ]
  },
  {
   "cell_type": "code",
   "execution_count": 2,
   "id": "29548121-2ad6-4d7e-8589-388c86c0ed07",
   "metadata": {},
   "outputs": [
    {
     "name": "stdout",
     "output_type": "stream",
     "text": [
      "(1, 2, 3, 4, 5)\n"
     ]
    }
   ],
   "source": [
    "# 튜플 생성2\n",
    "tpl = 1, 2, 3, 4, 5\n",
    "print(tpl)"
   ]
  },
  {
   "cell_type": "code",
   "execution_count": 3,
   "id": "49427370-42cd-4f90-9fd1-73a59f3ff67f",
   "metadata": {},
   "outputs": [
    {
     "name": "stdout",
     "output_type": "stream",
     "text": [
      "(1,)\n"
     ]
    }
   ],
   "source": [
    "# 튜플 생성3 : 원소가 하나인 경우에는 반드시 ,를 포함해야 함\n",
    "tpl = (1,)\n",
    "print(tpl)"
   ]
  },
  {
   "cell_type": "code",
   "execution_count": 4,
   "id": "52b586ff-71fa-4f3f-aafa-ad4db91a6d4b",
   "metadata": {},
   "outputs": [
    {
     "name": "stdout",
     "output_type": "stream",
     "text": [
      "(1, 3.14, 'Hello', True, [11, 12, 13], (21, 22))\n"
     ]
    }
   ],
   "source": [
    "# 튜플 생성4 : 튜플은 다양한 자료형을 저장할 수 있음\n",
    "tpl = (1, 3.14, \"Hello\", True, [11, 12, 13], (21, 22))\n",
    "print(tpl)"
   ]
  },
  {
   "cell_type": "code",
   "execution_count": 5,
   "id": "dc5a26f3-f5d3-4f5d-ad9e-2780052316f9",
   "metadata": {},
   "outputs": [
    {
     "name": "stdout",
     "output_type": "stream",
     "text": [
      "('H', 'e', 'l', 'l', 'o')\n"
     ]
    }
   ],
   "source": [
    "# 튜플 생성5 : iterable 객체 사용\n",
    "tpl = tuple(\"Hello\")\n",
    "print(tpl)"
   ]
  },
  {
   "cell_type": "code",
   "execution_count": 6,
   "id": "6c173697-a35d-43ab-a7bd-9064284ec8fa",
   "metadata": {},
   "outputs": [
    {
     "name": "stdout",
     "output_type": "stream",
     "text": [
      "(1, 2, 3)\n"
     ]
    }
   ],
   "source": [
    "# 튜플 생성6 : iterable 객체 사용\n",
    "tpl = tuple([1, 2, 3])\n",
    "print(tpl)"
   ]
  },
  {
   "cell_type": "markdown",
   "id": "e9e3043d-3669-443c-ab97-a8734f7c7678",
   "metadata": {},
   "source": [
    "<br>\n",
    "\n",
    "### 3.3.2. 튜플 연산\n",
    "+ 리스트 연산과 동일함\n",
    "+ 튜플 연결 연산자 `+` : 두 튜플을 연결해서 새로운 튜플 생성\n",
    "+ 튜플 반복 연산자 `*` : 튜플을 숫자만큼 반복하여 새로운 튜플 생성 - (예) 튜플\\*숫자\n",
    "+ 튜플 전개 연산자 `*` : 튜플의 개별 원소를 분리하여 다른 튜플 전개 - (예) (\\*튜플)"
   ]
  },
  {
   "cell_type": "code",
   "execution_count": 7,
   "id": "086b19d2-6b76-42af-b38d-137fe0def923",
   "metadata": {},
   "outputs": [
    {
     "name": "stdout",
     "output_type": "stream",
     "text": [
      "(1, 2, 3, 11, 12, 13)\n"
     ]
    }
   ],
   "source": [
    "# 튜플 연결\n",
    "tpl1 = 1, 2, 3\n",
    "tpl2 = 11, 12, 13\n",
    "print(tpl1 + tpl2)"
   ]
  },
  {
   "cell_type": "code",
   "execution_count": 8,
   "id": "9aa71205-9fc3-4e12-b3fa-e1662b67a7c8",
   "metadata": {},
   "outputs": [
    {
     "name": "stdout",
     "output_type": "stream",
     "text": [
      "(1, 2, 3, 1, 2, 3, 1, 2, 3)\n"
     ]
    }
   ],
   "source": [
    "# 튜플 반복\n",
    "print(tpl1 * 3)"
   ]
  },
  {
   "cell_type": "code",
   "execution_count": 9,
   "id": "717e696c-af88-4525-9426-a332996641a9",
   "metadata": {},
   "outputs": [
    {
     "name": "stdout",
     "output_type": "stream",
     "text": [
      "((1, 2, 3, 4, 5), (1, 2, 3, 4, 5))\n",
      "(1, 2, 3, 4, 5, 1, 2, 3, 4, 5)\n"
     ]
    }
   ],
   "source": [
    "# 튜플 전개\n",
    "tpl = 1, 2, 3, 4, 5\n",
    "print((tpl, tpl))\n",
    "print((*tpl, *tpl))"
   ]
  },
  {
   "cell_type": "markdown",
   "id": "5ef4ad56-fbb1-4fa4-821e-1cf2a2c615fe",
   "metadata": {},
   "source": [
    "<br>\n",
    "\n",
    "### 3.3.3. 튜플 패킹과 언패킹\n",
    "#### 3.3.3.1. 패킹과 언패킹 개념\n",
    "+ 패킹(packing) : 여러 개의 데이터를 한 변수에 묶어 할당하는 것\n",
    "+ 언패킹(unpacking)\n",
    "  + 한 변수에 묶인 데이터를 개별적인 변수들에 할당하는 것\n",
    "  + 언패킹 시 기본적으로 변수 개수가 맞아야 하지만, `*`를 사용하면 가변 개수도 처리할 수 있음"
   ]
  },
  {
   "cell_type": "code",
   "execution_count": 10,
   "id": "51fba17a-2e9f-4387-9cf8-506e0f66a539",
   "metadata": {},
   "outputs": [
    {
     "name": "stdout",
     "output_type": "stream",
     "text": [
      "(1, 2, 3)\n"
     ]
    }
   ],
   "source": [
    "# 튜플 패킹\n",
    "tpl = 1, 2, 3\n",
    "print(tpl)"
   ]
  },
  {
   "cell_type": "code",
   "execution_count": 11,
   "id": "bdff0102-31ec-4d4c-9df0-8e65cca915e8",
   "metadata": {},
   "outputs": [
    {
     "name": "stdout",
     "output_type": "stream",
     "text": [
      "1\n",
      "2\n",
      "3\n"
     ]
    }
   ],
   "source": [
    "# 튜플 언패킹\n",
    "tpl = 1, 2, 3\n",
    "x, y, z = tpl\n",
    "print(x)\n",
    "print(y)\n",
    "print(z)"
   ]
  },
  {
   "cell_type": "code",
   "execution_count": 12,
   "id": "5ebe2fa5-4c09-4134-a467-385a314f93d5",
   "metadata": {},
   "outputs": [
    {
     "name": "stdout",
     "output_type": "stream",
     "text": [
      "11\n",
      "7\n"
     ]
    }
   ],
   "source": [
    "# 튜플 패킹과 언패킹 : 임시변수 없이 두 변수의 값을 쉽게 교환할 수 있음\n",
    "a = 7\n",
    "b = 11\n",
    "a, b = b, a\n",
    "print(a)\n",
    "print(b)"
   ]
  },
  {
   "cell_type": "code",
   "execution_count": 13,
   "id": "f7b40238-84ba-4faa-b884-73e149e2d7d2",
   "metadata": {},
   "outputs": [],
   "source": [
    "# 언패킹 시 변수 개수 불일치 오류\n",
    "#a, b = 1, 2, 3\n",
    "#x, y, z = 4, 5"
   ]
  },
  {
   "cell_type": "code",
   "execution_count": 14,
   "id": "ab4a549f-79b3-4134-998f-0bc90b5a90cb",
   "metadata": {},
   "outputs": [
    {
     "name": "stdout",
     "output_type": "stream",
     "text": [
      "[5, 6]\n",
      "7\n",
      "8\n"
     ]
    }
   ],
   "source": [
    "# 언패킹 시 *을 이용한 가변 개수 처리\n",
    "# *변수는 여러 개의 값을 저장해야 하므로, 가변적인 리스트로 처리됨\n",
    "*x, y, z = 5, 6, 7, 8\n",
    "print(x)\n",
    "print(y)\n",
    "print(z)"
   ]
  },
  {
   "cell_type": "markdown",
   "id": "bfab625d-cff9-4cad-ba5a-7849d371b7df",
   "metadata": {},
   "source": [
    "<br>\n",
    "\n",
    "#### 3.3.3.2. 함수의 인수에서 패킹과 언패킹\n",
    "+ 가변 인수를 사용하면 전달된 인수들은 튜플로 패킹됨\n",
    "+ `*`를 사용하여 튜플을 언패킹하여 함수에 전달함"
   ]
  },
  {
   "cell_type": "code",
   "execution_count": 15,
   "id": "55208fb8-ad89-446f-b183-94cf51182e72",
   "metadata": {},
   "outputs": [
    {
     "name": "stdout",
     "output_type": "stream",
     "text": [
      "Packed arguments: (1, 2, 3, 4)\n",
      "Packed arguments: ((11, 12, 13),)\n",
      "Packed arguments: (11, 12, 13)\n"
     ]
    }
   ],
   "source": [
    "# 가변 인수와 패킹, 언패킹\n",
    "def print_args(*args):\n",
    "    print(\"Packed arguments:\", args)                        # 전달된 값이 튜플로 패킹됨\n",
    "\n",
    "print_args(1, 2, 3, 4)\n",
    "\n",
    "tpl = 11, 12, 13\n",
    "print_args(tpl)                                             # 튜플 자체를 인수로 전달\n",
    "print_args(*tpl)                                            # 튜플을 언패킹하여 함수에 전달"
   ]
  },
  {
   "cell_type": "code",
   "execution_count": 16,
   "id": "62f7296e-070a-47f6-a2cf-3c89e4b0c990",
   "metadata": {},
   "outputs": [
    {
     "name": "stdout",
     "output_type": "stream",
     "text": [
      "10\n",
      "10\n"
     ]
    }
   ],
   "source": [
    "# 키워드 인수와 언패킹\n",
    "def sum_numbers(a, b, c, d):\n",
    "    return a + b + c + d\n",
    "\n",
    "tpl = 1, 2, 3, 4\n",
    "\n",
    "print(sum_numbers(tpl[0], tpl[1], tpl[2], tpl[3]))          # 개별 원소를 인수로 전달\n",
    "print(sum_numbers(*tpl))                                    # 튜플을 언패킹하여 함수에 전달"
   ]
  },
  {
   "cell_type": "markdown",
   "id": "b6853230-1655-4416-9ca9-270d81a2341c",
   "metadata": {},
   "source": [
    "<br>\n",
    "\n",
    "#### 3.3.3.3. 함수의 반환값에서 패킹과 언패킹\n",
    "+ 함수에서 여러 개의 값을 반환하면 자동으로 튜플로 패킹됨\n",
    "+ 함수가 반환한 튜플을 언패킹하여 개별 변수에 할당할 수 있음"
   ]
  },
  {
   "cell_type": "code",
   "execution_count": 17,
   "id": "328471ad-83ac-48bb-94de-2a7cfa3e9eb0",
   "metadata": {},
   "outputs": [
    {
     "name": "stdout",
     "output_type": "stream",
     "text": [
      "('Alice', 20, 'Statistics')\n",
      "Alice\n",
      "20\n",
      "Statistics\n"
     ]
    }
   ],
   "source": [
    "# 반환값과 패킹, 언패킹\n",
    "def get_student_info():\n",
    "    return \"Alice\", 20, \"Statistics\"                        # 튜플로 자동 패킹됨\n",
    "\n",
    "# 패킹된 값 출력\n",
    "info = get_student_info()\n",
    "print(info)\n",
    "\n",
    "# 언패킹하여 개별 변수에 할당\n",
    "name, age, major = get_student_info()\n",
    "print(name)\n",
    "print(age)\n",
    "print(major)"
   ]
  },
  {
   "cell_type": "markdown",
   "id": "1885dfb3-35b2-4450-8f4e-01d28c59de08",
   "metadata": {},
   "source": [
    "<br>\n",
    "\n",
    "### 3.3.4. 튜플 인덱스와 슬라이싱\n",
    "+ 리스트와 유사한 방식임\n",
    "+ 인덱싱(indexing) : `[index]`를 사용하여 튜플의 특정 위치에 있는 원소에 접근함\n",
    "+ 슬라이싱(slicing) : `[(start index):(stop index)]`를 사용하여 튜플의 일부 원소를 추출함\n",
    "  + 리스트와 달리 불변형 객체이므로 슬라이싱을 이용하여 기존 튜플의 일부를 삭제하거나, 새로운 원소를 추가 및 변경할 수 없음"
   ]
  },
  {
   "cell_type": "code",
   "execution_count": 18,
   "id": "7fa25b80-c2b2-4fbc-8c59-48bdc74b0c5f",
   "metadata": {},
   "outputs": [
    {
     "name": "stdout",
     "output_type": "stream",
     "text": [
      "1\n"
     ]
    }
   ],
   "source": [
    "# 튜플 인덱싱1\n",
    "tpl = 1, 2, 3, 4, 5\n",
    "print(tpl[0])"
   ]
  },
  {
   "cell_type": "code",
   "execution_count": 19,
   "id": "446eb31d-d756-4dac-87f9-9847131a3e3f",
   "metadata": {},
   "outputs": [
    {
     "name": "stdout",
     "output_type": "stream",
     "text": [
      "5\n"
     ]
    }
   ],
   "source": [
    "# 튜플 인덱싱2\n",
    "tpl = 1, 2, 3, 4, 5\n",
    "print(tpl[-1])"
   ]
  },
  {
   "cell_type": "code",
   "execution_count": 20,
   "id": "b4476df0-78ff-4556-bdfc-7849715762b5",
   "metadata": {},
   "outputs": [
    {
     "name": "stdout",
     "output_type": "stream",
     "text": [
      "(1, 2)\n"
     ]
    }
   ],
   "source": [
    "# 튜플 슬라이싱1\n",
    "tpl = 1, 2, 3, 4, 5\n",
    "print(tpl[0:2])"
   ]
  },
  {
   "cell_type": "code",
   "execution_count": 21,
   "id": "38bf7552-bdbd-493a-bec6-0b4bde91f922",
   "metadata": {},
   "outputs": [
    {
     "name": "stdout",
     "output_type": "stream",
     "text": [
      "(1, 2)\n",
      "(3, 4, 5)\n",
      "(1, 3, 5)\n"
     ]
    }
   ],
   "source": [
    "# 튜플 슬라이싱2\n",
    "tpl = 1, 2, 3, 4, 5\n",
    "print(tpl[:2])\n",
    "print(tpl[2:])\n",
    "print(tpl[::2])"
   ]
  },
  {
   "cell_type": "code",
   "execution_count": 22,
   "id": "fc85fa9a-92e0-4e6d-be1e-8fd0726bd63d",
   "metadata": {},
   "outputs": [],
   "source": [
    "# 튜플은 불변형 객체이므로 인덱스를 이용한 수정이 불가능함\n",
    "#tpl = 1, 2, 3, 4, 5\n",
    "#tpl[2] = 3\n",
    "#print(tpl)"
   ]
  },
  {
   "cell_type": "markdown",
   "id": "8bd6041e-9ab1-424f-8208-5f36d0dd13ad",
   "metadata": {},
   "source": [
    "<br>\n",
    "\n",
    "### 3.3.5. 튜플 메소드\n",
    "\n",
    "|함수|설명|\n",
    "|:---:|:------------|\n",
    "|count()|튜플 내부에 특정 값이 몇 번 나타나는지 개수를 반환|\n",
    "|index()|튜플 내부에 특정 값의 첫 번째 인덱스를 반환하며, 없으면 오류 발생|\n",
    "|in 연산자|튜플 내부에 특정 값이 있다면 True, 없다면 False를 반환|\n",
    "|len()|튜플 원소의 개수(튜플 길이) 반환|\n",
    "|sum()|튜플 원소의 합계 반환|\n",
    "|max()|튜플 원소 중 최대값 반환|\n",
    "|min()|튜플 원소 중 최소값 반환|"
   ]
  },
  {
   "cell_type": "code",
   "execution_count": 23,
   "id": "cd567052-5665-4ef2-94e8-aa6aa6f47b90",
   "metadata": {},
   "outputs": [
    {
     "name": "stdout",
     "output_type": "stream",
     "text": [
      "3\n",
      "0\n"
     ]
    }
   ],
   "source": [
    "# 특정 값 개수\n",
    "tpl = 1, 2, 3, 1, 4, 5, 1, 6, 7\n",
    "print(tpl.count(1))\n",
    "print(tpl.count(9))"
   ]
  },
  {
   "cell_type": "code",
   "execution_count": 24,
   "id": "30d74019-82fd-4452-9d40-4667e33b0295",
   "metadata": {},
   "outputs": [
    {
     "name": "stdout",
     "output_type": "stream",
     "text": [
      "0\n"
     ]
    }
   ],
   "source": [
    "# 특정 값의 첫 번쩨 인덱스\n",
    "tpl = 1, 2, 3, 1, 4, 5, 1, 6, 7\n",
    "print(tpl.index(1))\n",
    "#print(tpl.index(9))"
   ]
  },
  {
   "cell_type": "code",
   "execution_count": 25,
   "id": "182decb4-be73-42bd-b834-3364f071cf0d",
   "metadata": {},
   "outputs": [
    {
     "name": "stdout",
     "output_type": "stream",
     "text": [
      "True\n",
      "False\n"
     ]
    }
   ],
   "source": [
    "# 특정값 찾기\n",
    "tpl = 1, 2, 3, 4, 5\n",
    "print(3 in tpl)\n",
    "print(6 in tpl)"
   ]
  },
  {
   "cell_type": "code",
   "execution_count": 26,
   "id": "86efd4ac-be45-4cd5-8838-55262dd64dfd",
   "metadata": {},
   "outputs": [
    {
     "name": "stdout",
     "output_type": "stream",
     "text": [
      "5\n",
      "15\n",
      "5\n",
      "1\n"
     ]
    }
   ],
   "source": [
    "tpl = 1, 2, 3, 4, 5\n",
    "print(len(tpl))\n",
    "print(sum(tpl))\n",
    "print(max(tpl))\n",
    "print(min(tpl))"
   ]
  }
 ],
 "metadata": {
  "kernelspec": {
   "display_name": "Python 3 (ipykernel)",
   "language": "python",
   "name": "python3"
  },
  "language_info": {
   "codemirror_mode": {
    "name": "ipython",
    "version": 3
   },
   "file_extension": ".py",
   "mimetype": "text/x-python",
   "name": "python",
   "nbconvert_exporter": "python",
   "pygments_lexer": "ipython3",
   "version": "3.12.7"
  }
 },
 "nbformat": 4,
 "nbformat_minor": 5
}
