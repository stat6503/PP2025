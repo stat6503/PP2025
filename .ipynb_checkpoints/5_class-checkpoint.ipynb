{
 "cells": [
  {
   "cell_type": "markdown",
   "id": "7fc52c09-a94a-401e-912a-723222f807f2",
   "metadata": {},
   "source": [
    "# 5. 클래스\n",
    "## 5.1. 클래스와 객체\n",
    "+ 객체지향 프로그래밍(Object-Oriented Programming; OOP)\n",
    "  + 프로그램을 여러 개의 독립된 단위(객체)들의 모임으로 구성하는 프로그래밍 패러다임\n",
    "  + 현실 세계에 존재하는 모든 것을 객체로 표현 → 프로그램이 더 직관적이고 이해하기 쉬워짐\n",
    "  + 코드의 재사용성, 유지보수성, 확장성이 높아짐\n",
    "\n",
    "<br>\n",
    "\n",
    "+ 객체(object)\n",
    "  + 현실 세계의 사물이나 개념을 코드로 구현한 것\n",
    "  + 데이터를 저장하는 속성(attribute)과 기능을 수행하는 메소드(method)를 가짐\n",
    "  + (예) 은행계좌\n",
    "    + 속성 : 잔액\n",
    "    + 메소드 : 입금, 출금\n",
    "\n",
    "<br>\n",
    "\n",
    "+ 클래스(class)\n",
    "  + 객체를 생성하기 위한 일종의 설계도(template)\n",
    "  + 공통된 속성(attribute)과 메소드(method)를 가지는 객체들을 하나의 구조로 정의\n",
    "    + 같은 클래스에서 만들어진 객체들은 구조와 동작 방식이 동일함\n",
    "  + 클래스로부터 만들어지는 객체를 그 클래스의 **인스턴스**(instance)라 함\n",
    "  + (예) `Account` 클래스 → 여러 개의 은행계좌 객체를 생성할 수 있음\n",
    "\n",
    "<br>\n",
    "\n",
    "![](./images/fig5-1.png){width=50%}"
   ]
  },
  {
   "cell_type": "markdown",
   "id": "9bf19973-0de6-499f-942a-f6dbf70adf9a",
   "metadata": {},
   "source": [
    "<br>\n",
    "\n",
    "## 5.2. 클래스 정의와 인스턴스 구성\n",
    "+ 클래스 정의\n",
    "  + `class` 키워드를 사용하여 정의함\n",
    "  + 클래스 이름은 일반적으로 대문자로 시작(예 : `Account`, `Student`)\n",
    "  + 클래스 본문에는 속성(변수)와 메소드(함수)를 정의함\n",
    "\n",
    "<br>\n",
    "\n",
    "+ 생성자 메소드 `__init__()`\n",
    "  + 인스턴스가 생성될 때 자동으로 호출되는 특별한 메소드\n",
    "  + 인스턴스마다 고유한 속성(인스턴스 변수)을 초기화하는 데 주로 사용됨\n",
    "  + 인스턴스 변수는 `__init__()` 내부에서 `self.변수명` 형태로 정의되어 각 인스턴스마다 독립적인 값을 가짐\n",
    "  + 첫 번째 매개변수는 항상 `self`로, 생성된 인스턴스 자신을 가리킴\n",
    "\n",
    "|구분|설명|\n",
    "|:---:|:------------|\n",
    "|인스턴스 변수|- 메소드 내부에서 `self.변수이름` 형태로 정의 <br>- 인스턴스마다 독립적인 값을 가짐|\n",
    "|인스턴스 메소드|- 클래스 내부에 정의된 함수 <br>- 첫 번째 매개변수로 `self`를 사용하여 해당 인스턴스에 접근함 <br>- 인스턴스를 통해 호출됨|"
   ]
  },
  {
   "cell_type": "code",
   "execution_count": 1,
   "id": "9f637f7e-7491-41d7-af36-a650046fe0b7",
   "metadata": {},
   "outputs": [],
   "source": [
    "## 클래스 정의1: 은행계좌\n",
    "# 잔액의 초기값은 항상 0으로 설정\n",
    "class Account:\n",
    "    # 클래스 내부에 정의한 변수(클래스 변수)는 모든 인스턴스가 공유함 (권장하지 않음)\n",
    "    # → 인스턴스마다 독립적인 속성을 가지려면 생성자 메소드 __init__()에서 인스턴스 변수를 정의해야 함\n",
    "    # balance = 0\n",
    "\n",
    "    # 생성자 메소드\n",
    "    def __init__(self):                      # 첫 번째 매개변수는 반드시 self여야 함\n",
    "        self.balance = 0                     # (속성) 잔액, 인스턴스마다 독립적\n",
    "\n",
    "    # (메소드) 입금 기능\n",
    "    def deposit(self, amount):               # 첫 번째 매개변수는 반드시 self여야 함\n",
    "        self.balance += amount               # 인스턴스 변수에 접근하기 위해 self.balance 사용\n",
    "        return self.balance\n",
    "\n",
    "    # (메소드) 출금 기능\n",
    "    def withdraw(self, amount):\n",
    "        self.balance -= amount\n",
    "        return self.balance"
   ]
  },
  {
   "cell_type": "code",
   "execution_count": 2,
   "id": "414139c0-839a-4812-ae33-6fc7b48ef607",
   "metadata": {},
   "outputs": [],
   "source": [
    "# 인스턴스 생성\n",
    "my_acc = Account()"
   ]
  },
  {
   "cell_type": "code",
   "execution_count": 3,
   "id": "e0e18da8-ecc9-4578-b324-21ae9275d803",
   "metadata": {},
   "outputs": [
    {
     "name": "stdout",
     "output_type": "stream",
     "text": [
      "0\n"
     ]
    }
   ],
   "source": [
    "# 인스턴스 속성 확인\n",
    "print(my_acc.balance)"
   ]
  },
  {
   "cell_type": "code",
   "execution_count": 4,
   "id": "9a6e47fb-2823-4744-a2fa-906cf52594a8",
   "metadata": {},
   "outputs": [
    {
     "name": "stdout",
     "output_type": "stream",
     "text": [
      "10000\n"
     ]
    }
   ],
   "source": [
    "# 인스턴스 메소드 사용1\n",
    "print(my_acc.deposit(10000))"
   ]
  },
  {
   "cell_type": "code",
   "execution_count": 5,
   "id": "190e3506-9f1b-4792-89f2-a6230273e8b2",
   "metadata": {},
   "outputs": [
    {
     "name": "stdout",
     "output_type": "stream",
     "text": [
      "7000\n"
     ]
    }
   ],
   "source": [
    "# 인스턴스 메소드 사용2\n",
    "print(my_acc.withdraw(3000))"
   ]
  },
  {
   "cell_type": "code",
   "execution_count": 6,
   "id": "51f13db3-7793-4096-88e6-8d8b9e197995",
   "metadata": {},
   "outputs": [
    {
     "name": "stdout",
     "output_type": "stream",
     "text": [
      "7000\n"
     ]
    }
   ],
   "source": [
    "# 인스턴스 속성 확인\n",
    "print(my_acc.balance)"
   ]
  },
  {
   "cell_type": "code",
   "execution_count": 7,
   "id": "95b3d244-993e-4cfa-90f6-91278d4c4110",
   "metadata": {},
   "outputs": [],
   "source": [
    "## 클래스 정의2: 은행계좌\n",
    "# 잔액의 초기값을 인스턴스를 생성할 때 직접 입력받아 설정(입력히지 않으면 0)\n",
    "class Account:\n",
    "    # 생성자 메소드\n",
    "    def __init__(self, amount=0):\n",
    "        self.balance = amount                # (속성) 잔액\n",
    "\n",
    "    def deposit(self, amount):               # (메소드) 입금 기능\n",
    "        self.balance += amount\n",
    "        return self.balance\n",
    "        \n",
    "    def withdraw(self, amount):              # (메소드) 출금 기능\n",
    "        self.balance -= amount\n",
    "        return self.balance"
   ]
  },
  {
   "cell_type": "code",
   "execution_count": 8,
   "id": "39925edc-2ce5-4fb4-b751-2644afb63c2c",
   "metadata": {},
   "outputs": [
    {
     "name": "stdout",
     "output_type": "stream",
     "text": [
      "50000\n"
     ]
    }
   ],
   "source": [
    "# 인스턴스 생성 및 속성 확인\n",
    "my_acc = Account(50000)\n",
    "print(my_acc.balance)"
   ]
  },
  {
   "cell_type": "markdown",
   "id": "563d3f92-0538-4d06-9c6b-c53651842211",
   "metadata": {},
   "source": [
    "<br>\n",
    "\n",
    "## 5.3. 매직 메소드\n",
    "### 5.3.1. 매직 메소드 소개\n",
    "+ 매직 메소드(magic method)\n",
    "  + 이름 앞뒤에 `___`(double underscore)가 붙는 특별한 메소드\n",
    "  + Python 내부 동작과 자동으로 연결되며, 다양한 상황에서 자동 호출됨\n",
    "    + (예) `print(인스턴스)` → `__str__()` 호출\n",
    "    + (예) `for x in 인스턴스` → `__iter__()` 호출\n",
    "  + 오버라이드하면 내가 정의한 클래스가 Python 기본 동작과 자연스럽게 연동됨\n",
    "  + 클래스 사용성과 직관성을 크게 향상시킴"
   ]
  },
  {
   "cell_type": "markdown",
   "id": "5b0f565c-2fad-4c00-b031-11b684300e11",
   "metadata": {},
   "source": [
    "<br>\n",
    "\n",
    "### 5.3.2. 문자열 표현 메소드 `__str__()`, `__repr__()`\n",
    "\n",
    "+ `__str__()` 메소드\n",
    "  + 인스턴스를 `print()`하거나 `str()`로 변환할 때 자동으로 호출되는 메소드\n",
    "  + 인스턴스의 상태를 사람이 읽기 쉬운 문자열 형태로 반환함\n",
    "  + 디버깅이나 결과 출력 시 인스턴스 정보를 명확히 확인할 수 있도록 도와줌\n",
    "\n",
    "<br>\n",
    "\n",
    "+ `__repr__()` 메소드\n",
    "  + 인스턴스를 대화형 환경에서 출력하거나 `repr()`로 변환할 때 자동으로 호출되는 메소드\n",
    "  + 인스턴스의 상태를 개발자가 이해하기 쉽고, 가능하면 인스턴스 재생성이 가능한 정확한 문자열 형태로 반환함\n",
    "    + `repr()` 함수 : 인스턴스의 표준 문자열 표현을 반환하며, `eval()` 함수에 전달 시 일반적으로 원래 인스턴스가 생성됨\n",
    "    + 일반적으로 `eval(repr(obj)) == obj`이 성립하도록 설계함\n",
    "  + 주로 디버깅, 로깅, 인스턴스 재생성 코드 출력 등에 유용하게 사용됨\n",
    "  + `__str__()` 메소드가 정의되지 않은 경우 `__repr__()`의 반환값이 대신 사용됨(반대는 성립 ×)"
   ]
  },
  {
   "cell_type": "code",
   "execution_count": 9,
   "id": "2c66c15e-782c-447e-9d09-8dffc7f70ba2",
   "metadata": {},
   "outputs": [],
   "source": [
    "## 클래스 정의: 책\n",
    "class Book:\n",
    "    def __init__(self, title, author, price):\n",
    "        self.title = title                   # (속성) 책 제목\n",
    "        self.author = author                 # (속성) 저자 이름\n",
    "        self.price = price                   # (속성) 가격\n",
    "\n",
    "    # 가격 할인 적용 후 price 값 변경(소수점 이하 버림)\n",
    "    def apply_discount(self, percent):       # (메소드) 가격 할인 적용 (percent : 0~100)\n",
    "        self.price = int(self.price * (1 - percent / 100))\n",
    "\n",
    "    # 사람이 읽기 좋은 문자열 표현\n",
    "    def __str__(self):\n",
    "        return f\"Book(title: '{self.title}', author: '{self.author}', price: {self.price})\"\n",
    "\n",
    "    # 개발자용 문자열 표현\n",
    "    def __repr__(self):\n",
    "        return f\"Book('{self.title}', '{self.author}', {self.price})\""
   ]
  },
  {
   "cell_type": "code",
   "execution_count": 10,
   "id": "95e0c8ab-c57b-4687-aac2-a5006ad170c5",
   "metadata": {},
   "outputs": [],
   "source": [
    "# 인스턴스 생성\n",
    "my_book = Book(\"Python Programming\", \"Park\", 30000)"
   ]
  },
  {
   "cell_type": "code",
   "execution_count": 11,
   "id": "1defe60b-b77b-4445-b61d-acf711606373",
   "metadata": {},
   "outputs": [
    {
     "name": "stdout",
     "output_type": "stream",
     "text": [
      "Book(title: 'Python Programming', author: 'Park', price: 30000)\n"
     ]
    }
   ],
   "source": [
    "# 인스턴스를 문자열로 출력1: __str__() 메소드 자동 호출\n",
    "print(my_book)"
   ]
  },
  {
   "cell_type": "code",
   "execution_count": 12,
   "id": "639046a4-01a2-48a8-a378-9855d777e8ee",
   "metadata": {},
   "outputs": [
    {
     "data": {
      "text/plain": [
       "Book('Python Programming', 'Park', 30000)"
      ]
     },
     "execution_count": 12,
     "metadata": {},
     "output_type": "execute_result"
    }
   ],
   "source": [
    "# 인스턴스를 문자열로 출력2: __repr__() 메소드 자동 호출\n",
    "my_book"
   ]
  },
  {
   "cell_type": "code",
   "execution_count": 13,
   "id": "e0ee86d3-600f-4080-8e2c-73c01074f7e3",
   "metadata": {},
   "outputs": [
    {
     "data": {
      "text/plain": [
       "\"Book('Python Programming', 'Park', 30000)\""
      ]
     },
     "execution_count": 13,
     "metadata": {},
     "output_type": "execute_result"
    }
   ],
   "source": [
    "# 인스턴스를 문자열로 출력2: __repr__() 메소드 자동 호출\n",
    "repr(my_book)"
   ]
  },
  {
   "cell_type": "code",
   "execution_count": 14,
   "id": "fa886d0f-9944-4580-a3b0-b2fcda5b6cd6",
   "metadata": {},
   "outputs": [
    {
     "name": "stdout",
     "output_type": "stream",
     "text": [
      "Book(title: 'Python Programming', author: 'Park', price: 27000)\n"
     ]
    }
   ],
   "source": [
    "# eval() 함수로 repr() 결과를 실행하여 새로운 인스턴스 생성\n",
    "my_book.apply_discount(10)\n",
    "new_book = eval(repr(my_book))\n",
    "print(new_book)"
   ]
  },
  {
   "cell_type": "markdown",
   "id": "85badc67-897c-4c98-bfba-04b750dcc0a4",
   "metadata": {},
   "source": [
    "<br>\n",
    "\n",
    "## 4.4. 클래스와 리스트\n",
    "+ 여러 개의 인스턴스를 관리하기 위해 리스트를 사용하면 효율적임\n",
    "  + 인덱스를 사용하여 특정 인스턴스에 접근 가능\n",
    "  + 반복문을 통해 리스트 내 모든 인스턴스에 접근하여 메소드를 호출하거나 속성을 조회할 수 있음"
   ]
  },
  {
   "cell_type": "code",
   "execution_count": 15,
   "id": "3840e848-c850-4f21-9c86-5c02e44eabe5",
   "metadata": {},
   "outputs": [],
   "source": [
    "# 클래스 정의: 은행계좌\n",
    "class Account:\n",
    "    def __init__(self, owner, amount=0):\n",
    "        self.owner = owner                   # (속성) 계좌 소유주\n",
    "        self.balance = amount                # (속성) 잔액\n",
    "\n",
    "    def deposit(self, amount):               # 입금 메소드\n",
    "        self.balance += amount\n",
    "        return self.balance\n",
    "\n",
    "    def withdraw(self, amount):              # 출금 메소드\n",
    "        self.balance -= amount\n",
    "        return self.balance\n",
    "\n",
    "    def __str__(self):\n",
    "        return f\"Account(owner: '{self.owner}', balance: {self.balance})\"\n",
    "\n",
    "    def __repr__(self):\n",
    "        return f\"Account(owner='{self.owner}', balance={self.balance})\""
   ]
  },
  {
   "cell_type": "code",
   "execution_count": 16,
   "id": "e04fd90c-6412-4c19-8ca5-d9f83f7f47ec",
   "metadata": {},
   "outputs": [],
   "source": [
    "# 여러 인스턴스를 리스트에 저장\n",
    "accounts = [\n",
    "    Account(\"Kim\", 10000),\n",
    "    Account(\"Lee\", 20000),\n",
    "    Account(\"Park\", 15000)\n",
    "]"
   ]
  },
  {
   "cell_type": "code",
   "execution_count": 17,
   "id": "30eccf9b-0639-4e4d-93b3-73d1032a4bfd",
   "metadata": {},
   "outputs": [],
   "source": [
    "# 모든 계좌에 일괄적으로 입금 처리\n",
    "for acc in accounts:\n",
    "    acc.deposit(5000)"
   ]
  },
  {
   "cell_type": "code",
   "execution_count": 18,
   "id": "4324c7e1-347b-4df6-9db4-a56040656200",
   "metadata": {},
   "outputs": [
    {
     "name": "stdout",
     "output_type": "stream",
     "text": [
      "Account(owner: 'Kim', balance: 15000)\n",
      "Account(owner: 'Lee', balance: 25000)\n",
      "Account(owner: 'Park', balance: 20000)\n"
     ]
    }
   ],
   "source": [
    "# 계좌 정보 출력\n",
    "for acc in accounts:\n",
    "    print(acc)"
   ]
  }
 ],
 "metadata": {
  "kernelspec": {
   "display_name": "Python 3 (ipykernel)",
   "language": "python",
   "name": "python3"
  },
  "language_info": {
   "codemirror_mode": {
    "name": "ipython",
    "version": 3
   },
   "file_extension": ".py",
   "mimetype": "text/x-python",
   "name": "python",
   "nbconvert_exporter": "python",
   "pygments_lexer": "ipython3",
   "version": "3.9.21"
  }
 },
 "nbformat": 4,
 "nbformat_minor": 5
}
