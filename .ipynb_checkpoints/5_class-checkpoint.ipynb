{
 "cells": [
  {
   "cell_type": "markdown",
   "id": "7fc52c09-a94a-401e-912a-723222f807f2",
   "metadata": {},
   "source": [
    "# 5. 클래스\n",
    "## 5.1. 클래스와 객체\n",
    "+ 객체지향 프로그래밍(Object-Oriented Programming; OOP)\n",
    "  + 프로그램을 여러 개의 독립된 단위(객체)들의 모임으로 구성하는 프로그래밍 패러다임\n",
    "  + 현실 세계에 존재하는 모든 것을 객체로 표현 → 프로그램이 더 직관적이고 이해하기 쉬워짐\n",
    "  + 코드의 재사용성, 유지보수성, 확장성이 높아짐\n",
    "\n",
    "<br>\n",
    "\n",
    "+ 객체(object)\n",
    "  + 현실 세계의 사물이나 개념을 코드로 구현한 것\n",
    "  + 데이터를 저장하는 속성(attribute)과 기능을 수행하는 메소드(method)를 가짐\n",
    "  + (예) 은행계좌\n",
    "    + 속성 : 잔액\n",
    "    + 메소드 : 입금, 출금\n",
    "\n",
    "<br>\n",
    "\n",
    "+ 클래스(class)\n",
    "  + 객체를 생성하기 위한 일종의 설계도(template)\n",
    "  + 공통된 속성(attribute)과 메소드(method)를 가지는 객체들을 하나의 구조로 정의\n",
    "    + 같은 클래스에서 만들어진 객체들은 구조와 동작 방식이 동일함\n",
    "  + 클래스로부터 만들어지는 객체를 그 클래스의 **인스턴스**(instance)라 함\n",
    "  + (예) `Account` 클래스 → 여러 개의 은행계좌 객체를 생성할 수 있음\n",
    "\n",
    "<br>\n",
    "\n",
    "![](./images/fig5-1.png){width=50%}"
   ]
  },
  {
   "cell_type": "markdown",
   "id": "9bf19973-0de6-499f-942a-f6dbf70adf9a",
   "metadata": {},
   "source": [
    "<br>\n",
    "\n",
    "## 5.2. 클래스 정의와 인스턴스 구성\n",
    "+ 클래스 정의\n",
    "  + `class` 키워드를 사용하여 정의함\n",
    "  + 클래스 이름은 일반적으로 대문자로 시작(예 : `Account`, `Student`)\n",
    "  + 클래스 본문에는 속성(변수)와 메소드(함수)를 정의함\n",
    "\n",
    "<br>\n",
    "\n",
    "+ 생성자 메소드 `__init__()`\n",
    "  + 인스턴스가 생성될 때 자동으로 호출되는 특별한 메소드\n",
    "  + 인스턴스마다 고유한 속성(인스턴스 변수)을 초기화하는 데 주로 사용됨\n",
    "  + 인스턴스 변수는 `__init__()` 내부에서 `self.변수 이름` 형태로 정의되어 각 인스턴스마다 독립적인 값을 가짐\n",
    "  + 첫 번째 매개변수는 항상 `self`로, 생성된 인스턴스 자신을 가리킴\n",
    "\n",
    "|구분|설명|\n",
    "|:---:|:------------|\n",
    "|인스턴스 변수|- 메소드 내부에서 `self.변수이름` 형태로 정의 <br>- 인스턴스마다 독립적인 값을 가짐|\n",
    "|인스턴스 메소드|- 클래스 내부에 정의된 함수 <br>- 첫 번째 매개변수로 `self`를 사용하여 해당 인스턴스에 접근함 <br>- 인스턴스를 통해 호출됨|"
   ]
  },
  {
   "cell_type": "code",
   "execution_count": 1,
   "id": "9f637f7e-7491-41d7-af36-a650046fe0b7",
   "metadata": {},
   "outputs": [],
   "source": [
    "## 클래스 정의1 : 은행계좌\n",
    "# 잔액의 초기값은 항상 0으로 설정\n",
    "class Account:\n",
    "    # 생성자 메소드\n",
    "    def __init__(self):                      # 첫 번째 매개변수는 반드시 self여야 함\n",
    "        self.balance = 0                     # (속성) 잔액, 인스턴스마다 독립적\n",
    "\n",
    "    # (메소드) 입금\n",
    "    def deposit(self, amount):               # 첫 번째 매개변수는 반드시 self여야 함\n",
    "        self.balance += amount               # 인스턴스 변수에 접근하기 위해 self.balance 사용\n",
    "        return self.balance\n",
    "\n",
    "    # (메소드) 출금\n",
    "    def withdraw(self, amount):\n",
    "        self.balance -= amount\n",
    "        return self.balance"
   ]
  },
  {
   "cell_type": "code",
   "execution_count": 2,
   "id": "414139c0-839a-4812-ae33-6fc7b48ef607",
   "metadata": {},
   "outputs": [],
   "source": [
    "# 인스턴스 생성\n",
    "my_acc = Account()"
   ]
  },
  {
   "cell_type": "code",
   "execution_count": 3,
   "id": "e0e18da8-ecc9-4578-b324-21ae9275d803",
   "metadata": {},
   "outputs": [
    {
     "name": "stdout",
     "output_type": "stream",
     "text": [
      "0\n"
     ]
    }
   ],
   "source": [
    "# 인스턴스 속성 확인 : 잔액\n",
    "print(my_acc.balance)"
   ]
  },
  {
   "cell_type": "code",
   "execution_count": 4,
   "id": "9a6e47fb-2823-4744-a2fa-906cf52594a8",
   "metadata": {},
   "outputs": [
    {
     "name": "stdout",
     "output_type": "stream",
     "text": [
      "10000\n"
     ]
    }
   ],
   "source": [
    "# 인스턴스 메소드 사용1 : 입금\n",
    "print(my_acc.deposit(10000))"
   ]
  },
  {
   "cell_type": "code",
   "execution_count": 5,
   "id": "190e3506-9f1b-4792-89f2-a6230273e8b2",
   "metadata": {},
   "outputs": [
    {
     "name": "stdout",
     "output_type": "stream",
     "text": [
      "7000\n"
     ]
    }
   ],
   "source": [
    "# 인스턴스 메소드 사용2 : 출금\n",
    "print(my_acc.withdraw(3000))"
   ]
  },
  {
   "cell_type": "code",
   "execution_count": 6,
   "id": "51f13db3-7793-4096-88e6-8d8b9e197995",
   "metadata": {},
   "outputs": [
    {
     "name": "stdout",
     "output_type": "stream",
     "text": [
      "7000\n"
     ]
    }
   ],
   "source": [
    "# 인스턴스 속성 확인 : 잔액\n",
    "print(my_acc.balance)"
   ]
  },
  {
   "cell_type": "code",
   "execution_count": 7,
   "id": "95b3d244-993e-4cfa-90f6-91278d4c4110",
   "metadata": {},
   "outputs": [],
   "source": [
    "## 클래스 정의2 : 은행계좌\n",
    "# 잔액의 초기값을 인스턴스를 생성할 때 직접 입력받아 설정(입력히지 않으면 0)\n",
    "class Account:\n",
    "    # 생성자 메소드\n",
    "    def __init__(self, amount=0):\n",
    "        self.balance = amount                # (속성) 잔액\n",
    "\n",
    "    def deposit(self, amount):               # (메소드) 입금\n",
    "        self.balance += amount\n",
    "        return self.balance\n",
    "        \n",
    "    def withdraw(self, amount):              # (메소드) 출금\n",
    "        self.balance -= amount\n",
    "        return self.balance"
   ]
  },
  {
   "cell_type": "code",
   "execution_count": 8,
   "id": "39925edc-2ce5-4fb4-b751-2644afb63c2c",
   "metadata": {},
   "outputs": [
    {
     "name": "stdout",
     "output_type": "stream",
     "text": [
      "50000\n"
     ]
    }
   ],
   "source": [
    "# 인스턴스 생성 및 속성 확인\n",
    "my_acc = Account(50000)\n",
    "print(my_acc.balance)"
   ]
  },
  {
   "cell_type": "markdown",
   "id": "563d3f92-0538-4d06-9c6b-c53651842211",
   "metadata": {},
   "source": [
    "<br>\n",
    "\n",
    "## 5.3. 매직 메소드\n",
    "### 5.3.1. 매직 메소드 소개\n",
    "+ 매직 메소드(magic method)\n",
    "  + 이름 앞뒤에 `___`(double underscore)가 붙는 특별한 메소드\n",
    "  + Python 내부 동작과 자동으로 연결되며, 다양한 상황에서 자동 호출됨\n",
    "    + (예) `print(인스턴스)` → `__str__()` 호출\n",
    "    + (예) `for x in 인스턴스` → `__iter__()` 호출\n",
    "  + 오버라이드하면 내가 정의한 클래스가 Python 기본 동작과 자연스럽게 연동됨\n",
    "  + 클래스 사용성과 직관성을 크게 향상시킴"
   ]
  },
  {
   "cell_type": "markdown",
   "id": "5b0f565c-2fad-4c00-b031-11b684300e11",
   "metadata": {},
   "source": [
    "<br>\n",
    "\n",
    "### 5.3.2. 문자열 표현 메소드\n",
    "+ `__str__()` 메소드\n",
    "  + 인스턴스를 `print()`하거나 `str()`로 변환할 때 자동으로 호출되는 메소드\n",
    "  + 인스턴스의 상태를 사람이 읽기 쉬운 문자열 형태로 반환함\n",
    "  + 디버깅이나 결과 출력 시 인스턴스 정보를 명확히 확인할 수 있도록 도와줌\n",
    "\n",
    "<br>\n",
    "\n",
    "+ `__repr__()` 메소드\n",
    "  + 인스턴스를 대화형 환경에서 출력하거나 `repr()`로 변환할 때 자동으로 호출되는 메소드\n",
    "  + 인스턴스의 상태를 개발자가 이해하기 쉽고, 가능하면 인스턴스 재생성이 가능한 정확한 문자열 형태로 반환함\n",
    "    + `repr()` 함수 : 인스턴스의 표준 문자열 표현을 반환하며, `eval()` 함수에 전달 시 일반적으로 원래 인스턴스가 생성됨\n",
    "    + 일반적으로 `eval(repr(obj)) == obj`이 성립하도록 설계함\n",
    "  + 주로 디버깅, 로깅, 인스턴스 재생성 코드 출력 등에 유용하게 사용됨\n",
    "  + `__str__()` 메소드가 정의되지 않은 경우 `__repr__()`의 반환값이 대신 사용됨(반대는 성립 ×)"
   ]
  },
  {
   "cell_type": "code",
   "execution_count": 9,
   "id": "2c66c15e-782c-447e-9d09-8dffc7f70ba2",
   "metadata": {},
   "outputs": [],
   "source": [
    "## 클래스 정의 : 책\n",
    "class Book:\n",
    "    def __init__(self, title, author, price):\n",
    "        self.title = title                   # (속성) 책 제목\n",
    "        self.author = author                 # (속성) 저자 이름\n",
    "        self.price = price                   # (속성) 가격\n",
    "\n",
    "    # 가격 할인 적용 후 price 값 변경(소수점 이하 버림)\n",
    "    def apply_discount(self, percent):       # (메소드) 가격 할인 적용 (percent : 0~100)\n",
    "        self.price = int(self.price * (1 - percent / 100))\n",
    "\n",
    "    # 사람이 읽기 좋은 문자열 표현\n",
    "    def __str__(self):\n",
    "        return f\"Book(title: '{self.title}', author: '{self.author}', price: {self.price}원)\"\n",
    "\n",
    "    # 개발자용 문자열 표현\n",
    "    def __repr__(self):\n",
    "        return f\"Book('{self.title}', '{self.author}', {self.price})\""
   ]
  },
  {
   "cell_type": "code",
   "execution_count": 10,
   "id": "95e0c8ab-c57b-4687-aac2-a5006ad170c5",
   "metadata": {},
   "outputs": [],
   "source": [
    "# 인스턴스 생성\n",
    "my_book = Book(\"Python Programming\", \"Park\", 30000)"
   ]
  },
  {
   "cell_type": "code",
   "execution_count": 11,
   "id": "1defe60b-b77b-4445-b61d-acf711606373",
   "metadata": {},
   "outputs": [
    {
     "name": "stdout",
     "output_type": "stream",
     "text": [
      "Book(title: 'Python Programming', author: 'Park', price: 30000원)\n"
     ]
    }
   ],
   "source": [
    "# 인스턴스를 문자열로 출력1 : __str__() 메소드 자동 호출\n",
    "print(my_book)"
   ]
  },
  {
   "cell_type": "code",
   "execution_count": 12,
   "id": "639046a4-01a2-48a8-a378-9855d777e8ee",
   "metadata": {},
   "outputs": [
    {
     "data": {
      "text/plain": [
       "Book('Python Programming', 'Park', 30000)"
      ]
     },
     "execution_count": 12,
     "metadata": {},
     "output_type": "execute_result"
    }
   ],
   "source": [
    "# 인스턴스를 문자열로 출력2 : __repr__() 메소드 자동 호출\n",
    "my_book"
   ]
  },
  {
   "cell_type": "code",
   "execution_count": 13,
   "id": "e0ee86d3-600f-4080-8e2c-73c01074f7e3",
   "metadata": {},
   "outputs": [
    {
     "data": {
      "text/plain": [
       "\"Book('Python Programming', 'Park', 30000)\""
      ]
     },
     "execution_count": 13,
     "metadata": {},
     "output_type": "execute_result"
    }
   ],
   "source": [
    "# 인스턴스를 문자열로 출력3 : __repr__() 메소드 자동 호출\n",
    "repr(my_book)"
   ]
  },
  {
   "cell_type": "code",
   "execution_count": 14,
   "id": "fa886d0f-9944-4580-a3b0-b2fcda5b6cd6",
   "metadata": {},
   "outputs": [
    {
     "name": "stdout",
     "output_type": "stream",
     "text": [
      "Book(title: 'Python Programming', author: 'Park', price: 27000원)\n"
     ]
    }
   ],
   "source": [
    "# eval() 함수로 repr() 결과를 실행하여 새로운 인스턴스 생성\n",
    "my_book.apply_discount(10)\n",
    "new_book = eval(repr(my_book))\n",
    "print(new_book)"
   ]
  },
  {
   "cell_type": "markdown",
   "id": "73fd777c-ecbd-46eb-a21f-66b7aaae69dd",
   "metadata": {},
   "source": [
    "<br>\n",
    "\n",
    "### 5.3.3. 시퀀스 동작 메소드\n",
    "+ 리스트, 튜플처럼 순서가 존재하는 자료형(sequence data type)에서 동작하는 매직 메소드\n",
    "+ 사용자 정의 클래스에 시퀀스 특성을 부여하며, `len()`, 인덱싱, 반복문 등과 자연스럽게 연동됨\n",
    "\n",
    "<br>\n",
    "\n",
    "|유형|설명|\n",
    "|:---:|:------------|\n",
    "|\\_\\_len\\_\\_() 메소드|- 인스턴스를 `len()`로 변환할 때 자동으로 호출되는 메소드 <br>- 인스턴스가 포함하고 있는 원소의 개수를 정수형으로 반환함|\n",
    "|\\_\\_getitem\\_\\_() 메소드|- 인스턴스를 인덱싱(`인스턴스[index]`)할 때 자동으로 호출되는 메소드 <br>- 특정 위치의 값을 반환하며, 슬라이싱 처리도 가능하게 만들 수 있음|\n",
    "|\\_\\_iter\\_\\_() 메소드|- for 문에서 사용할 수 있는 iterable 객체를 반환하는 메소드 <br>- 일반적으로 `return iter(내부_시퀀스)` 형태로 구현함|"
   ]
  },
  {
   "cell_type": "code",
   "execution_count": 15,
   "id": "c5b6e315-9384-4bee-a8a0-de0a4cec1871",
   "metadata": {},
   "outputs": [],
   "source": [
    "## 클래스 정의 : 음악 플레이리스트\n",
    "class Playlist:\n",
    "    def __init__(self, name, songs):\n",
    "        self.name = name                     # (속성) 플레이리스트 이름\n",
    "        self.songs = songs                   # (속성) 노래 목록 (리스트)\n",
    "        \n",
    "    def add_song(self, song):                # (메소드) 노래 추가\n",
    "        self.songs.append(song)\n",
    "\n",
    "    def __str__(self):\n",
    "        return f\"Playlist '{self.name}' with {len(self)} songs\"\n",
    "\n",
    "    def __repr__(self):\n",
    "        return f\"Playlist('{self.name}', {self.songs})\"\n",
    "\n",
    "    # 포함된 원소의 개수 반환\n",
    "    def __len__(self):\n",
    "        return len(self.songs)\n",
    "\n",
    "    # 특정 위치의 원소를 반환 (인덱싱 가능)\n",
    "    def __getitem__(self, index):\n",
    "        return self.songs[index]\n",
    "\n",
    "    # iterable 객체 반환 (for 문 등에서 사용 가능)\n",
    "    def __iter__(self):\n",
    "        return iter(self.songs)"
   ]
  },
  {
   "cell_type": "code",
   "execution_count": 16,
   "id": "42f34438-2f0b-498d-b502-bf4d5acbc4b3",
   "metadata": {},
   "outputs": [],
   "source": [
    "# 인스턴스 생성\n",
    "my_playlist = Playlist(\"My Favorites\", [\"Hype Boy\", \"APT.\", \"Mantra\"])"
   ]
  },
  {
   "cell_type": "code",
   "execution_count": 17,
   "id": "d2ca350e-3f1a-43c5-825f-21e6ad060305",
   "metadata": {},
   "outputs": [
    {
     "data": {
      "text/plain": [
       "3"
      ]
     },
     "execution_count": 17,
     "metadata": {},
     "output_type": "execute_result"
    }
   ],
   "source": [
    "# 원소의 개수 : __len__() 메소드 자동 호출\n",
    "len(my_playlist)"
   ]
  },
  {
   "cell_type": "code",
   "execution_count": 18,
   "id": "23360ac7-3f1c-4f3c-bf61-e338a4d289bb",
   "metadata": {},
   "outputs": [
    {
     "data": {
      "text/plain": [
       "'APT.'"
      ]
     },
     "execution_count": 18,
     "metadata": {},
     "output_type": "execute_result"
    }
   ],
   "source": [
    "# 인덱싱 : __getitem__() 메소드 자동 호출\n",
    "my_playlist[1]"
   ]
  },
  {
   "cell_type": "code",
   "execution_count": 19,
   "id": "466fd61a-f51d-4eb3-b642-16e828bd1e79",
   "metadata": {},
   "outputs": [
    {
     "name": "stdout",
     "output_type": "stream",
     "text": [
      "Hype Boy\n",
      "APT.\n",
      "Mantra\n"
     ]
    }
   ],
   "source": [
    "# for 문에서 iterable 객체 사용 : __iter__() 메소드 자동 호출\n",
    "for song in my_playlist:\n",
    "    print(song)"
   ]
  },
  {
   "cell_type": "code",
   "execution_count": 20,
   "id": "eaec1009-4cf7-42d1-a309-c734ee01eb63",
   "metadata": {},
   "outputs": [
    {
     "data": {
      "text/plain": [
       "Playlist('My Favorites', ['Hype Boy', 'APT.', 'Mantra', 'Ditto'])"
      ]
     },
     "execution_count": 20,
     "metadata": {},
     "output_type": "execute_result"
    }
   ],
   "source": [
    "# 인스턴스 메소드 사용 : 노래 추가\n",
    "my_playlist.add_song(\"Ditto\")\n",
    "my_playlist"
   ]
  },
  {
   "cell_type": "markdown",
   "id": "529cd765-6ef3-4030-9341-1778791425dc",
   "metadata": {},
   "source": [
    "<br>\n",
    "\n",
    "### 5.3.4. 호출 동작 메소드\n",
    "+ `__call__()` 메소드\n",
    "  + 인스턴스를 함수처럼 호출할 때 자동으로 실행되는 메소드\n",
    "  + `인스턴스()` 형태로 호출되며, 내부에서 필요한 로직을 자유롭게 구현 가능\n",
    "  + 사용자 정의 클래스에 유연하고 직관적인 기능을 부여할 때 유용함\n",
    "    + (예) 파라미터를 받아 계산 수행, 누적 처리, 조건 평가 등"
   ]
  },
  {
   "cell_type": "code",
   "execution_count": 21,
   "id": "6130cee7-61ed-4917-9c07-01876a088bb8",
   "metadata": {},
   "outputs": [
    {
     "name": "stdout",
     "output_type": "stream",
     "text": [
      "4\n"
     ]
    }
   ],
   "source": [
    "## 함수 정의1 : 누적 처리\n",
    "def add_count(count, step=1):\n",
    "    count += step\n",
    "    return count\n",
    "\n",
    "# 누적값은 함수 외부에서 직접 관리해야 함\n",
    "# → 함수는 상태를 기억하지 않으므로, 매번 결과를 외부 변수에 저장해야 함\n",
    "c = 0\n",
    "c = add_count(c)                             # 1\n",
    "c = add_count(c, 2)                          # 3\n",
    "c = add_count(c)                             # 4\n",
    "print(c)"
   ]
  },
  {
   "cell_type": "code",
   "execution_count": 22,
   "id": "86f00d94-c1e0-40b6-9223-ce51b9035891",
   "metadata": {},
   "outputs": [],
   "source": [
    "## 클래스 정의1 : 누적 처리\n",
    "# 클래스는 인스턴스 변수를 통해 상태(state)를 내부에 저장함\n",
    "# → 상태를 직접 조작하지 않아도 내부에서 자동으로 관리됨\n",
    "#   인스턴스마다 독립적인 값을 유지하므로, 여러 개의 상태를 동시에 관리하기 편함\n",
    "class Counter:\n",
    "    def __init__(self):\n",
    "        self.count = 0                       # (속성) 현재값(누적값)\n",
    "\n",
    "    # 인스턴스를 함수처럼 호출 가능하게 함\n",
    "    def __call__(self, step=1):\n",
    "        self.count += step\n",
    "        return self.count"
   ]
  },
  {
   "cell_type": "code",
   "execution_count": 23,
   "id": "a0168383-df78-4cf0-a27a-270d95de8d0b",
   "metadata": {},
   "outputs": [],
   "source": [
    "# 인스턴스 생성\n",
    "c1 = Counter()\n",
    "c2 = Counter()"
   ]
  },
  {
   "cell_type": "code",
   "execution_count": 24,
   "id": "1c4b6562-0aa7-48e0-bb70-40bc284f917a",
   "metadata": {},
   "outputs": [
    {
     "data": {
      "text/plain": [
       "1"
      ]
     },
     "execution_count": 24,
     "metadata": {},
     "output_type": "execute_result"
    }
   ],
   "source": [
    "# 인스턴스를 함수처럼 호출1 : __call__() 메소드 자동 호출\n",
    "c1()"
   ]
  },
  {
   "cell_type": "code",
   "execution_count": 25,
   "id": "c001daa1-f802-4c04-ba62-ce6fbcc79346",
   "metadata": {},
   "outputs": [
    {
     "data": {
      "text/plain": [
       "6"
      ]
     },
     "execution_count": 25,
     "metadata": {},
     "output_type": "execute_result"
    }
   ],
   "source": [
    "# 인스턴스를 함수처럼 호출2 : __call__() 메소드 자동 호출\n",
    "c1(5)"
   ]
  },
  {
   "cell_type": "code",
   "execution_count": 26,
   "id": "65d64311-226d-4b54-8e91-a52a5293ffc1",
   "metadata": {},
   "outputs": [
    {
     "data": {
      "text/plain": [
       "1"
      ]
     },
     "execution_count": 26,
     "metadata": {},
     "output_type": "execute_result"
    }
   ],
   "source": [
    "# 인스턴스를 함수처럼 호출3 : __call__() 메소드 자동 호출\n",
    "# 인스턴스마다 독립적인 값 유지\n",
    "c2()"
   ]
  },
  {
   "cell_type": "code",
   "execution_count": 27,
   "id": "aa13a3a9-660a-434a-b513-0fc7a106d941",
   "metadata": {},
   "outputs": [],
   "source": [
    "## 클래스 정의2 : 조건 평가\n",
    "# 클래스는 인스턴스 변수를 통해 상태(state)를 내부에 저장하고,\n",
    "# 관련 기능을 하나의 객체에 통합하여 확장성과 재사용성을 높일 수 있음\n",
    "class PassCounter:\n",
    "    def __init__(self, threshold):\n",
    "        self.threshold = threshold           # (속성) 기준값\n",
    "        self.count = 0                       # (속성) 조건 통과 횟수\n",
    "\n",
    "    def __call__(self, value):\n",
    "        # 값이 기준을 넘으면 count 누적\n",
    "        if value >= self.threshold:\n",
    "            self.count += 1\n",
    "            return True\n",
    "        return False\n",
    "\n",
    "    def reset(self):                         # (메소드) 조건 통과 횟수 초기화\n",
    "        self.count = 0"
   ]
  },
  {
   "cell_type": "code",
   "execution_count": 28,
   "id": "c44d37d0-bced-464c-922a-5c5e8480bf61",
   "metadata": {},
   "outputs": [],
   "source": [
    "# 기준값이 70인 인스턴스 생성\n",
    "pc = PassCounter(70)"
   ]
  },
  {
   "cell_type": "code",
   "execution_count": 29,
   "id": "f879430e-4b40-4af1-837f-bdec128e1fda",
   "metadata": {},
   "outputs": [
    {
     "data": {
      "text/plain": [
       "2"
      ]
     },
     "execution_count": 29,
     "metadata": {},
     "output_type": "execute_result"
    }
   ],
   "source": [
    "# 인스턴스를 함수처럼 호출 : __call__() 메소드 자동 호출\n",
    "pc(85)                                       # True\n",
    "pc(60)                                       # False\n",
    "pc(75)                                       # True\n",
    "pc.count"
   ]
  },
  {
   "cell_type": "code",
   "execution_count": 30,
   "id": "1028a5bc-17fc-48e4-b90b-433863edfe8b",
   "metadata": {},
   "outputs": [
    {
     "data": {
      "text/plain": [
       "0"
      ]
     },
     "execution_count": 30,
     "metadata": {},
     "output_type": "execute_result"
    }
   ],
   "source": [
    "# 인스턴스 메소드 사용\n",
    "pc.reset()\n",
    "pc.count"
   ]
  },
  {
   "cell_type": "markdown",
   "id": "85badc67-897c-4c98-bfba-04b750dcc0a4",
   "metadata": {},
   "source": [
    "<br>\n",
    "\n",
    "## 5.4. 클래스와 리스트\n",
    "+ 여러 개의 인스턴스를 관리하기 위해 리스트를 사용하면 효율적임\n",
    "  + 인덱스를 사용하여 특정 인스턴스에 접근 가능\n",
    "  + 반복문을 통해 리스트 내 모든 인스턴스에 접근하여 메소드를 호출하거나 속성을 조회할 수 있음\n",
    "+ 같은 클래스를 기반으로 다양한 인스턴스를 생성하고, 이를 리스트로 묶으면 프로그램 구조가 더 유연하고 확장 가능해짐"
   ]
  },
  {
   "cell_type": "code",
   "execution_count": 31,
   "id": "3840e848-c850-4f21-9c86-5c02e44eabe5",
   "metadata": {},
   "outputs": [],
   "source": [
    "## 클래스 정의 : 은행계좌\n",
    "class Account:\n",
    "    def __init__(self, account_number, owner, amount=0):\n",
    "        self.account_number = account_number # (속성) 계좌 번호\n",
    "        self.owner = owner                   # (속성) 계좌 소유주\n",
    "        self.balance = amount                # (속성) 잔액\n",
    "        self.history = []                    # (속성) 거래 내역\n",
    "\n",
    "    def deposit(self, amount):               # (메소드) 입금\n",
    "        self.balance += amount\n",
    "        self.history.append(f\"입금: {amount}\")\n",
    "        return self.balance\n",
    "\n",
    "    def withdraw(self, amount):              # (메소드) 출금\n",
    "        self.balance -= amount\n",
    "        self.history.append(f\"출금: {amount}\")\n",
    "        return self.balance\n",
    "\n",
    "    \n",
    "    # 매직 메소드 ----------------------------------------\n",
    "    def __str__(self):\n",
    "        return f\"현재 잔액은 {self.balance}원입니다.\"\n",
    "\n",
    "    def __repr__(self):\n",
    "        return f\"Account(balance={self.balance})\"\n",
    "    \n",
    "    def __len__(self):\n",
    "        return len(self.history)             # 거래 횟수 확인\n",
    "\n",
    "    def __getitem__(self, index):\n",
    "        return self.history[index]           # 인덱스 활용 → 거래 내역 접근\n",
    "\n",
    "    def __iter__(self):\n",
    "        return iter(self.history)            # 거래 내역 반복 가능\n",
    "\n",
    "    def __call__(self, amount):              # 함수처럼 호출 → 자동 입금 처리\n",
    "        return self.deposit(amount)"
   ]
  },
  {
   "cell_type": "code",
   "execution_count": 32,
   "id": "e04fd90c-6412-4c19-8ca5-d9f83f7f47ec",
   "metadata": {},
   "outputs": [],
   "source": [
    "# 여러 계좌를 리스트로 관리\n",
    "accounts = [\n",
    "    Account(\"123-01\", \"Kim\", 12000),\n",
    "    Account(\"123-02\", \"Lee\", 45000),\n",
    "    Account(\"123-03\", \"Park\", 33000),\n",
    "    Account(\"123-04\", \"Park\", 70000)\n",
    "]"
   ]
  },
  {
   "cell_type": "code",
   "execution_count": 33,
   "id": "30eccf9b-0639-4e4d-93b3-73d1032a4bfd",
   "metadata": {},
   "outputs": [
    {
     "name": "stdout",
     "output_type": "stream",
     "text": [
      "Kim님의 123-01 계좌 → 현재 잔액은 12000원입니다.\n",
      "Lee님의 123-02 계좌 → 현재 잔액은 45000원입니다.\n",
      "Park님의 123-03 계좌 → 현재 잔액은 33000원입니다.\n",
      "Park님의 123-04 계좌 → 현재 잔액은 70000원입니다.\n"
     ]
    }
   ],
   "source": [
    "# 전체 계좌 잔액 출력\n",
    "for acc in accounts:\n",
    "    print(f\"{acc.owner}님의 {acc.account_number} 계좌 → {acc}\")"
   ]
  },
  {
   "cell_type": "code",
   "execution_count": 34,
   "id": "4324c7e1-347b-4df6-9db4-a56040656200",
   "metadata": {},
   "outputs": [],
   "source": [
    "# 모든 계좌에 5,000원 입금\n",
    "for acc in accounts:\n",
    "    acc.deposit(5000)"
   ]
  },
  {
   "cell_type": "code",
   "execution_count": 35,
   "id": "08a84ab7-10f4-40ec-bae8-36c6e18acc98",
   "metadata": {},
   "outputs": [
    {
     "name": "stdout",
     "output_type": "stream",
     "text": [
      "입금 후 잔액:\n",
      "Kim님의 계좌 → 현재 잔액은 17000원입니다.\n",
      "Lee님의 계좌 → 현재 잔액은 50000원입니다.\n",
      "Park님의 계좌 → 현재 잔액은 38000원입니다.\n",
      "Park님의 계좌 → 현재 잔액은 75000원입니다.\n"
     ]
    }
   ],
   "source": [
    "# 모든 계좌의 최종 잔액 출력\n",
    "print(\"입금 후 잔액:\")\n",
    "for acc in accounts:\n",
    "    print(f\"{acc.owner}님의 계좌 → {acc}\")"
   ]
  },
  {
   "cell_type": "code",
   "execution_count": 36,
   "id": "45754180-eaf7-4905-ab2f-cb22d9beaf47",
   "metadata": {},
   "outputs": [
    {
     "name": "stdout",
     "output_type": "stream",
     "text": [
      "가장 첫 번째 계좌 소유주: Kim\n"
     ]
    }
   ],
   "source": [
    "# 특정 인덱스로 접근하여 사용\n",
    "print(\"가장 첫 번째 계좌 소유주:\", accounts[0].owner)"
   ]
  },
  {
   "cell_type": "code",
   "execution_count": 37,
   "id": "b1c11275-1e09-40cc-9950-8147524be0b1",
   "metadata": {},
   "outputs": [
    {
     "data": {
      "text/plain": [
       "[Account(balance=38000)]"
      ]
     },
     "execution_count": 37,
     "metadata": {},
     "output_type": "execute_result"
    }
   ],
   "source": [
    "# 계좌 번호가 123-03인 계좌 리스트\n",
    "my_acc = [acc for acc in accounts if acc.account_number == \"123-03\"]\n",
    "my_acc"
   ]
  },
  {
   "cell_type": "code",
   "execution_count": 38,
   "id": "f724937c-f91e-4997-b8ce-e780078689e9",
   "metadata": {},
   "outputs": [
    {
     "data": {
      "text/plain": [
       "['Lee', 'Park']"
      ]
     },
     "execution_count": 38,
     "metadata": {},
     "output_type": "execute_result"
    }
   ],
   "source": [
    "# 잔액이 5만원 이상인 계좌 리스트\n",
    "vip_acc = [acc for acc in accounts if acc.balance >= 50000]\n",
    "vip_names = [acc.owner for acc in vip_acc]\n",
    "vip_names"
   ]
  },
  {
   "cell_type": "code",
   "execution_count": 39,
   "id": "426780a6-dd62-4f42-bb75-f855681ae2e8",
   "metadata": {},
   "outputs": [
    {
     "name": "stdout",
     "output_type": "stream",
     "text": [
      "전체 잔액 합계: 180000원\n"
     ]
    }
   ],
   "source": [
    "# 리스트 내 모든 계좌의 잔액 합계\n",
    "total_balance = sum(acc.balance for acc in accounts)\n",
    "print(f\"전체 잔액 합계: {total_balance}원\")"
   ]
  },
  {
   "cell_type": "markdown",
   "id": "d04e62b6-2a5f-4eec-bec5-6d3f4f9ce427",
   "metadata": {},
   "source": [
    "<br>\n",
    "\n",
    "**(과제)** 클래스와 리스트 실습\n",
    "\n",
    "+ `Playlist` 클래스 인스턴스들이 담긴 리스트 `mylists`를 활용하여 다음 문제를 해결하라.\n",
    "  + 문제1. playlists 리스트에서 플레이리스트 이름이 \"Pop Hits\"인 인스턴스를 찾아서 출력하라.\n",
    "  + 문제2. 모든 플레이리스트의 총 노래 개수를 출력하라.\n",
    "  + 문제3. \"Jazz Vibes\" 플레이리스트에 \"Autumn Leaves\" 노래를 추가하고, 노래 목록을 출력하라.\n",
    "  + 문제4. 노래 개수가 3개 이상인 플레이리스트만 별도의 리스트로 만들어 출력하라.\n",
    "  + 문제5. 모든 플레이리스트의 첫 번째 노래 제목만 모아서 리스트로 만들어 출력하라."
   ]
  },
  {
   "cell_type": "code",
   "execution_count": 40,
   "id": "ef942727-08e6-4972-833d-0dd184508b50",
   "metadata": {},
   "outputs": [],
   "source": [
    "## 클래스 정의 : 음악 플레이리스트\n",
    "class Playlist:\n",
    "    def __init__(self, name, songs=None):\n",
    "        self.name = name                     # (속성) 플레이리스트 이름\n",
    "        self.songs = songs if songs else []  # (속성) 노래 목록 (리스트)\n",
    "        \n",
    "    def add_song(self, song):                # (메소드) 노래 추가\n",
    "        self.songs.append(song)\n",
    "\n",
    "    def remove_song(self, song):             # (메소드) 노래 삭제 (있으면)\n",
    "        if song in self.songs:\n",
    "            self.songs.remove(song)\n",
    "\n",
    "    def clear(self):                         # (메소드) 플레이리스트 초기화\n",
    "        self.songs.clear()\n",
    "\n",
    "    def __str__(self):\n",
    "        return f\"Playlist '{self.name}' with {len(self)} songs\"\n",
    "\n",
    "    def __repr__(self):\n",
    "        return f\"Playlist('{self.name}', {self.songs})\"\n",
    "\n",
    "    def __len__(self):\n",
    "        return len(self.songs)\n",
    "\n",
    "    def __getitem__(self, index):\n",
    "        return self.songs[index]\n",
    "\n",
    "    def __iter__(self):\n",
    "        return iter(self.songs)\n",
    "\n",
    "    def __call__(self):                      # 함수처럼 호출 → 노래 제목 리스트 반환\n",
    "        return [song for song in self.songs]"
   ]
  },
  {
   "cell_type": "code",
   "execution_count": 41,
   "id": "10960273-0ee2-453f-93b3-868fcd79536b",
   "metadata": {},
   "outputs": [],
   "source": [
    "# Playlist 인스턴스 3개 생성\n",
    "playlist1 = Playlist(\"Rock Classics\", [\"Bohemian Rhapsody\", \"Stairway to Heaven\", \"Hotel California\"])\n",
    "playlist2 = Playlist(\"Pop Hits\", [\"Bad Guy\", \"Shape of You\", \"Blinding Lights\"])\n",
    "playlist3 = Playlist(\"Jazz Vibes\", [\"So What\", \"Take Five\", \"Blue in Green\"])\n",
    "\n",
    "# Playlist 인스턴스 리스트\n",
    "mylists = [playlist1, playlist2, playlist3]"
   ]
  },
  {
   "cell_type": "markdown",
   "id": "3f6d90ad-da38-4bcd-8ab3-1152062bc83e",
   "metadata": {},
   "source": [
    "<br>\n",
    "\n",
    "## 5.5. 정보 은닉과 접근 제어\n",
    "+ 클래스는 내부 데이터를 직접 노출하지 않고, 메소드를 통해 인스턴스 상태를 보호함\n",
    "+ 외부에서 속성에 무분별하게 접근하거나 변경하는 것을 막기 위해 접근 제어를 사용함\n",
    "+ 이러한 개념을 캡슐화(encapsulation)라고 하며, 객체지향 프로그래밍의 핵심 원칙 중 하나임\n",
    "  + 데이터 보호, 유지보수성 향상, 인터페이스의 안전성 확보에 기여\n",
    "\n",
    "<br>\n",
    "\n",
    "|접근 수준|사용|설명|\n",
    "|:---:|:---:|:------------|\n",
    "|public|self.value, method()|외부에서 자유롭게 접근 가능|\n",
    "|protected|\\_value, \\_method()|관례상 내부 전용, 하위 클래스에서 접근 가능|\n",
    "|private|\\_\\_value, \\_\\_method()|클래스 외부에서 직접 접근 불가(name mangling 적용)|\n",
    "\n",
    "<br>\n",
    "\n",
    "+ `proteced`와 `private`는 문법적으로 엄격히 강제되지는 않으며, 개발자 간의 약속과 안전성 목적에서 사용됨\n",
    "+ `private`는 클래스 내부에서만 접근할 수 있도록 name mangling이 적용됨\n",
    "  + 이름이 `_클래스 이름__속성 이름` 형태로 자동 변경되어 외부 접근을 어렵게 함\n",
    "+ 외부에서 `private` 속성에 접근해야 할 경우 `getter`, `setter` 메소드를 통해 우회적으로 접근함\n",
    "  + `getter` : 속성 값을 읽는 메소드로, 일반적으로 `get_속성 이름()` 형태 사용\n",
    "  + `setter` : 속성 값을 설정하는 메소드로, 일반적으로 `set_속성 이름(값)` 형태 사용\n",
    "+ (예) 음수 값 입력을 막거나, 주민번호와 같은 민감한 정보 보호에 활용"
   ]
  },
  {
   "cell_type": "code",
   "execution_count": 42,
   "id": "39f19753-9441-42bb-938e-554182adc25b",
   "metadata": {},
   "outputs": [],
   "source": [
    "## 클래스 정의 : 학생 정보\n",
    "class Student:\n",
    "    def __init__(self, name, age, student_id):\n",
    "        self.name = name                     # (속성) 이름, public : 자유 접근\n",
    "        self._age = age                      # (속성) 연령, protected : 내부/상속용\n",
    "        self.__student_id = student_id       # (속성) 학번, private : 외부 접근 차단\n",
    "\n",
    "    # getter 메소드\n",
    "    def get_student_id(self):\n",
    "        return self.__student_id\n",
    "\n",
    "    # setter 메소드\n",
    "    def set_student_id(self, new_id):\n",
    "        if isinstance(new_id, str) and new_id.startswith(\"S\"):\n",
    "            self.__student_id = new_id\n",
    "        else:\n",
    "            print(\"학번은 'S'로 시작하는 문자열이어야 합니다.\")"
   ]
  },
  {
   "cell_type": "code",
   "execution_count": 43,
   "id": "aee7e41c-9311-4d0c-9665-82c77f370846",
   "metadata": {},
   "outputs": [],
   "source": [
    "# 인스턴스 생성\n",
    "s = Student(\"홍길동\", 20, \"S20250605\")"
   ]
  },
  {
   "cell_type": "code",
   "execution_count": 44,
   "id": "4532d56a-94e3-42b7-a338-4f75c7be0fb5",
   "metadata": {},
   "outputs": [
    {
     "data": {
      "text/plain": [
       "'홍길동'"
      ]
     },
     "execution_count": 44,
     "metadata": {},
     "output_type": "execute_result"
    }
   ],
   "source": [
    "# public 속성 접근\n",
    "s.name"
   ]
  },
  {
   "cell_type": "code",
   "execution_count": 45,
   "id": "1fd87c70-39d0-46cf-9895-008a53567010",
   "metadata": {},
   "outputs": [
    {
     "data": {
      "text/plain": [
       "20"
      ]
     },
     "execution_count": 45,
     "metadata": {},
     "output_type": "execute_result"
    }
   ],
   "source": [
    "# protected 속성 접근 : 문법적으로는 가능하나, 관례상 외부에서 접근하지 않음\n",
    "s._age"
   ]
  },
  {
   "cell_type": "code",
   "execution_count": 46,
   "id": "acea4c98-bcc0-4243-956e-0f8fae97f850",
   "metadata": {},
   "outputs": [
    {
     "data": {
      "text/plain": [
       "22"
      ]
     },
     "execution_count": 46,
     "metadata": {},
     "output_type": "execute_result"
    }
   ],
   "source": [
    "# protected 속성 수정 : 문법적으로 가능하나, 사용 권장되지 않음\n",
    "s._age = 22\n",
    "s._age"
   ]
  },
  {
   "cell_type": "code",
   "execution_count": 47,
   "id": "d19d256c-74a8-4c8e-abb8-ec634067d5f6",
   "metadata": {},
   "outputs": [],
   "source": [
    "# private 속성 접근 → 직접 접근 불가\n",
    "#s.__student_id                              # Error!"
   ]
  },
  {
   "cell_type": "code",
   "execution_count": 48,
   "id": "1d8b2749-0230-43ce-8a46-8632e9e85ccc",
   "metadata": {},
   "outputs": [
    {
     "data": {
      "text/plain": [
       "'S20250605'"
      ]
     },
     "execution_count": 48,
     "metadata": {},
     "output_type": "execute_result"
    }
   ],
   "source": [
    "# private 속성 접근 : name mangling 방식으로 우회 가능하나, 절대 사용 권장하지 않음\n",
    "s._Student__student_id"
   ]
  },
  {
   "cell_type": "code",
   "execution_count": 49,
   "id": "e7037194-79bf-43ea-8eaf-d5b46adf3627",
   "metadata": {},
   "outputs": [
    {
     "data": {
      "text/plain": [
       "'S20250302'"
      ]
     },
     "execution_count": 49,
     "metadata": {},
     "output_type": "execute_result"
    }
   ],
   "source": [
    "# private 속성 수정 : 우회 가능하나, 절대 사용 권장하지 않음 → 내부 구현 침해\n",
    "s._Student__student_id = \"S20250302\"\n",
    "s._Student__student_id"
   ]
  },
  {
   "cell_type": "code",
   "execution_count": 50,
   "id": "b5eb95a5-1251-4ead-a184-f5df5304d3f0",
   "metadata": {},
   "outputs": [
    {
     "data": {
      "text/plain": [
       "'S20250302'"
      ]
     },
     "execution_count": 50,
     "metadata": {},
     "output_type": "execute_result"
    }
   ],
   "source": [
    "# private 속성 접근 : getter 메소드 사용\n",
    "s.get_student_id()"
   ]
  },
  {
   "cell_type": "code",
   "execution_count": 51,
   "id": "2697dae1-7ab7-43b2-9416-4d54ab1305bf",
   "metadata": {},
   "outputs": [
    {
     "name": "stdout",
     "output_type": "stream",
     "text": [
      "학번은 'S'로 시작하는 문자열이어야 합니다.\n"
     ]
    }
   ],
   "source": [
    "# private 속성 수정1 : setter 메소드 사용\n",
    "s.set_student_id(\"A20250612\")"
   ]
  },
  {
   "cell_type": "code",
   "execution_count": 52,
   "id": "0c1f17df-d1ae-4fd9-a166-07b9edec2345",
   "metadata": {},
   "outputs": [],
   "source": [
    "# private 속성 수정2 : setter 메소드 사용\n",
    "s.set_student_id(\"S20250612\")"
   ]
  },
  {
   "cell_type": "code",
   "execution_count": 53,
   "id": "667cae56-8636-4962-ae3a-1ccc87fb4674",
   "metadata": {},
   "outputs": [
    {
     "data": {
      "text/plain": [
       "'S20250612'"
      ]
     },
     "execution_count": 53,
     "metadata": {},
     "output_type": "execute_result"
    }
   ],
   "source": [
    "# private 속성 접근 : getter 메소드 사용\n",
    "s.get_student_id()"
   ]
  },
  {
   "cell_type": "code",
   "execution_count": 54,
   "id": "eae5c631-5da2-49f2-bd4d-bb5ddb8807e4",
   "metadata": {},
   "outputs": [],
   "source": [
    "## 클래스 : 비밀번호 검사기\n",
    "# private와 __call__() 매직 메소드를 이용하여\n",
    "# 내부 로직은 숨기고, 외부에는 간단한 인터페이스만 제공함\n",
    "class PasswordChecker:\n",
    "    def __init__(self, password):\n",
    "        self.__password = password           # (속성) 비밀번호, private\n",
    "\n",
    "    # 비밀번호 길이 8 이상, 숫자 포함 여부 검사\n",
    "    # → 복잡한 검증 로직은 숨기고, 인스턴스를 함수처럼 호출하여 사용 가능\n",
    "    def __call__(self):        \n",
    "        has_number = any(char.isdigit() for char in self.__password)\n",
    "        is_valid = len(self.__password) >= 8 and has_number\n",
    "        return is_valid\n",
    "\n",
    "    # (메소드) 비밀번호 직접 노출 방지\n",
    "    def show_password(self):\n",
    "        return \"비밀번호는 볼 수 없습니다.\""
   ]
  },
  {
   "cell_type": "code",
   "execution_count": 55,
   "id": "1ef920a7-e6c4-4d11-a1d3-633f7ac043b7",
   "metadata": {},
   "outputs": [
    {
     "name": "stdout",
     "output_type": "stream",
     "text": [
      "True\n",
      "비밀번호는 볼 수 없습니다.\n"
     ]
    }
   ],
   "source": [
    "checker = PasswordChecker(\"mypassword123\")\n",
    "print(checker())\n",
    "print(checker.show_password())"
   ]
  },
  {
   "cell_type": "markdown",
   "id": "1d8f5cd4-7b08-4141-ad7b-92702e79bfb9",
   "metadata": {},
   "source": [
    "<br>\n",
    "\n",
    "**(과제)** 정보 은닉과 접근 제어 실습\n",
    "\n",
    "+ 다음 조건을 만족하는 은행계좌 클래스 `Account`를 작성하라.\n",
    "  + 속성(attributes)\n",
    "    + **계좌 번호**, **계좌 소유주** : 한 번 설정되면 변경할 수 없음\n",
    "    + **잔액**, **거래 내역** : 입금, 출금을 통해서만 변경 가능\n",
    "  + 메소드(method)\n",
    "      + **입금**, **출금**, **현재 잔액 확인**, **거래 내역 확인**, **계좌 번호 확인**, **계좌 소유주 확인**\n",
    "      + 단, 1회 출금 금액은 1,000만원을 초과할 수 없음"
   ]
  },
  {
   "cell_type": "markdown",
   "id": "0492d3b5-0b9c-45b0-b3fb-bf0222d6fa84",
   "metadata": {},
   "source": [
    "<br>\n",
    "\n",
    "## 5.6. 클래스 상속\n",
    "### 5.6.1. 클래스 상속 소개\n",
    "+ 클래스 상속(class inheritance)\n",
    "  + 기존 클래스의 속성과 메소드를 물려받아 새로운 클래스를 만드는 개념\n",
    "  + 코드 재사용과 유지보수성 향상에 매우 유리함\n",
    "  + 자식 클래스는 부모 클래스의 모든 특성을 물려받으며, 필요에 따라 새로운 속성이나 메소드를 추가할 수 있음\n",
    "    + 부모 클래스의 속성이나 메소드는 `super()` 함수로 호출함\n",
    "    + 부모 클래스의 메소드를 자식 클래스에서 다시 정의하는 것을 오버라이딩(overriding)이라고 함\n",
    "  + 공통된 기능은 부모 클래스에 정의하고, 각각의 차이는 자식 클래스에서 구현하여 코드의 구조화와 확장성을 도모함\n",
    "\n",
    "<br>\n",
    "\n",
    "|구분|설명|\n",
    "|:------------:|:------------|\n",
    "|부모 클래스(parent class, superclass)|상속해주는 기존 클래스|\n",
    "|자식 클래스(child class, subclass)|상속받아 새롭게 정의되는 클래스|\n",
    "|단일 상속(single inheritance)|하나의 부모 클래스로부터 상속받는 경우|\n",
    "|다중 상속(multiple inheritance)| 둘 이상의 부모 클래스로부터 상속받는 경우|\n",
    "\n",
    "<br>\n",
    "\n",
    "+ (예) 자동차 클래스 `Car` 구조\n",
    "  + 공통 특성 : 모델명, 색상, 제조사, 시동 켜기 기능, 시동 끄기 기능\n",
    "  + 가솔린차 `GasolineCar` : 연료 탱크 용량, 주유 기능\n",
    "  + 디젤차 `DieselCar` : 연료 탱크 용량, 주유 기능, 배출가스 측정 기능\n",
    "  + 전기차 `ElectricCar` : 배터리 용량, 충전 기능\n",
    "\n",
    "![](./images/fig5-2.png){width=80%}\n",
    "\n",
    "<br>\n",
    "\n",
    "> Class Parent: <br>\n",
    "> 　　# 부모 클래스 정의 <br>\n",
    "> <br>\n",
    "> Class Child(Parent): <br>\n",
    "> 　　# 자식 클래스 정의, 부모 클래스 상속 <br>"
   ]
  },
  {
   "cell_type": "code",
   "execution_count": 56,
   "id": "df80c16c-93da-422a-8bd2-007175d398ea",
   "metadata": {},
   "outputs": [],
   "source": [
    "## 부모 클래스 : Car\n",
    "class Car:\n",
    "    def __init__(self, model, color, manufacturer):\n",
    "        self.model = model                                  # (속성) 모델명\n",
    "        self.color = color                                  # (속성) 색상\n",
    "        self.manufacturer = manufacturer                    # (속성) 제조사\n",
    "\n",
    "    \n",
    "    def start_engine(self):                                 # (메소드) 시동 켜기\n",
    "        print(f\"{self.model}의 시동을 켭니다.\")\n",
    "    \n",
    "    def stop_engine(self):                                  # (메소드) 시동 끄기\n",
    "        print(f\"{self.model}의 시동을 끕니다.\")"
   ]
  },
  {
   "cell_type": "code",
   "execution_count": 57,
   "id": "9a31d4bc-8109-4b08-9860-1cc1312d9be7",
   "metadata": {},
   "outputs": [],
   "source": [
    "## 자식 클래스1 : GasolineCar\n",
    "class GasolineCar(Car):\n",
    "    def __init__(self, model, color, manufacturer, fuel_tank_capacity):\n",
    "        super().__init__(model, color, manufacturer)        # (속성) 부모 클래스 속성 상속\n",
    "        self.fuel_tank_capacity = fuel_tank_capacity        # (속성) 연료 탱크 용량, 가솔린차 고유 속성\n",
    "\n",
    "    \n",
    "    def refuel(self):                                       # (메소드) 주유, 가솔린차 고유 메소드\n",
    "        print(f\"{self.model}에 주유합니다. 탱크 용량: {self.fuel_tank_capacity}L\")"
   ]
  },
  {
   "cell_type": "code",
   "execution_count": 58,
   "id": "54e884bc-96c7-41d4-801b-616c217459ce",
   "metadata": {},
   "outputs": [],
   "source": [
    "## 자식 클래스2 : DieselCar\n",
    "class DieselCar(Car):\n",
    "    def __init__(self, model, color, manufacturer, fuel_tank_capacity):\n",
    "        super().__init__(model, color, manufacturer)        # (속성) 부모 클래스 속성 상속\n",
    "        self.fuel_tank_capacity = fuel_tank_capacity        # (속성) 연료 탱크 용량, 디젤차 고유 속성\n",
    "\n",
    "    \n",
    "    def refuel(self):                                       # (메소드) 주유, 디젤차 고유 메소드\n",
    "        print(f\"{self.model}에 디젤 주유합니다. 탱크 용량: {self.fuel_tank_capacity}L\")\n",
    "    \n",
    "    def check_emission(self):                               # (메소드) 배출가스 측정, 디젤차 고유 메소드\n",
    "        print(f\"{self.model}의 배출가스를 측정합니다.\")"
   ]
  },
  {
   "cell_type": "code",
   "execution_count": 59,
   "id": "647adf65-515c-4cf3-bfbc-1e89a16c5239",
   "metadata": {},
   "outputs": [],
   "source": [
    "## 자식 클래스3 : ElectricCar\n",
    "class ElectricCar(Car):\n",
    "    def __init__(self, model, color, manufacturer, battery_capacity):\n",
    "        super().__init__(model, color, manufacturer)        # (속성) 부모 클래스 속성 상속\n",
    "        self.battery_capacity = battery_capacity            # (속성) 배터리 용량, 전기차 고유 속성\n",
    "\n",
    "    def charge(self):                                       # (메소드) 충전, 전기차 고유 메소드\n",
    "        print(f\"{self.model}을 충전합니다. 배터리 용량: {self.battery_capacity}kWh\")"
   ]
  },
  {
   "cell_type": "code",
   "execution_count": 60,
   "id": "c6bef3ff-26b9-40c0-828f-a1e58ea24222",
   "metadata": {},
   "outputs": [],
   "source": [
    "# 인스턴스 생성\n",
    "gas_car = GasolineCar(\"Car A\", \"Red\", \"Manufacturer A\", 50)\n",
    "diesel_car = DieselCar(\"Car B\", \"Blue\", \"Manufacturer B\", 60)\n",
    "electric_car = ElectricCar(\"Car C\", \"White\", \"Manufacturer C\", 40)"
   ]
  },
  {
   "cell_type": "code",
   "execution_count": 61,
   "id": "8dc5a359-76e5-47b1-8b97-de3f04b476c2",
   "metadata": {},
   "outputs": [
    {
     "name": "stdout",
     "output_type": "stream",
     "text": [
      "Car A의 시동을 켭니다.\n",
      "Car A에 주유합니다. 탱크 용량: 50L\n",
      "Car A의 시동을 끕니다.\n"
     ]
    }
   ],
   "source": [
    "# 인스턴스 메소드 사용1\n",
    "gas_car.start_engine()                       # 부모 클래스 메소드\n",
    "gas_car.refuel()                             # 자식 클래스 고유 메소드\n",
    "gas_car.stop_engine()                        # 부모 클래스 메소드"
   ]
  },
  {
   "cell_type": "code",
   "execution_count": 62,
   "id": "a02cbac5-06ce-4855-b7d8-92789f7fe963",
   "metadata": {},
   "outputs": [
    {
     "name": "stdout",
     "output_type": "stream",
     "text": [
      "Car B의 시동을 켭니다.\n",
      "Car B에 디젤 주유합니다. 탱크 용량: 60L\n",
      "Car B의 배출가스를 측정합니다.\n",
      "Car B의 시동을 끕니다.\n"
     ]
    }
   ],
   "source": [
    "# 인스턴스 메소드 사용2\n",
    "diesel_car.start_engine()\n",
    "diesel_car.refuel()\n",
    "diesel_car.check_emission()\n",
    "diesel_car.stop_engine()"
   ]
  },
  {
   "cell_type": "code",
   "execution_count": 63,
   "id": "eb688f10-d3e9-4df4-aa17-67bc4edfce16",
   "metadata": {},
   "outputs": [
    {
     "name": "stdout",
     "output_type": "stream",
     "text": [
      "Car C의 시동을 켭니다.\n",
      "Car C을 충전합니다. 배터리 용량: 40kWh\n",
      "Car C의 시동을 끕니다.\n"
     ]
    }
   ],
   "source": [
    "# 인스턴스 메소드 사용3\n",
    "electric_car.start_engine()\n",
    "electric_car.charge()\n",
    "electric_car.stop_engine()"
   ]
  },
  {
   "cell_type": "code",
   "execution_count": 64,
   "id": "a72013fa-775c-40f0-9918-a721f2ec127b",
   "metadata": {},
   "outputs": [],
   "source": [
    "## 보조 클래스(Mixin): 원격 시동 기능\n",
    "# Mixmin 클래스 : 독립적인 기능을 다른 클래스에 추가하기 위해 설계된 클래스\n",
    "# 자체로는 완전한 객체가 되지 않으며, 다른 클래스와 함께 상속되어 기능을 보완함\n",
    "class RemoteControlMixin:\n",
    "    def remote_start(self):\n",
    "        print(f\"{self.model}의 시동을 원격으로 켭니다.\")\n",
    "\n",
    "    def remote_stop(self):\n",
    "        print(f\"{self.model}의 시동을 원격으로 끕니다.\")\n",
    "\n",
    "\n",
    "## 다중 상속 자식 클래스: 가솔린차 + 원격 제어 기능\n",
    "# 다중 상속 : 괄호 안에 부모 클래스를 쉼표로 나열하여 순서대로 상속함\n",
    "class RemoteGasolineCar(Car, RemoteControlMixin):\n",
    "    def __init__(self, model, color, manufacturer, fuel_tank_capacity):\n",
    "        super().__init__(model, color, manufacturer)\n",
    "        self.fuel_tank_capacity = fuel_tank_capacity\n",
    "\n",
    "    def fuel_info(self):\n",
    "        print(f\"{self.model}는 가솔린차이며, 연료 탱크 용량은 {self.fuel_tank_capacity}L입니다.\")"
   ]
  },
  {
   "cell_type": "code",
   "execution_count": 65,
   "id": "627e1786-0128-43ea-be3c-4a79dc3c3c06",
   "metadata": {},
   "outputs": [
    {
     "name": "stdout",
     "output_type": "stream",
     "text": [
      "Car D의 시동을 켭니다.\n",
      "Car D의 시동을 원격으로 켭니다.\n",
      "Car D는 가솔린차이며, 연료 탱크 용량은 55L입니다.\n"
     ]
    }
   ],
   "source": [
    "# 인스턴스 생성 및 메소드 사용\n",
    "car = RemoteGasolineCar(\"Car D\", \"Black\", \"Manufacturer D\", 55)\n",
    "\n",
    "car.start_engine()                           # Car 클래스 메소드\n",
    "car.remote_start()                           # RemoteControlMixin 클래스 메소드\n",
    "car.fuel_info()                              # 자식 클래스 고유 메소드"
   ]
  },
  {
   "cell_type": "markdown",
   "id": "d5578e4d-e1c0-4a74-8122-225a62b1e5b1",
   "metadata": {},
   "source": [
    "<br>\n",
    "\n",
    "### 5.6.2. 메소드 오버라이딩\n",
    "+ 자식 클래스가 부모 클래스의 메소드를 재정의하여 다르게 동작하도록 만드는 것\n",
    "+ 자식 클래스의 역할과 동작 방식에 맞게 메소드를 새롭게 구현할 수 있음\n",
    "  + 메소드 이름과 매개변수 구조는 부모 클래스와 동일해야 함\n",
    "+ 오버라이딩은 상속의 유연성과 확장성을 높여줌"
   ]
  },
  {
   "cell_type": "code",
   "execution_count": 66,
   "id": "876f1948-3d9c-4b6a-826a-9fe42c702a70",
   "metadata": {},
   "outputs": [],
   "source": [
    "## 부모 클래스 : 동물\n",
    "class Animal:\n",
    "    def __init__(self, name):\n",
    "        self.name = name                     # (속성) 동물 이름\n",
    "\n",
    "    def speak(self):                         # (메소드) 소리 내기\n",
    "        print(f\"{self.name}가 소리를 냅니다.\")\n",
    "\n",
    "\n",
    "## 자식 클래스 : 개\n",
    "class Dog(Animal):\n",
    "    def __init__(self, name, breed):\n",
    "        super().__init__(name)               # (속성) 부모 클래스 속성 상속\n",
    "        self.breed = breed                   # (속성) 품종, 개 고유 속성\n",
    "    \n",
    "    def speak(self):                         # (메소드 오버라이딩) 소리 내기 - 개 고유 동작(멍멍)\n",
    "        super().speak()                      # 부모 클래스의 sound 메소드 호출\n",
    "        print(f\"{self.name}는 멍멍 짖습니다.\")"
   ]
  },
  {
   "cell_type": "code",
   "execution_count": 67,
   "id": "935d47ba-9ec1-4488-b72c-14ef640a26a1",
   "metadata": {},
   "outputs": [
    {
     "name": "stdout",
     "output_type": "stream",
     "text": [
      "구름이가 소리를 냅니다.\n",
      "구름이는 멍멍 짖습니다.\n"
     ]
    }
   ],
   "source": [
    "# 인스턴스 생성 및 메소드 사용\n",
    "dog = Dog(\"구름이\", \"말티즈\")\n",
    "dog.speak()"
   ]
  }
 ],
 "metadata": {
  "kernelspec": {
   "display_name": "Python 3 (ipykernel)",
   "language": "python",
   "name": "python3"
  },
  "language_info": {
   "codemirror_mode": {
    "name": "ipython",
    "version": 3
   },
   "file_extension": ".py",
   "mimetype": "text/x-python",
   "name": "python",
   "nbconvert_exporter": "python",
   "pygments_lexer": "ipython3",
   "version": "3.9.21"
  }
 },
 "nbformat": 4,
 "nbformat_minor": 5
}
