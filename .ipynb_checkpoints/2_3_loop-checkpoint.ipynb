{
 "cells": [
  {
   "cell_type": "markdown",
   "id": "09a811d9-1600-4741-96a6-d9be9396138c",
   "metadata": {},
   "source": [
    "# 2. Python 기초\n",
    "## 2.3. 반복문\n",
    "### 2.3.1. for 문\n",
    "\n",
    "> for 반복변수 in 반복범위: <br>\n",
    "> 　　문장\n",
    "\n",
    "+ 반복범위를 지정하여(정해진 횟수만큼) 반복해서 문장을 실행함\n",
    "+ 반복범위 오른쪽에는 `:`이 위치하고, 반복해서 실행할 문장은 반드시 **들여쓰기**해야 함\n",
    "+ 반복범위에는 범위, 문자열, 리스트, 딕셔너리 등이 사용될 수 있음\n",
    "  + 그 중 범위가 가장 많이 사용되며, `range()` 함수로 만들 수 있음\n",
    " \n",
    "|형식|설명|예시|결과|\n",
    "|:------|:------------|:---:|:---:|\n",
    "|range(종료값)|0으로 시작해서 1씩 증가하며 종료값 전까지의 정수를 생성|range(5)|0,1,2,3,4|\n",
    "|range(시작값, 종료값)|시작값으로 시작해서 1씩 증가하며 종료값 전까지의 정수를 생성|rang(2,7)|2,3,4,5,6|\n",
    "|range(시작값, 종료값, 증가값)|시작값으로 시작해서 증가값만큼 증가시키면서 종료값 전까지의 정수를 생성|range(2,11,3)|2,5,8|"
   ]
  },
  {
   "cell_type": "code",
   "execution_count": 3,
   "id": "8e909b4f-8ccf-44bd-bab9-4e063e9a92e3",
   "metadata": {},
   "outputs": [
    {
     "name": "stdout",
     "output_type": "stream",
     "text": [
      "Hello!\n",
      "Hello!\n",
      "Hello!\n"
     ]
    }
   ],
   "source": [
    "# 문자열을 3번 반복해서 출력\n",
    "for i in range(3):\n",
    "    print(\"Hello!\")"
   ]
  },
  {
   "cell_type": "code",
   "execution_count": 6,
   "id": "48a587f1-ed89-4d33-b155-9dc906769013",
   "metadata": {},
   "outputs": [
    {
     "name": "stdout",
     "output_type": "stream",
     "text": [
      "0\n",
      "1\n",
      "2\n",
      "3\n",
      "4\n"
     ]
    }
   ],
   "source": [
    "# 반복범위의 값을 출력1\n",
    "for i in range(5):\n",
    "    print(i)"
   ]
  },
  {
   "cell_type": "code",
   "execution_count": 7,
   "id": "c7e432a7-ce28-4a18-aa2c-81895149df77",
   "metadata": {},
   "outputs": [
    {
     "name": "stdout",
     "output_type": "stream",
     "text": [
      "W\n",
      "o\n",
      "r\n",
      "l\n",
      "d\n"
     ]
    }
   ],
   "source": [
    "# 반복범위의 값을 출력2\n",
    "for i in \"World\":\n",
    "    print(i)"
   ]
  },
  {
   "cell_type": "code",
   "execution_count": 9,
   "id": "a9033268-7f69-4364-9a05-9019ede482fb",
   "metadata": {},
   "outputs": [
    {
     "name": "stdout",
     "output_type": "stream",
     "text": [
      "5050\n"
     ]
    }
   ],
   "source": [
    "# 1~100 정수의 합 계산\n",
    "sum = 0\n",
    "\n",
    "for i in range(1,101):\n",
    "    sum += i\n",
    "\n",
    "print(sum)"
   ]
  },
  {
   "cell_type": "code",
   "execution_count": 12,
   "id": "4a5c0b05-cc83-4586-a267-e64789fa2619",
   "metadata": {},
   "outputs": [
    {
     "name": "stdout",
     "output_type": "stream",
     "text": [
      "1 2 3 5 6 10 15 30 "
     ]
    }
   ],
   "source": [
    "# 30의 약수 출력\n",
    "num = 30\n",
    "\n",
    "for i in range(1, num+1):\n",
    "    if num%i == 0:\n",
    "        print(i, end=' ')"
   ]
  },
  {
   "cell_type": "markdown",
   "id": "33f252d6-b3ab-4e3b-989d-5c84f1d67051",
   "metadata": {},
   "source": [
    "<br>\n",
    "\n",
    "### 2.3.2. while 문\n",
    "\n",
    "> while 조건식: <br>\n",
    "> 　　문장\n",
    "\n",
    "+ 조건이 참인 동안 문장을 반복해서 실행하고, 조건이 거짓이면 반복문을 종료함"
   ]
  },
  {
   "cell_type": "code",
   "execution_count": 11,
   "id": "b2cc9356-41bc-4ae7-a489-95b8361096f6",
   "metadata": {},
   "outputs": [
    {
     "name": "stdout",
     "output_type": "stream",
     "text": [
      "5050\n"
     ]
    }
   ],
   "source": [
    "# 1~100 정수의 합 계산\n",
    "sum = 0\n",
    "num = 1\n",
    "\n",
    "while num<=100:\n",
    "    sum += num\n",
    "    num += 1\n",
    "\n",
    "print(sum)"
   ]
  },
  {
   "cell_type": "code",
   "execution_count": 13,
   "id": "143bace2-1b3b-4fe9-b8ff-0088d6433345",
   "metadata": {},
   "outputs": [
    {
     "name": "stdout",
     "output_type": "stream",
     "text": [
      "9x1=9\n",
      "9x2=18\n",
      "9x3=27\n",
      "9x4=36\n",
      "9x5=45\n",
      "9x6=54\n",
      "9x7=63\n",
      "9x8=72\n",
      "9x9=81\n"
     ]
    }
   ],
   "source": [
    "# 구구단 9단 출력\n",
    "num = 1\n",
    "\n",
    "while num<=9:\n",
    "    print(f'9x{num}={9*num}')\n",
    "    num += 1"
   ]
  }
 ],
 "metadata": {
  "kernelspec": {
   "display_name": "Python 3 (ipykernel)",
   "language": "python",
   "name": "python3"
  },
  "language_info": {
   "codemirror_mode": {
    "name": "ipython",
    "version": 3
   },
   "file_extension": ".py",
   "mimetype": "text/x-python",
   "name": "python",
   "nbconvert_exporter": "python",
   "pygments_lexer": "ipython3",
   "version": "3.9.21"
  }
 },
 "nbformat": 4,
 "nbformat_minor": 5
}
