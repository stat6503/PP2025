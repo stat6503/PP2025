{
 "cells": [
  {
   "cell_type": "markdown",
   "id": "36de9f22-4e65-4871-b825-3a4f717a5655",
   "metadata": {},
   "source": [
    "# 2. Python 기초\n",
    "## 2.2. 조건문\n",
    "### 2.2.1. 프로그램 구조\n",
    "\n",
    "+ 프로그램 구조는 크게 순차 구조, 선택 구조, 반복 구조로 구분됨\n",
    "  + 순차 구조 : 위에서부터 아래로 순차적으로 실행되는 구조\n",
    "  + 선택 구조 : 조건에 따라 문장을 선택적으로 실행하는 구조로, 조건이 참(True)인지 거짓(False)인지에 따라 실행되는 문장이 달라짐\n",
    "  + 반복 구조 : 임의의 문장을 반복해서 실행하는 구조\n",
    "\n",
    "<br>\n",
    "\n",
    "![](./images/fig2-1.png)"
   ]
  },
  {
   "cell_type": "markdown",
   "id": "727101c2-c832-4c88-b935-5dfa450bfd7c",
   "metadata": {},
   "source": [
    "<br>\n",
    "\n",
    "### 2.2.2. if 문\n",
    "\n",
    "> if 조건식: <br>\n",
    "> 　　문장\n",
    "\n",
    "+ 조건식이 참이면 문장을 실행하고 거짓이면 문장을 실행하지 않음\n",
    "+ 조건식 오른쪽에 `:`이 위치하고, 참인 경우 실행될 문장은 반드시 <b>들여쓰기(indentation)</b>해야 함\n",
    "\n",
    "<br>\n",
    "\n",
    "![](./images/fig2-2.png)"
   ]
  },
  {
   "cell_type": "code",
   "execution_count": 2,
   "id": "6d12fb88-147f-48e4-aea5-1d50818f0fd4",
   "metadata": {},
   "outputs": [
    {
     "name": "stdout",
     "output_type": "stream",
     "text": [
      "86 81\n"
     ]
    }
   ],
   "source": [
    "# 무작위로 1~100 사이의 두 정수를 생성한 후, 큰 수부터 작은 수 순으로 출력\n",
    "import random\n",
    "a = random.randint(1, 100)\n",
    "b = random.randint(1, 100)\n",
    "\n",
    "if a<b:\n",
    "    a, b = b, a\n",
    "\n",
    "print(a, b)"
   ]
  },
  {
   "cell_type": "markdown",
   "id": "4ddecae0-99c7-42f2-86bd-860e565732ed",
   "metadata": {},
   "source": [
    "<br>\n",
    "\n",
    "### 2.2.3. if\\~else 문\n",
    "\n",
    "> if 조건식: <br>\n",
    "> 　　문장1 <br>\n",
    "> else: <br>\n",
    "> 　　문장2\n",
    "\n",
    "+ 조건식이 참이면 문장1을 실행하고, 거짓이면 문장2를 실행함\n",
    "+ 조건식 오른쪽에 `:`이 위치하고, else 오른쪽에는 조건식 없이 `:`이 위치함\n",
    "+ 문장1과 문장2는 반드시 들여쓰기해야 함\n",
    "\n",
    "<br>\n",
    "\n",
    "![](./images/fig2-3.png)"
   ]
  },
  {
   "cell_type": "code",
   "execution_count": 3,
   "id": "da0508eb-864f-445a-bc76-edb6498b65fc",
   "metadata": {},
   "outputs": [
    {
     "name": "stdout",
     "output_type": "stream",
     "text": [
      "32는 짝수입니다\n"
     ]
    }
   ],
   "source": [
    "# 무작위로 1~100 사이의 정수를 생성한 후, 짝수인지 홀수인지 판단\n",
    "import random\n",
    "a = random.randint(1, 100)\n",
    "\n",
    "if a % 2 == 0:\n",
    "    print(f'{a}는 짝수입니다')\n",
    "else:\n",
    "    print(f'{a}는 홀수입니다')"
   ]
  },
  {
   "cell_type": "markdown",
   "id": "c2f9dde7-39e2-4a3c-a766-014de610f6fa",
   "metadata": {},
   "source": [
    "<br>\n",
    "\n",
    "### 2.2.4. if\\~elif\\~else문\n",
    "\n",
    "> if 조건식1: <br>\n",
    "> 　　문장1 <br>\n",
    "> elif 조건식2: <br>\n",
    "> 　　문장2 <br>\n",
    "> else: <br>\n",
    "> 　　문장3\n",
    "\n",
    "+ 조건식1이 거짓인 경우에 또 다른 선택구조를 연결하는 구조\n",
    "+ 조건식1이 참이면 문장1을 실행하고, 조건식1이 거짓이면서 조건식2가 참이면 문장2를 실행하고, 두 조건식 모두 거짓이면 문장3을 실행함\n",
    "+ 조건식1, 조건식2 오른쪽에 `:`이 위치하고, 문장1, 문장2, 문장3은 반드시 들여쓰기해야 함\n",
    "\n",
    "<br>\n",
    "\n",
    "![](./images/fig2-4.png)"
   ]
  },
  {
   "cell_type": "code",
   "execution_count": 4,
   "id": "37deb691-8a54-45dd-90cd-a5505de326db",
   "metadata": {},
   "outputs": [
    {
     "name": "stdout",
     "output_type": "stream",
     "text": [
      "입장료: 3500.0\n"
     ]
    }
   ],
   "source": [
    "# 놀이공원 기본 입장료는 5,000원임\n",
    "# 8세 미만은 기본 입장료 30% 할인, 65세 이상은 기본 입장료 20% 할인 적용함\n",
    "# 연령이 주어졌을 때, 놀이공원 입장료 산출\n",
    "fee = 5000\n",
    "age = 7\n",
    "\n",
    "if age < 8:\n",
    "    print('입장료:', fee*0.7)\n",
    "elif age < 65:\n",
    "    print('입장료:', fee)\n",
    "else:\n",
    "    print('입장료:', fee*0.8)"
   ]
  }
 ],
 "metadata": {
  "kernelspec": {
   "display_name": "Python 3 (ipykernel)",
   "language": "python",
   "name": "python3"
  },
  "language_info": {
   "codemirror_mode": {
    "name": "ipython",
    "version": 3
   },
   "file_extension": ".py",
   "mimetype": "text/x-python",
   "name": "python",
   "nbconvert_exporter": "python",
   "pygments_lexer": "ipython3",
   "version": "3.9.21"
  }
 },
 "nbformat": 4,
 "nbformat_minor": 5
}
