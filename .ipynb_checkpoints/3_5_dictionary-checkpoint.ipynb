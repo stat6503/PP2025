{
 "cells": [
  {
   "cell_type": "markdown",
   "id": "836a30a6-cde9-4e76-9af7-8b06638e959a",
   "metadata": {},
   "source": [
    "# 3. 자료구조\n",
    "## 3.5. 딕셔너리\n",
    "### 3.5.1. 딕셔너리 생성\n",
    "+ 딕셔너리(dictionary)\n",
    "  + 여러 개의 키-값(key-value) 쌍을 저장할 수 있는 컬렉션 자료형(collection data type)\n",
    "  + 순서가 있는 매핑 자료형(mapping data type)(Python 3.7+)\n",
    "  + 키(key)를 통해 값(value)을 찾는 구조\n",
    "    + 키는 중복될 수 없고(해시 가능한(immutable) 자료형만 가능), 값은 중복 가능함(모든 자료형 가능)\n",
    "  + 한 번 생성된 이후에도 수정할 수 있는 가변형(mutable) 객체\n",
    "\n",
    "<br>\n",
    "\n",
    "+ 딕셔너리 생성\n",
    "  + 리터럴 방식(dictionary literal)\n",
    "    + `{key: value}`를 사용하여 딕셔너리를 직접 정의하는 방법\n",
    "    + `{}` 안에 여러 개의 `key: value` 쌍을 `,`로 구분하여 나열함\n",
    "    + **중복된 키가 있으면 마지막에 정의한 값이 적용됨**\n",
    "  + 생성자 방식(dictionary constructor)\n",
    "    + `dict()` 함수를 사용하여 딕셔너리를 생성하는 방법\n",
    "    + 다른 iterable 객체(리스트, 튜플, 세트, 딕셔너리, 문자열 등)를 인수로 받아 딕셔너리를 생성할 때 유용함\n",
    "      + `zip()` 함수를 이용하여 여러 개의 리스트나 튜플을 병렬로 키-값 쌍의 형태로 구성할 수 있음\n",
    "      + `enumerate()` 함수를 이용하여 인덱스를 키로, 원소를 값으로 하여 쌍으로 묶어 딕셔너리를 생성할 수 있음"
   ]
  },
  {
   "cell_type": "code",
   "execution_count": 1,
   "id": "70d0c985-375a-40f4-950e-0dfdbd335468",
   "metadata": {},
   "outputs": [
    {
     "name": "stdout",
     "output_type": "stream",
     "text": [
      "{'a': 1, 'b': 2, 'c': 3}\n"
     ]
    }
   ],
   "source": [
    "# 딕셔너리 생성1\n",
    "dct = {'a': 1, 'b': 2, 'c': 3}\n",
    "print(dct)"
   ]
  },
  {
   "cell_type": "code",
   "execution_count": 2,
   "id": "66eb996b-13f4-41ec-b9b4-a700ac31459d",
   "metadata": {},
   "outputs": [
    {
     "name": "stdout",
     "output_type": "stream",
     "text": [
      "{'a': 1, 'b': 2, 'c': 3}\n"
     ]
    }
   ],
   "source": [
    "# 딕셔너리 생성2\n",
    "dct = dict(a=1, b=2, c=3)\n",
    "print(dct)"
   ]
  },
  {
   "cell_type": "code",
   "execution_count": 10,
   "id": "97967a23-1fb6-45cd-ad2a-713f76f757c1",
   "metadata": {},
   "outputs": [
    {
     "name": "stdout",
     "output_type": "stream",
     "text": [
      "{'a': 4, 'b': 5, 'c': 3}\n"
     ]
    }
   ],
   "source": [
    "# 딕셔너리 생성3 : 키는 중복될 수 없음\n",
    "dct = {'a':1, 'b': 2, 'c': 3, 'a': 4, 'b': 5}\n",
    "print(dct)"
   ]
  },
  {
   "cell_type": "code",
   "execution_count": 15,
   "id": "82730a70-cdcd-477f-885c-4f3135ce2002",
   "metadata": {},
   "outputs": [
    {
     "name": "stdout",
     "output_type": "stream",
     "text": [
      "{'x': 100, 'y': 200}\n"
     ]
    }
   ],
   "source": [
    "# 딕셔너리 생성4 : (key, value) 쌍의 리스트 사용\n",
    "dct = dict([('x', 100), ('y', 200)])\n",
    "print(dct)"
   ]
  },
  {
   "cell_type": "code",
   "execution_count": 63,
   "id": "d6e235a5-e5cb-487c-b914-d0b09ac6a6b2",
   "metadata": {},
   "outputs": [
    {
     "name": "stdout",
     "output_type": "stream",
     "text": [
      "{'name': 'Alice', 'age': 28, 'city': 'Jeonju'}\n"
     ]
    }
   ],
   "source": [
    "# 딕셔너리 생성5 : zip() 함수 사용\n",
    "keys = ['name', 'age', 'city']\n",
    "values = ['Alice', 28, 'Jeonju']\n",
    "dct = dict(zip(keys, values))\n",
    "print(dct)"
   ]
  },
  {
   "cell_type": "code",
   "execution_count": 62,
   "id": "87a454b2-1dd7-4fb0-a7dc-809a544e5d38",
   "metadata": {},
   "outputs": [
    {
     "name": "stdout",
     "output_type": "stream",
     "text": [
      "{0: 'apple', 1: 'banana', 2: 'cherry'}\n"
     ]
    }
   ],
   "source": [
    "# 딕셔너리 생성6 : enumerate() 함수 사용\n",
    "fruits = ['apple', 'banana', 'cherry']\n",
    "dct = dict(enumerate(fruits))\n",
    "print(dct)"
   ]
  },
  {
   "cell_type": "markdown",
   "id": "cd096373-2b84-49cd-a1c0-43b0189ebdb5",
   "metadata": {},
   "source": [
    "<br>\n",
    "\n",
    "### 3.5.2. 딕셔너리 값 접근\n",
    "+ 딕셔너리는 키를 사용하여 값에 접근함\n",
    "+ 리스트, 튜플처럼 정수 인덱스를 이용한 접근은 불가능함"
   ]
  },
  {
   "cell_type": "code",
   "execution_count": 21,
   "id": "0a424cad-2e08-4ec6-a416-86117f490b01",
   "metadata": {},
   "outputs": [
    {
     "name": "stdout",
     "output_type": "stream",
     "text": [
      "Alice\n",
      "28\n"
     ]
    }
   ],
   "source": [
    "# 키를 이용한 값 접근\n",
    "info = {'name': 'Alice', 'age': 28, 'city': 'Jeonju'}\n",
    "print(info['name'])\n",
    "print(info['age'])"
   ]
  },
  {
   "cell_type": "code",
   "execution_count": 22,
   "id": "8c131efa-b590-4406-991b-2f4ce6d80840",
   "metadata": {},
   "outputs": [
    {
     "name": "stdout",
     "output_type": "stream",
     "text": [
      "{'name': 'Alice', 'age': 28, 'city': 'Iksan'}\n"
     ]
    }
   ],
   "source": [
    "# 딕셔너리는 가변형 객체이므로 키를 이용한 수정이 가능함\n",
    "info = {'name': 'Alice', 'age': 28, 'city': 'Jeonju'}\n",
    "info['city'] = 'Iksan'\n",
    "print(info)"
   ]
  },
  {
   "cell_type": "code",
   "execution_count": 23,
   "id": "0bf43988-8ab4-4ed7-90af-582cf84beeed",
   "metadata": {},
   "outputs": [
    {
     "name": "stdout",
     "output_type": "stream",
     "text": [
      "{'name': 'Alice', 'age': 28, 'city': 'Jeonju', 'email': 'alice123@gmail.com'}\n"
     ]
    }
   ],
   "source": [
    "# 새로운 키-값 쌍 추가\n",
    "info = {'name': 'Alice', 'age': 28, 'city': 'Jeonju'}\n",
    "info['email'] = 'alice123@gmail.com'\n",
    "print(info)"
   ]
  },
  {
   "cell_type": "markdown",
   "id": "366c2fe6-01d3-49b5-afff-faf627796c63",
   "metadata": {},
   "source": [
    "<br>\n",
    "\n",
    "### 3.5.3. 딕셔너리 메소드\n",
    "#### 3.5.3.1. 딕셔너리 조회\n",
    "\n",
    "|함수|설명|\n",
    "|:---:|:------------|\n",
    "|keys()|딕셔너리의 모든 키를 반환(dict_keys 객체)|\n",
    "|values()|딕셔너리의 모든 값을 반환(dict_values 객체)|\n",
    "|items()|(키, 값) 쌍을 튜플 형태로 반환(dict_items 객체)|\n",
    "|get()|지정한 키의 값을 반환하며, 없으면 None 반환|\n",
    "|in 연산자|특정 키가 딕셔너리에 있다면 True, 없다면 False 반환|"
   ]
  },
  {
   "cell_type": "code",
   "execution_count": 29,
   "id": "5704aabd-1120-48fb-88d3-67a809300d30",
   "metadata": {},
   "outputs": [
    {
     "name": "stdout",
     "output_type": "stream",
     "text": [
      "['name', 'age', 'city']\n"
     ]
    }
   ],
   "source": [
    "# 모든 키\n",
    "info = {'name': 'Alice', 'age': 28, 'city': 'Jeonju'}\n",
    "print(list(info.keys()))"
   ]
  },
  {
   "cell_type": "code",
   "execution_count": 30,
   "id": "0c864fce-ba1f-4063-a10c-cb97408aac37",
   "metadata": {},
   "outputs": [
    {
     "name": "stdout",
     "output_type": "stream",
     "text": [
      "['Alice', 28, 'Jeonju']\n"
     ]
    }
   ],
   "source": [
    "# 모든 값\n",
    "info = {'name': 'Alice', 'age': 28, 'city': 'Jeonju'}\n",
    "print(list(info.values()))"
   ]
  },
  {
   "cell_type": "code",
   "execution_count": 31,
   "id": "e01d4697-b802-4fb6-8bfc-0bda51004c87",
   "metadata": {},
   "outputs": [
    {
     "name": "stdout",
     "output_type": "stream",
     "text": [
      "[('name', 'Alice'), ('age', 28), ('city', 'Jeonju')]\n"
     ]
    }
   ],
   "source": [
    "# (키, 값) 쌍\n",
    "info = {'name': 'Alice', 'age': 28, 'city': 'Jeonju'}\n",
    "print(list(info.items()))"
   ]
  },
  {
   "cell_type": "code",
   "execution_count": 33,
   "id": "28468c83-a3e5-4169-9bff-16b8b91fa024",
   "metadata": {},
   "outputs": [
    {
     "name": "stdout",
     "output_type": "stream",
     "text": [
      "Alice\n",
      "None\n"
     ]
    }
   ],
   "source": [
    "# 키를 이용한 값 조회\n",
    "info = {'name': 'Alice', 'age': 28, 'city': 'Jeonju'}\n",
    "print(info.get('name'))\n",
    "print(info.get('email'))"
   ]
  },
  {
   "cell_type": "code",
   "execution_count": 34,
   "id": "9e7df8d5-3155-463f-9d98-f1ee2079a1a9",
   "metadata": {},
   "outputs": [
    {
     "name": "stdout",
     "output_type": "stream",
     "text": [
      "True\n",
      "False\n"
     ]
    }
   ],
   "source": [
    "# 특정 키 찾기\n",
    "info = {'name': 'Alice', 'age': 28, 'city': 'Jeonju'}\n",
    "print('age' in info)\n",
    "print('email' in info)"
   ]
  },
  {
   "cell_type": "markdown",
   "id": "7105caa9-0c1a-405b-810b-5e68746c0c25",
   "metadata": {},
   "source": [
    "<br>\n",
    "\n",
    "#### 3.5.3.2. 딕셔너리 추가/삭제\n",
    "\n",
    "|함수|설명|\n",
    "|:---:|:------------|\n",
    "|update()|다른 딕셔너리나 키워드 인자를 이용하여 원소를 추가 및 수정|\n",
    "|pop()|특정 키의 값을 삭제하고 그 값을 반환하며, 키가 없으면 오류 발생|\n",
    "|popitem()|마지막 (키, 값) 쌍을 삭제하고 반환|\n",
    "|del 키워드|특정 키의 원소를 삭제하며, 키가 없으면 오류 발생|\n",
    "|clear()|딕셔너리의 모든 원소를 삭제|"
   ]
  },
  {
   "cell_type": "code",
   "execution_count": 46,
   "id": "445bb01e-3bee-4f6d-8158-4ba157afa926",
   "metadata": {},
   "outputs": [
    {
     "name": "stdout",
     "output_type": "stream",
     "text": [
      "{'name': 'Alice', 'age': 29, 'city': 'Jeonju'}\n"
     ]
    }
   ],
   "source": [
    "# 원소 추가 및 수정1\n",
    "info = {'name': 'Alice', 'age': 28}\n",
    "info.update({'age': 29, 'city': 'Jeonju'})\n",
    "print(info)"
   ]
  },
  {
   "cell_type": "code",
   "execution_count": 47,
   "id": "bf4baa4a-8438-4760-8093-6b9b29f9b2a1",
   "metadata": {},
   "outputs": [
    {
     "name": "stdout",
     "output_type": "stream",
     "text": [
      "{'name': 'Alice', 'age': 29, 'city': 'Jeonju'}\n"
     ]
    }
   ],
   "source": [
    "# 원소 추가 및 수정2\n",
    "info = {'name': 'Alice', 'age': 28}\n",
    "info.update(age=29, city='Jeonju')\n",
    "print(info)"
   ]
  },
  {
   "cell_type": "code",
   "execution_count": 48,
   "id": "99082bc3-da6a-4e8e-b144-c7c31f2f0aaf",
   "metadata": {},
   "outputs": [
    {
     "name": "stdout",
     "output_type": "stream",
     "text": [
      "{'name': 'Alice', 'city': 'Jeonju'}\n",
      "28\n"
     ]
    }
   ],
   "source": [
    "# 특정 키의 값 삭제1\n",
    "info = {'name': 'Alice', 'age': 28, 'city': 'Jeonju'}\n",
    "age = info.pop('age')\n",
    "print(info)\n",
    "print(age)"
   ]
  },
  {
   "cell_type": "code",
   "execution_count": 50,
   "id": "42b2d721-21fe-4a7d-a723-abdfe6098bc8",
   "metadata": {},
   "outputs": [],
   "source": [
    "# 특정 키의 값 삭제2\n",
    "#info = {'name': 'Alice', 'age': 28, 'city': 'Jeonju'}\n",
    "#age = info.pop('email')\n",
    "#print(info)\n",
    "#print(email)"
   ]
  },
  {
   "cell_type": "code",
   "execution_count": 38,
   "id": "1887ffab-fba7-4dd5-85a1-62da5489d6c7",
   "metadata": {},
   "outputs": [
    {
     "name": "stdout",
     "output_type": "stream",
     "text": [
      "{'name': 'Alice', 'age': 28}\n",
      "('city', 'Jeonju')\n"
     ]
    }
   ],
   "source": [
    "# 마지막 (키, 값) 쌍 삭제\n",
    "info = {'name': 'Alice', 'age': 28, 'city': 'Jeonju'}\n",
    "last_item = info.popitem()\n",
    "print(info)\n",
    "print(last_item)"
   ]
  },
  {
   "cell_type": "code",
   "execution_count": 40,
   "id": "6ce546ca-a355-4121-ac3d-d092c7293c4f",
   "metadata": {},
   "outputs": [
    {
     "name": "stdout",
     "output_type": "stream",
     "text": [
      "{'name': 'Alice', 'city': 'Jeonju'}\n"
     ]
    }
   ],
   "source": [
    "# 특정 키의 원소 삭제1\n",
    "info = {'name': 'Alice', 'age': 28, 'city': 'Jeonju'}\n",
    "del info['age']\n",
    "print(info)"
   ]
  },
  {
   "cell_type": "code",
   "execution_count": 42,
   "id": "c025924d-8a51-4da4-addb-70c15dd64eb3",
   "metadata": {},
   "outputs": [],
   "source": [
    "# 특정 키의 원소 삭제2\n",
    "#info = {'name': 'Alice', 'age': 28, 'city': 'Jeonju'}\n",
    "#del info['email']\n",
    "#print(info)"
   ]
  },
  {
   "cell_type": "markdown",
   "id": "7f880e5d-854c-4a94-99bb-af63ce5f73ca",
   "metadata": {},
   "source": [
    "<br>\n",
    "\n",
    "### 3.5.4. 딕셔너리 패킹과 언패킹\n",
    "#### 3.5.4.1. 패킹과 언패킹 개념\n",
    "+ 패킹(packing) : 여러 개의 키-값 쌍을 하나의 딕셔너리로 묶어 할당하는 것\n",
    "+ 언패킹(unpacking) : 하나의 딕셔너리에 묶인 키-값 쌍을 개별 변수에 분리하여 할당하는 것"
   ]
  },
  {
   "cell_type": "code",
   "execution_count": 18,
   "id": "dabf5d5a-c52d-41f6-8981-1f4cb7c8812f",
   "metadata": {},
   "outputs": [
    {
     "name": "stdout",
     "output_type": "stream",
     "text": [
      "{'a': 1, 'b': 2, 'c': 3}\n"
     ]
    }
   ],
   "source": [
    "# 딕셔너리 패킹\n",
    "dct = {'a': 1, 'b': 2, 'c': 3}\n",
    "print(dct)"
   ]
  },
  {
   "cell_type": "code",
   "execution_count": 19,
   "id": "018153be-122f-43a8-982a-2d7b86dde654",
   "metadata": {},
   "outputs": [
    {
     "name": "stdout",
     "output_type": "stream",
     "text": [
      "1\n",
      "2\n",
      "3\n"
     ]
    }
   ],
   "source": [
    "# 딕셔너리 언패킹\n",
    "d = {'a': 1, 'b': 2, 'c': 3}\n",
    "a, b, c = d.values()\n",
    "print(a)\n",
    "print(b)\n",
    "print(c)"
   ]
  },
  {
   "cell_type": "markdown",
   "id": "5001aad6-75bf-45f9-89eb-9ca5f228a1ec",
   "metadata": {},
   "source": [
    "<br>\n",
    "\n",
    "#### 3.5.4.2. 함수의 인수에서 패킹과 언패킹\n",
    "+ 딕셔너리를 이용하여 함수의 키워드 가변 인수(keyword variable-length arguments)를 처리할 수 있음\n",
    "+ `**`를 사용하여 딕셔너리를 언패킹하면, 각 키-쌍이 함수의 키워드 인수로 전달됨"
   ]
  },
  {
   "cell_type": "code",
   "execution_count": 55,
   "id": "fca31ab5-bc7b-44fe-bfa7-7f370c44d07f",
   "metadata": {},
   "outputs": [
    {
     "name": "stdout",
     "output_type": "stream",
     "text": [
      "name: Alice\n",
      "age: 28\n",
      "city: Jeonju\n"
     ]
    }
   ],
   "source": [
    "# 키워드 가변 인수와 패킹, 언패킹\n",
    "def print_info(**kwargs):\n",
    "    for key, value in kwargs.items():                       # 전달된 값이 딕셔너리로 패킹됨\n",
    "        print(f\"{key}: {value}\")\n",
    "\n",
    "info = {'name': 'Alice', 'age': 28, 'city': 'Jeonju'}\n",
    "print_info(**info)                                          # 딕셔너리를 언패킹하여 함수에 전달"
   ]
  },
  {
   "cell_type": "markdown",
   "id": "84c6a6c2-ac2d-4f77-96ad-60ea6010dbe3",
   "metadata": {},
   "source": [
    "\n",
    "\n",
    "### 3.5.5. 딕셔너리 컴프리헨션\n",
    "\n",
    "> {키식: 값식 for 변수 in 반복범위 if 조건식}\n",
    "\n",
    "\n",
    "+ 리스트 컴프리헨션과 문법이 유사하지만, 키:값 형태로 표현"
   ]
  },
  {
   "cell_type": "code",
   "execution_count": 68,
   "id": "86af3b91-3c96-4eb6-a981-dab608931581",
   "metadata": {},
   "outputs": [
    {
     "name": "stdout",
     "output_type": "stream",
     "text": [
      "{'H': 1, 'e': 1, 'l': 2, 'o': 1}\n"
     ]
    }
   ],
   "source": [
    "# 문자 개수 세기\n",
    "word = \"Hello\"\n",
    "char_count = {char: word.count(char) for char in word}\n",
    "print(char_count)"
   ]
  },
  {
   "cell_type": "code",
   "execution_count": 69,
   "id": "a00a1068-b180-49ac-9971-5684e0287625",
   "metadata": {},
   "outputs": [
    {
     "name": "stdout",
     "output_type": "stream",
     "text": [
      "{'name': 'Alice', 'age': 28, 'city': 'Jeonju'}\n"
     ]
    }
   ],
   "source": [
    "# 두 리스트를 키와 값으로 합치기\n",
    "keys = ['name', 'age', 'city']\n",
    "values = ['Alice', 28, 'Jeonju']\n",
    "info = {k: v for k, v in zip(keys, values)}\n",
    "print(info)"
   ]
  },
  {
   "cell_type": "code",
   "execution_count": 67,
   "id": "c0e74f8c-0099-4e82-9f8e-8bd99f8ea673",
   "metadata": {},
   "outputs": [
    {
     "name": "stdout",
     "output_type": "stream",
     "text": [
      "{0: 'apple', 1: 'banana', 2: 'cherry'}\n"
     ]
    }
   ],
   "source": [
    "# 리스트를 인덱스와 함께 딕셔너리로 변환\n",
    "fruits = ['apple', 'banana', 'cherry']\n",
    "dct = {i: fruit for i, fruit in enumerate(fruits)}\n",
    "print(dct)"
   ]
  },
  {
   "cell_type": "code",
   "execution_count": 73,
   "id": "0276160e-f6ca-405d-8ded-e838d48aaf34",
   "metadata": {},
   "outputs": [
    {
     "name": "stdout",
     "output_type": "stream",
     "text": [
      "{'Alice': 85, 'Bob': 92, 'David': 90}\n"
     ]
    }
   ],
   "source": [
    "# 점수(값) 80 이상만 필터링\n",
    "scores = {'Alice': 85, 'Bob': 92, 'Charlie': 77, 'David': 90}\n",
    "passed = {name: score for name, score in scores.items() if score >= 80}\n",
    "print(passed)"
   ]
  },
  {
   "cell_type": "code",
   "execution_count": 75,
   "id": "ac538497-450a-46e0-a90d-65e40e925833",
   "metadata": {},
   "outputs": [
    {
     "name": "stdout",
     "output_type": "stream",
     "text": [
      "{'apple': 950.0, 'banana': 760.0, 'cherry': 1425.0}\n"
     ]
    }
   ],
   "source": [
    "# 가격(값)에 5% 할인 적용\n",
    "prices = {'apple': 1000, 'banana': 800, 'cherry': 1500}\n",
    "discounted_prices = {item: price * 0.95 for item, price in prices.items()}\n",
    "print(discounted_prices)"
   ]
  }
 ],
 "metadata": {
  "kernelspec": {
   "display_name": "Python 3 (ipykernel)",
   "language": "python",
   "name": "python3"
  },
  "language_info": {
   "codemirror_mode": {
    "name": "ipython",
    "version": 3
   },
   "file_extension": ".py",
   "mimetype": "text/x-python",
   "name": "python",
   "nbconvert_exporter": "python",
   "pygments_lexer": "ipython3",
   "version": "3.9.21"
  }
 },
 "nbformat": 4,
 "nbformat_minor": 5
}
