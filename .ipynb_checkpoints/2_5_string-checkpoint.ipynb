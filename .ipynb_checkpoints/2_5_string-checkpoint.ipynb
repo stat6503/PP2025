{
 "cells": [
  {
   "cell_type": "markdown",
   "id": "25d7e865-b442-4eaa-8dea-af372b7af361",
   "metadata": {},
   "source": [
    "# 2. Python 기초\n",
    "## 2.5. 문자열\n",
    "### 2.5.1. 문자열 생성\n",
    "+ 문자열(string)\n",
    "  + 문자(character)들이 나열된 시퀀스 자료형(sequence data type)으로, 데이터를 순차적으로 메모리에 저장하는 불변형(immutable) 객체\n",
    "  + 큰 따옴표 `\"` 또는 작은 따옴표`'`로 감싸서 문자열을 생성함\n",
    "\n",
    "<br>\n",
    "\n",
    "+ 이스케이프 문자(escape character)\n",
    "  + `\\` 기호와 함께 조합해서 사용하는 특수한 문자\n",
    "  + `\\\"` : 큰 따옴표\n",
    "  + `\\'` : 작은 따옴표\n",
    "  + `\\n` : 줄 바꿈(new line)\n",
    "  + `\\t` : 탭(tab)"
   ]
  },
  {
   "cell_type": "code",
   "execution_count": 1,
   "id": "0bf8ca58-cd72-4c1d-9d55-ee1b365404d6",
   "metadata": {},
   "outputs": [
    {
     "name": "stdout",
     "output_type": "stream",
     "text": [
      "안녕하세요\n",
      "Hello\n"
     ]
    }
   ],
   "source": [
    "# 문자열 생성\n",
    "print(\"안녕하세요\")\n",
    "print('Hello')"
   ]
  },
  {
   "cell_type": "code",
   "execution_count": 3,
   "id": "05097553-0937-4844-a1e2-2d0637557ca7",
   "metadata": {},
   "outputs": [
    {
     "name": "stdout",
     "output_type": "stream",
     "text": [
      "\"안녕하세요\"라고 말했습니다.\n",
      "'날씨가 좋다'라고 생각했습니다.\n"
     ]
    }
   ],
   "source": [
    "# 문자열 내부에 따옴표 넣기\n",
    "print('\"안녕하세요\"라고 말했습니다.')\n",
    "print(\"'날씨가 좋다'라고 생각했습니다.\")"
   ]
  },
  {
   "cell_type": "code",
   "execution_count": 9,
   "id": "6ae5e2b6-cc7c-4a67-b2d7-5a59e45b66b2",
   "metadata": {},
   "outputs": [
    {
     "name": "stdout",
     "output_type": "stream",
     "text": [
      "\"안녕하세요\"라고 말했습니다.\n",
      "'날씨가 좋다'라고 생각했습니다.\n"
     ]
    }
   ],
   "source": [
    "# 이스케이프 문자 사용1\n",
    "print(\"\\\"안녕하세요\\\"라고 말했습니다.\")\n",
    "print('\\'날씨가 좋다\\'라고 생각했습니다.')"
   ]
  },
  {
   "cell_type": "code",
   "execution_count": 10,
   "id": "f17b15c5-705d-4f1f-af78-8bd8a3272646",
   "metadata": {},
   "outputs": [
    {
     "name": "stdout",
     "output_type": "stream",
     "text": [
      "Hello\n",
      "World\n"
     ]
    }
   ],
   "source": [
    "# 이스케이프 문자 사용2\n",
    "print(\"Hello\\nWorld\")"
   ]
  },
  {
   "cell_type": "code",
   "execution_count": 12,
   "id": "459b86bc-c2b9-4768-8bb5-ca6be3c155d5",
   "metadata": {},
   "outputs": [
    {
     "name": "stdout",
     "output_type": "stream",
     "text": [
      "Hello\tWorld\n"
     ]
    }
   ],
   "source": [
    "# 이스케이프 문자 사용3\n",
    "print(\"Hello\\tWorld\")"
   ]
  },
  {
   "cell_type": "code",
   "execution_count": 13,
   "id": "417d2426-b9ab-4bdd-b4b9-b0601ec3aedc",
   "metadata": {},
   "outputs": [
    {
     "name": "stdout",
     "output_type": "stream",
     "text": [
      "동해물과 백두산이 마르고 닳도록\n",
      "하느님이 보우하사 우리나라 만세\n",
      "무궁화 삼천리 화려강산\n",
      "대한사람 대한으로 길이 보전하세\n"
     ]
    }
   ],
   "source": [
    "# 여러 줄 문자열 만들기 : 세 번 반복한 따옴표로 감쌈\n",
    "print(\"\"\"동해물과 백두산이 마르고 닳도록\n",
    "하느님이 보우하사 우리나라 만세\n",
    "무궁화 삼천리 화려강산\n",
    "대한사람 대한으로 길이 보전하세\"\"\")"
   ]
  },
  {
   "cell_type": "markdown",
   "id": "88128ece-bf6c-4259-b3b0-1c94bb4b1c51",
   "metadata": {},
   "source": [
    "### 2.5.2. 문자열 연산\n",
    "+ 문자열 연결 연산자 `+` : 두 문자열을 연결해서 새로운 문자열 생성\n",
    "+ 문자열 반복 연산자 `*` : 문자열을 숫자만큼 반복해서 출력 - (예) 문자열\\*숫자"
   ]
  },
  {
   "cell_type": "code",
   "execution_count": 14,
   "id": "19bb284c-423f-4f6d-917b-208c79e5adfb",
   "metadata": {},
   "outputs": [
    {
     "name": "stdout",
     "output_type": "stream",
     "text": [
      "Hello Wolrld\n"
     ]
    }
   ],
   "source": [
    "# 문자열 연결\n",
    "print(\"Hello \" + \"Wolrld\")"
   ]
  },
  {
   "cell_type": "code",
   "execution_count": 15,
   "id": "e0ae2165-5b7b-4ccb-a846-eb3e0e697cee",
   "metadata": {},
   "outputs": [
    {
     "ename": "TypeError",
     "evalue": "can only concatenate str (not \"int\") to str",
     "output_type": "error",
     "traceback": [
      "\u001b[1;31m---------------------------------------------------------------------------\u001b[0m",
      "\u001b[1;31mTypeError\u001b[0m                                 Traceback (most recent call last)",
      "Cell \u001b[1;32mIn[15], line 3\u001b[0m\n\u001b[0;32m      1\u001b[0m \u001b[38;5;66;03m# 문자열 연결 연산자는 문자열과 숫자를 연결할 수 없음\u001b[39;00m\n\u001b[0;32m      2\u001b[0m score \u001b[38;5;241m=\u001b[39m \u001b[38;5;241m99\u001b[39m\n\u001b[1;32m----> 3\u001b[0m \u001b[38;5;28mprint\u001b[39m(\u001b[38;5;124;43m\"\u001b[39;49m\u001b[38;5;124;43m성적은\u001b[39;49m\u001b[38;5;124;43m\"\u001b[39;49m\u001b[43m \u001b[49m\u001b[38;5;241;43m+\u001b[39;49m\u001b[43m \u001b[49m\u001b[43mscore\u001b[49m \u001b[38;5;241m+\u001b[39m \u001b[38;5;124m\"\u001b[39m\u001b[38;5;124m입니다.\u001b[39m\u001b[38;5;124m\"\u001b[39m)\n",
      "\u001b[1;31mTypeError\u001b[0m: can only concatenate str (not \"int\") to str"
     ]
    }
   ],
   "source": [
    "# 문자열 연결 연산자는 문자열과 숫자를 연결할 수 없음\n",
    "#score = 99\n",
    "#print(\"성적은\" + score + \"입니다.\")"
   ]
  },
  {
   "cell_type": "code",
   "execution_count": 16,
   "id": "45b010c6-63d1-4eec-8a61-4538617dbc76",
   "metadata": {},
   "outputs": [
    {
     "name": "stdout",
     "output_type": "stream",
     "text": [
      "성적은99입니다.\n"
     ]
    }
   ],
   "source": [
    "# 문자열 연결 연산자로 문자열과 숫자를 연결하려면 숫자를 문자열로 변환해야 함\n",
    "score = 99\n",
    "print(\"성적은\" + str(score) + \"입니다.\")"
   ]
  },
  {
   "cell_type": "code",
   "execution_count": 17,
   "id": "de6bcc85-818c-41e3-adcc-e2bfa36dbbcd",
   "metadata": {},
   "outputs": [
    {
     "name": "stdout",
     "output_type": "stream",
     "text": [
      "Hello Hello Hello \n"
     ]
    }
   ],
   "source": [
    "# 문자열 반복\n",
    "print(\"Hello \" * 3)"
   ]
  },
  {
   "cell_type": "markdown",
   "id": "d768b46b-d140-4a9c-a5b0-0c21799e882b",
   "metadata": {},
   "source": [
    "### 2.5.3. 문자열 인덱싱과 슬라이싱\n",
    "+ 문자열의 각 문자에 접근할 때 문자 위치인 인덱스(index)를 사용함\n",
    "  + Python은 숫자를 0부터 세는 제로 인덱스(zero index) 유형을 사용함\n",
    "\n",
    "<br>\n",
    "\n",
    "+ 인덱싱(indexing)\n",
    "  + `[index]`를 사용해서 문자열의 특정 위치에 있는 항목(문자)에 접근하는 것\n",
    "  + 인덱스를 음수로 입력하면 뒤에서부터 순서대로 선택할 수 있음\n",
    "\n",
    "<br>\n",
    "\n",
    "+ 슬라이싱(slicing)\n",
    "  + `[(start index):(stop index)]`를 이용해서 문자열의 일부 문자를 추출하는 것\n",
    "  + 끝 인덱스는 포함하지 않으니 주의해야 함\n",
    "  + 시작 인덱스를 생략하면 첫 번째 글자부터 추출하며, 끝 인덱스를 생략하면 가장 마지막 글자까지 추출함\n",
    "\n",
    "<br>\n",
    "\n",
    "![](./images/fig2-6.png){width=70%}"
   ]
  },
  {
   "cell_type": "code",
   "execution_count": 19,
   "id": "9608b817-286f-499e-8419-8b33a14c3a55",
   "metadata": {},
   "outputs": [
    {
     "name": "stdout",
     "output_type": "stream",
     "text": [
      "안\n"
     ]
    }
   ],
   "source": [
    "# 문자열 인덱싱1\n",
    "str = \"안녕하세요\"\n",
    "print(str[0])"
   ]
  },
  {
   "cell_type": "code",
   "execution_count": 28,
   "id": "7bf2deaf-661b-44b8-92cb-15d6da22f600",
   "metadata": {},
   "outputs": [
    {
     "name": "stdout",
     "output_type": "stream",
     "text": [
      "요\n"
     ]
    }
   ],
   "source": [
    "# 문자열 인덱싱2\n",
    "str = \"안녕하세요\"\n",
    "print(str[-1])"
   ]
  },
  {
   "cell_type": "code",
   "execution_count": 29,
   "id": "1f4a793a-6bbf-4b43-aadf-f714f1e1b643",
   "metadata": {},
   "outputs": [
    {
     "name": "stdout",
     "output_type": "stream",
     "text": [
      "안녕\n"
     ]
    }
   ],
   "source": [
    "# 문자열 슬라이싱1\n",
    "str = \"안녕하세요\"\n",
    "print(str[0:2])"
   ]
  },
  {
   "cell_type": "code",
   "execution_count": 32,
   "id": "17690a90-a137-45bc-8633-991f1500c87b",
   "metadata": {},
   "outputs": [
    {
     "name": "stdout",
     "output_type": "stream",
     "text": [
      "안녕\n",
      "하세요\n"
     ]
    }
   ],
   "source": [
    "# 문자열 슬라이싱2\n",
    "str = \"안녕하세요\"\n",
    "print(str[:2])\n",
    "print(str[2:])"
   ]
  },
  {
   "cell_type": "code",
   "execution_count": 75,
   "id": "027fb22c-efb4-4cbb-aa11-f2ca4c7966e0",
   "metadata": {},
   "outputs": [],
   "source": [
    "# 문자열은 불변형 객체이므로 인덱스를 이용한 수정은 불가함\n",
    "#str = \"안녕하세요\"\n",
    "#str[2:5] = \"하십니까\"\n",
    "#print(str)"
   ]
  },
  {
   "cell_type": "code",
   "execution_count": 35,
   "id": "e05c77f0-ef8c-4d99-8e63-04640a68b436",
   "metadata": {},
   "outputs": [
    {
     "name": "stdout",
     "output_type": "stream",
     "text": [
      "안녕하십니까\n"
     ]
    }
   ],
   "source": [
    "# 문자열을 변경하려면 새로운 문자열을 만들어야 함\n",
    "str = \"안녕하세요\"\n",
    "str = str[:2] + \"하십니까\"\n",
    "print(str)"
   ]
  },
  {
   "cell_type": "code",
   "execution_count": 51,
   "id": "d66f506d-3b41-4a24-9b76-4aac2f04c03d",
   "metadata": {},
   "outputs": [
    {
     "name": "stdout",
     "output_type": "stream",
     "text": [
      "!nohtyP olleH\n"
     ]
    }
   ],
   "source": [
    "# 문자열 거꾸로 출력하기\n",
    "my_str = \"Hello Python!\"\n",
    "print(my_str[::-1])"
   ]
  },
  {
   "cell_type": "markdown",
   "id": "b4292186-be80-4c32-b2e4-6962a4cfa136",
   "metadata": {},
   "source": [
    "### 2.5.4. 문자열 함수\n",
    "#### 2.5.4.1. 문자열 길이\n",
    "+ `len()` 함수 : 문자열에 들어있는 문자의 개수(문자열의 길이) 반환"
   ]
  },
  {
   "cell_type": "code",
   "execution_count": 52,
   "id": "8b838e33-6fa4-429f-9b8a-4183b5cc4fa9",
   "metadata": {},
   "outputs": [
    {
     "name": "stdout",
     "output_type": "stream",
     "text": [
      "5\n"
     ]
    }
   ],
   "source": [
    "# 문자열 길이\n",
    "str = \"안녕하세요\"\n",
    "print(len(str))"
   ]
  },
  {
   "cell_type": "markdown",
   "id": "58746acc-fbc4-4aae-b134-f033cd6129c0",
   "metadata": {},
   "source": [
    "#### 2.5.4.2. 대소문자 변환\n",
    "\n",
    "|함수|설명|\n",
    "|:---:|:------------|\n",
    "|lower()|문자열의 알파벳을 모두 소문자로 변환|\n",
    "|upper()|문자열의 알파벳을 모두 대문자로 변환|"
   ]
  },
  {
   "cell_type": "code",
   "execution_count": 57,
   "id": "bbcabdd2-94fb-479b-b037-0b7d0de9fbd4",
   "metadata": {},
   "outputs": [
    {
     "name": "stdout",
     "output_type": "stream",
     "text": [
      "hello python!\n",
      "HELLO PYTHON!\n",
      "Hello Python!\n"
     ]
    }
   ],
   "source": [
    "# 대소문자 변환 : 원본은 변하지 않음\n",
    "str = \"Hello Python!\"\n",
    "print(str.lower())\n",
    "print(str.upper())\n",
    "print(str)"
   ]
  },
  {
   "cell_type": "markdown",
   "id": "41c79cc2-5c16-4d2f-a338-d3cc736faa4c",
   "metadata": {},
   "source": [
    "#### 2.5.4.3. 문자열 찾기\n",
    "|함수|설명|\n",
    "|:---:|:------------|\n",
    "|find()|- 문자열에서 특정 문자열을 왼쪽에서부터 찾아서 인덱스를 반환 <br>- 찾는 문자열이 없으면 -1을 반환|\n",
    "|rfind()|- 문자열에서 특정 문자열을 오른쪽에서부터 찾아서 인덱스를 반환 <br>- 찾는 문자열이 없으면 -1을 반환|\n",
    "|count()|- 문자열에서 특정 문자열의 개수를 반환|\n",
    "|in 연산자|- 문자열 내부에 특정 문자열이 있다면 True, 없다면 False를 반환|"
   ]
  },
  {
   "cell_type": "code",
   "execution_count": 60,
   "id": "315c0f3c-f6fa-4ea8-83c1-8ca396baf194",
   "metadata": {},
   "outputs": [
    {
     "name": "stdout",
     "output_type": "stream",
     "text": [
      "7\n",
      "17\n",
      "2\n",
      "True\n",
      "False\n"
     ]
    }
   ],
   "source": [
    "# 문자열 찾기\n",
    "str = \"Hello! Python is Python\"\n",
    "print(str.find(\"Python\"))\n",
    "print(str.rfind(\"Python\"))\n",
    "print(str.count(\"Python\"))\n",
    "print(\"Hello\" in str)\n",
    "print(\"Hi\" in str)"
   ]
  },
  {
   "cell_type": "markdown",
   "id": "3fed790b-a90b-4e9b-b6e4-27e53e2f2605",
   "metadata": {},
   "source": [
    "#### 2.5.4.4. 공백 제거 및 문자열 변경\n",
    "\n",
    "|함수|설명|\n",
    "|:---:|:------------|\n",
    "|strip()|문자열 양 옆의 공백이나 특정 문자를 제거|\n",
    "|rstrip()|문자열 오른쪽의 공백이나 특정 문자를 제거|\n",
    "|lstrip()|문자열 왼쪽의 공백이나 특정 문자를 제거|\n",
    "|replace()|특정 문자열을 다른 문자열로 변경|"
   ]
  },
  {
   "cell_type": "code",
   "execution_count": 69,
   "id": "e33e136f-e5d2-4c32-904d-217199bedd74",
   "metadata": {},
   "outputs": [
    {
     "name": "stdout",
     "output_type": "stream",
     "text": [
      "  Hello Python!  \n",
      "Hello Python!\n"
     ]
    }
   ],
   "source": [
    "# 공백 제거\n",
    "str = \"  Hello Python!  \"\n",
    "print(str)\n",
    "print(str.strip())"
   ]
  },
  {
   "cell_type": "code",
   "execution_count": 72,
   "id": "d7b0b78e-3334-4886-983d-b147888c40d9",
   "metadata": {},
   "outputs": [
    {
     "name": "stdout",
     "output_type": "stream",
     "text": [
      "##100kg, ##200\n",
      "100kg, ##200kg\n"
     ]
    }
   ],
   "source": [
    "# 특정 문자 제거\n",
    "str = \"##100kg, ##200kg\"\n",
    "print(str.rstrip(\"kg\"))\n",
    "print(str.lstrip(\"#\"))"
   ]
  },
  {
   "cell_type": "code",
   "execution_count": 74,
   "id": "76857538-8ae1-4bfb-b570-840491ff51d3",
   "metadata": {},
   "outputs": [
    {
     "name": "stdout",
     "output_type": "stream",
     "text": [
      "Hi Python!\n"
     ]
    }
   ],
   "source": [
    "# 문자열 변경\n",
    "str = \"Hello Python!\"\n",
    "print(str.replace(\"Hello\", \"Hi\"))"
   ]
  }
 ],
 "metadata": {
  "kernelspec": {
   "display_name": "Python 3 (ipykernel)",
   "language": "python",
   "name": "python3"
  },
  "language_info": {
   "codemirror_mode": {
    "name": "ipython",
    "version": 3
   },
   "file_extension": ".py",
   "mimetype": "text/x-python",
   "name": "python",
   "nbconvert_exporter": "python",
   "pygments_lexer": "ipython3",
   "version": "3.9.21"
  }
 },
 "nbformat": 4,
 "nbformat_minor": 5
}
