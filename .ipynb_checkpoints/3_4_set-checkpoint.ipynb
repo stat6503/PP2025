{
 "cells": [
  {
   "cell_type": "markdown",
   "id": "89be3b9f-02b2-4912-b416-5c9fa8f02d63",
   "metadata": {},
   "source": [
    "# 3. 자료구조\n",
    "## 3.4. 세트\n",
    "### 3.3.1. 세트 생성\n",
    "+ 세트(set)\n",
    "  + 여러 개의 값을 저장할 수 있는 컬렉션 자료형(collection data type)\n",
    "  + 순서가 없는 집합 자료형(set data type)\n",
    "  + 중복을 허용하지 않으며, 순서가 유지되지 않음\n",
    "    + 리스트, 튜플과 달리 인덱싱과 슬라이싱이 불가능함\n",
    "  + 한 번 생성된 이후에도 수정할 수 있는 가변형(mutable) 객체\n",
    "  + 정수형, 부동소수점형, 문자열형, bool형, 튜플 등 해시 가능한(immutable) 자료형을 저장할 수 있는 컨테이너형 객체\n",
    "\n",
    "<br>\n",
    "\n",
    "+ 세트 생성\n",
    "  + 리터럴 방식(set literal)\n",
    "    + `{}`를 사용하여 세트를 직접 정의하는 방법\n",
    "    + `{}` 안에 원소(element)를 `,`로 구분하여 나열함\n",
    "    + **중복된 원소는 자동으로 제거됨**\n",
    "  + 생성자 방식(set constructor)\n",
    "    + `set()` 함수를 사용하여 세트를 생성하는 방법\n",
    "    + 다른 iterable 객체(리스트, 튜플, 세트, 딕셔너리, 문자열 등)를 인수로 받아 세트를 생성할 때 유용함\n",
    "    + 빈 세트를 만들려면 반드시 `set()` 함수를 사용해야 함"
   ]
  },
  {
   "cell_type": "code",
   "execution_count": 1,
   "id": "d25ea566-ef07-46e0-9f45-f7aa1c079101",
   "metadata": {},
   "outputs": [
    {
     "name": "stdout",
     "output_type": "stream",
     "text": [
      "{1, 2, 3, 4, 5, 6, 7}\n"
     ]
    }
   ],
   "source": [
    "# 세트 생성1\n",
    "st = {1, 2, 3, 1, 4, 5, 1, 6, 7}\n",
    "print(st)"
   ]
  },
  {
   "cell_type": "code",
   "execution_count": 2,
   "id": "8cdd9dde-aa69-4d8c-a581-24deec12d38f",
   "metadata": {},
   "outputs": [
    {
     "name": "stdout",
     "output_type": "stream",
     "text": [
      "{1, 2, 3, 4, 5}\n"
     ]
    }
   ],
   "source": [
    "# 세트 생성2\n",
    "st = set({1, 2, 3, 4, 2, 3, 5, 2, 3})\n",
    "print(st)"
   ]
  },
  {
   "cell_type": "code",
   "execution_count": 10,
   "id": "626018d2-9074-4ac8-826c-133478f7ed4d",
   "metadata": {},
   "outputs": [
    {
     "name": "stdout",
     "output_type": "stream",
     "text": [
      "{1, 3.14, 'Hello', (1, 2, 3)}\n"
     ]
    }
   ],
   "source": [
    "# 세트 생성3 : 세트는 해시 가능한(immutable) 자료형을 저장할 수 있음\n",
    "st = {1, 3.14, \"Hello\", True, (1, 2, 3), \"Hello\", 1, 1, 1}\n",
    "print(st)"
   ]
  },
  {
   "cell_type": "code",
   "execution_count": 11,
   "id": "eed261a3-5096-476f-9c5b-72fcfdcfe822",
   "metadata": {},
   "outputs": [
    {
     "name": "stdout",
     "output_type": "stream",
     "text": [
      "{'H', 'l', 'e', 'o'}\n"
     ]
    }
   ],
   "source": [
    "# 세트 생성4: iterable 객체 사용\n",
    "st = set(\"Hello\")\n",
    "print(st)"
   ]
  },
  {
   "cell_type": "code",
   "execution_count": 13,
   "id": "ea305665-4c4f-4e3d-9283-a177a00ebab3",
   "metadata": {},
   "outputs": [
    {
     "name": "stdout",
     "output_type": "stream",
     "text": [
      "{1, 2, 3, 4}\n",
      "{1, 2, 3, 4}\n"
     ]
    }
   ],
   "source": [
    "# 세트 생성5 : iterable 객체 사용\n",
    "st1 = set([1, 2, 3, 1, 1, 4])\n",
    "st2 = set((1, 2, 3, 1, 1, 4))\n",
    "print(st1)\n",
    "print(st2)"
   ]
  },
  {
   "cell_type": "markdown",
   "id": "4a73175c-b84e-458a-8c21-0924dbe2ffcc",
   "metadata": {},
   "source": [
    "<br>\n",
    "\n",
    "### 3.4.2. 세트 연산\n"
   ]
  },
  {
   "cell_type": "markdown",
   "id": "47c0a27a-6f56-4206-81b3-01fadf0b9442",
   "metadata": {},
   "source": [
    "<br>\n",
    "\n",
    "### 3.4.3. 세트 메소드\n",
    "\n",
    "#### 3.4.3.1. 세트 추가/삭제\n",
    "add, remove, discard\n"
   ]
  },
  {
   "cell_type": "markdown",
   "id": "e729d6f4-7586-4b38-b036-19c6e7e2eadd",
   "metadata": {},
   "source": [
    "<br>\n",
    "\n",
    "### 3.4.3.2. 세트 집합 연산\n",
    "union, intersection, difference"
   ]
  },
  {
   "cell_type": "markdown",
   "id": "32f645ef-8c3c-4548-9ca9-b2485eaf542c",
   "metadata": {},
   "source": [
    "### 3.4.4. 세트 컴프리헨션"
   ]
  },
  {
   "cell_type": "code",
   "execution_count": null,
   "id": "f7ac6817-89c1-4323-a52d-1c483aea855f",
   "metadata": {},
   "outputs": [],
   "source": []
  }
 ],
 "metadata": {
  "kernelspec": {
   "display_name": "Python 3 (ipykernel)",
   "language": "python",
   "name": "python3"
  },
  "language_info": {
   "codemirror_mode": {
    "name": "ipython",
    "version": 3
   },
   "file_extension": ".py",
   "mimetype": "text/x-python",
   "name": "python",
   "nbconvert_exporter": "python",
   "pygments_lexer": "ipython3",
   "version": "3.12.7"
  }
 },
 "nbformat": 4,
 "nbformat_minor": 5
}
