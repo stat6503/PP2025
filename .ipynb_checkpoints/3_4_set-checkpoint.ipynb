{
 "cells": [
  {
   "cell_type": "markdown",
   "id": "89be3b9f-02b2-4912-b416-5c9fa8f02d63",
   "metadata": {},
   "source": [
    "# 3. 자료구조\n",
    "## 3.4. 세트\n",
    "### 3.4.1. 세트 생성\n",
    "+ 세트(set)\n",
    "  + 여러 개의 값을 저장할 수 있는 컬렉션 자료형(collection data type)\n",
    "  + 순서가 없는 집합 자료형(set data type)\n",
    "  + 중복을 허용하지 않으며, 순서가 유지되지 않음\n",
    "    + 리스트, 튜플과 달리 인덱싱과 슬라이싱이 불가능함\n",
    "  + 한 번 생성된 이후에도 수정할 수 있는 가변형(mutable) 객체\n",
    "  + 정수형, 부동소수점형, 문자열형, bool형, 튜플 등 해시 가능한(immutable) 자료형을 저장할 수 있는 컨테이너형 객체\n",
    "\n",
    "<br>\n",
    "\n",
    "+ [참고] 해시(hash)\n",
    "  + 데이터를 저장하거나 검색할 때 사용되는 고유한 숫자 값(해시 값)을 사용하는 과정\n",
    "  + 세트와 딕셔너리는 내부적으로 해시 값을 사용하여 원소 또는 key에 빠르게 접근함(검색 속도가 빠름)\n",
    "  + 해시 값은 변경되지 않아야 하므로, 불변형 객체만 사용할 수 있음\n",
    "\n",
    "<br>\n",
    "\n",
    "+ 세트 생성\n",
    "  + 리터럴 방식(set literal)\n",
    "    + `{}`를 사용하여 세트를 직접 정의하는 방법\n",
    "    + `{}` 안에 원소(element)를 `,`로 구분하여 나열함\n",
    "    + **중복된 원소는 자동으로 제거됨**\n",
    "  + 생성자 방식(set constructor)\n",
    "    + `set()` 함수를 사용하여 세트를 생성하는 방법\n",
    "    + 다른 iterable 객체(리스트, 튜플, 세트, 딕셔너리, 문자열 등)를 인수로 받아 세트를 생성할 때 유용함\n",
    "    + 빈 세트를 만들려면 반드시 `set()` 함수를 사용해야 함"
   ]
  },
  {
   "cell_type": "code",
   "execution_count": 1,
   "id": "d25ea566-ef07-46e0-9f45-f7aa1c079101",
   "metadata": {},
   "outputs": [
    {
     "name": "stdout",
     "output_type": "stream",
     "text": [
      "{1, 2, 3, 4}\n"
     ]
    }
   ],
   "source": [
    "# 세트 생성1\n",
    "st = {1, 2, 3, 1, 1, 4}\n",
    "print(st)"
   ]
  },
  {
   "cell_type": "code",
   "execution_count": 2,
   "id": "8cdd9dde-aa69-4d8c-a581-24deec12d38f",
   "metadata": {},
   "outputs": [
    {
     "name": "stdout",
     "output_type": "stream",
     "text": [
      "{1, 2, 3, 4}\n"
     ]
    }
   ],
   "source": [
    "# 세트 생성2\n",
    "st = set({1, 2, 3, 1, 1, 4})\n",
    "print(st)"
   ]
  },
  {
   "cell_type": "code",
   "execution_count": 3,
   "id": "626018d2-9074-4ac8-826c-133478f7ed4d",
   "metadata": {},
   "outputs": [
    {
     "name": "stdout",
     "output_type": "stream",
     "text": [
      "{1, 3.14, 'Hello', (1, 2, 3)}\n"
     ]
    }
   ],
   "source": [
    "# 세트 생성3 : 세트는 해시 가능한(immutable) 자료형을 저장할 수 있음\n",
    "st = {1, 3.14, \"Hello\", True, (1, 2, 3), \"Hello\", 1, 1, 1}\n",
    "print(st)"
   ]
  },
  {
   "cell_type": "code",
   "execution_count": 4,
   "id": "eed261a3-5096-476f-9c5b-72fcfdcfe822",
   "metadata": {},
   "outputs": [
    {
     "name": "stdout",
     "output_type": "stream",
     "text": [
      "{'e', 'o', 'l', 'H'}\n"
     ]
    }
   ],
   "source": [
    "# 세트 생성4: iterable 객체 사용\n",
    "st = set(\"Hello\")\n",
    "print(st)"
   ]
  },
  {
   "cell_type": "code",
   "execution_count": 5,
   "id": "ea305665-4c4f-4e3d-9283-a177a00ebab3",
   "metadata": {},
   "outputs": [
    {
     "name": "stdout",
     "output_type": "stream",
     "text": [
      "{1, 2, 3, 4}\n",
      "{1, 2, 3, 4}\n"
     ]
    }
   ],
   "source": [
    "# 세트 생성5 : iterable 객체 사용\n",
    "st1 = set([1, 2, 3, 1, 1, 4])\n",
    "st2 = set((1, 2, 3, 1, 1, 4))\n",
    "print(st1)\n",
    "print(st2)"
   ]
  },
  {
   "cell_type": "markdown",
   "id": "4a73175c-b84e-458a-8c21-0924dbe2ffcc",
   "metadata": {},
   "source": [
    "<br>\n",
    "\n",
    "### 3.4.2. 세트 연산 및 메소드\n",
    "#### 3.4.2.1. 세트 연산\n",
    "+ 세트 전개 연산자 `*` : 세트의 개별 원소를 분리하여 다른 세트로 전개 - (예) {*세트}"
   ]
  },
  {
   "cell_type": "code",
   "execution_count": 6,
   "id": "7a2e8f87-35f1-48a3-93b9-ccdcf40408fb",
   "metadata": {},
   "outputs": [
    {
     "name": "stdout",
     "output_type": "stream",
     "text": [
      "{1, 2, 3, 4}\n",
      "[11, 12, 1, 2, 3, 4, 20]\n"
     ]
    }
   ],
   "source": [
    "# 세트 전개\n",
    "st = {1, 2, 3, 1, 1, 4}\n",
    "print({*st, *st})\n",
    "print([11, 12, *st, 20])"
   ]
  },
  {
   "cell_type": "markdown",
   "id": "35a81d11-4acd-4bd6-a678-0c3a45688d90",
   "metadata": {},
   "source": [
    "<br>\n",
    "\n",
    "#### 3.4.2.2. 세트 집합 연산 및 메소드\n",
    "\n",
    "|연산|연산자|함수|\n",
    "|:---:|:---:|:------------:|\n",
    "|합집합|\\||union()|\n",
    "|교집합|&|intersection()|\n",
    "|차집합|-|difference()|\n",
    "|대칭차집합|^|symmetric_difference()|\n",
    "|부분집합 여부|<=|issubset()|\n",
    "\n",
    "<br>\n",
    "\n",
    "![](./images/fig3-2.png){width=60%}\n",
    "\n"
   ]
  },
  {
   "cell_type": "code",
   "execution_count": 7,
   "id": "893893ab-4e3b-4d2f-ae3e-75bf27445951",
   "metadata": {},
   "outputs": [
    {
     "name": "stdout",
     "output_type": "stream",
     "text": [
      "{1, 2, 3, 4, 5}\n",
      "{3}\n",
      "{1, 2}\n",
      "{1, 2, 4, 5}\n",
      "False\n"
     ]
    }
   ],
   "source": [
    "# 세트 연산1\n",
    "A = {1, 2, 3}\n",
    "B = {3, 4, 5}\n",
    "\n",
    "print(A | B)                               # 합집합\n",
    "print(A & B)                               # 교집합\n",
    "print(A - B)                               # 차집합\n",
    "print(A ^ B)                               # 대칭차집합\n",
    "print(A <= B)                              # 부분집합 여부"
   ]
  },
  {
   "cell_type": "code",
   "execution_count": 8,
   "id": "e0c8d66f-3c53-4187-b93e-28d8fa542eb2",
   "metadata": {},
   "outputs": [
    {
     "name": "stdout",
     "output_type": "stream",
     "text": [
      "{1, 2, 3, 4, 5}\n",
      "{3}\n",
      "{1, 2}\n",
      "{1, 2, 4, 5}\n",
      "False\n"
     ]
    }
   ],
   "source": [
    "# 세트 연산2\n",
    "A = {1, 2, 3}\n",
    "B = {3, 4, 5}\n",
    "\n",
    "print(A.union(B))\n",
    "print(A.intersection(B))\n",
    "print(A.difference(B))\n",
    "print(A.symmetric_difference(B))\n",
    "print(A.issubset(B))"
   ]
  },
  {
   "cell_type": "code",
   "execution_count": 9,
   "id": "02df9a2a-3c75-4596-aa44-b8a7d2b81362",
   "metadata": {},
   "outputs": [
    {
     "name": "stdout",
     "output_type": "stream",
     "text": [
      "{1, 2, 3, 4, 5, 6, 7}\n",
      "set()\n",
      "{1, 2, 3, 4, 5, 6, 7}\n",
      "set()\n"
     ]
    }
   ],
   "source": [
    "# 세트 연산3 : 여러 개의 세트를 연쇄적으로 한 번에 연산 가능\n",
    "A = {1, 2, 3}\n",
    "B = {3, 4, 5}\n",
    "C = {5, 6, 7}\n",
    "\n",
    "# 연산자 사용\n",
    "print(A | B | C)\n",
    "print(A & B & C)\n",
    "\n",
    "# 메소드 사용\n",
    "print(A.union(B, C))\n",
    "print(A.intersection(B, C))"
   ]
  },
  {
   "cell_type": "markdown",
   "id": "47c0a27a-6f56-4206-81b3-01fadf0b9442",
   "metadata": {},
   "source": [
    "<br>\n",
    "\n",
    "#### 3.4.2.3. 세트 추가/삭제/검색\n",
    "\n",
    "|함수|설명|\n",
    "|:---:|:------------|\n",
    "|add()|- 새로운 값을 세트에 추가|\n",
    "|update()|- 여러 개 값을 세트에 추가|\n",
    "|pop()|- 임의의 값을 삭제하고 그 값을 반환 <br>- 어떤 값을 삭제할지 예측 불가능|\n",
    "|remove()|- 세트에서 일치하는 값을 삭제 <br>- 일치하는 값이 없으면 오류가 발생함|\n",
    "|discard()|- 세트에서 일치하는 값을 삭제 <br>- 일치하는 값이 없어도 오류가 발생하지 않음|\n",
    "|clear()|- 세트의 모든 원소를 삭제|\n",
    "|in 연산자|세트 내부에 특정 값이 있다면 True, 없다면 False를 반환|"
   ]
  },
  {
   "cell_type": "code",
   "execution_count": 10,
   "id": "ae59e649-7545-4e55-a93c-89d50d2a41f1",
   "metadata": {},
   "outputs": [
    {
     "name": "stdout",
     "output_type": "stream",
     "text": [
      "{1, 2, 3, 6}\n"
     ]
    }
   ],
   "source": [
    "# 세트에 한 개의 원소 추가\n",
    "st = {1, 2, 3}\n",
    "st.add(6)                                  # 실행 결과로 아무것도 출력하지 않음\n",
    "print(st)                                  # st 원본 값이 변함"
   ]
  },
  {
   "cell_type": "code",
   "execution_count": 11,
   "id": "d3596261-deef-4451-ad4e-bfcb671b1e51",
   "metadata": {},
   "outputs": [
    {
     "name": "stdout",
     "output_type": "stream",
     "text": [
      "{1, 2, 3, 6}\n",
      "{1, 2, 3, 6, 7}\n",
      "{1, 2, 3, 6, 7, 8, 9}\n"
     ]
    }
   ],
   "source": [
    "# 세트에 여러 개의 원소 추가\n",
    "st = {1, 2, 3}\n",
    "st.update([1, 2, 6])                       # 리스트 사용\n",
    "print(st)\n",
    "\n",
    "st.update((1, 7))                          # 튜플 사용\n",
    "print(st)\n",
    "\n",
    "st.update({8, 9})                          # 세트 사용\n",
    "print(st)"
   ]
  },
  {
   "cell_type": "code",
   "execution_count": 12,
   "id": "8d837258-0d9c-480f-8967-707aa369c321",
   "metadata": {},
   "outputs": [
    {
     "name": "stdout",
     "output_type": "stream",
     "text": [
      "{2, 3}\n",
      "1\n"
     ]
    }
   ],
   "source": [
    "# 임의의 원소 삭제\n",
    "st = {1, 2, 3}\n",
    "result = st.pop()                          # 임의의 원소를 삭제 후 반환\n",
    "print(st)                                  # st 원본 값이 변함\n",
    "print(result)"
   ]
  },
  {
   "cell_type": "code",
   "execution_count": 13,
   "id": "a3029c9d-1b1e-4d2b-868b-d6cc5be54e1c",
   "metadata": {},
   "outputs": [
    {
     "name": "stdout",
     "output_type": "stream",
     "text": [
      "{1, 2}\n"
     ]
    }
   ],
   "source": [
    "# 일치하는 값 삭제1\n",
    "st = {1, 2, 3}\n",
    "st.remove(3)\n",
    "print(st)"
   ]
  },
  {
   "cell_type": "code",
   "execution_count": 14,
   "id": "1b8f9480-6caf-4816-96e8-bda5459d5509",
   "metadata": {},
   "outputs": [],
   "source": [
    "# 일치하는 값 삭제2 : remove() 함수는 일치하는 값이 없으면 오류가 발생함\n",
    "#st = {1, 2, 3}\n",
    "#st.remove(4)\n",
    "#print(st)"
   ]
  },
  {
   "cell_type": "code",
   "execution_count": 15,
   "id": "a67af9ec-3a13-4253-8e31-0dba80951c80",
   "metadata": {},
   "outputs": [
    {
     "name": "stdout",
     "output_type": "stream",
     "text": [
      "{1, 2}\n"
     ]
    }
   ],
   "source": [
    "# 일치하는 값 삭제3\n",
    "st = {1, 2, 3}\n",
    "st.discard(3)\n",
    "print(st)"
   ]
  },
  {
   "cell_type": "code",
   "execution_count": 16,
   "id": "8480993f-2d85-461c-b515-00c10637344e",
   "metadata": {},
   "outputs": [
    {
     "name": "stdout",
     "output_type": "stream",
     "text": [
      "{1, 2, 3}\n"
     ]
    }
   ],
   "source": [
    "# 일치하는 값 삭제4 : discard() 함수는 일치하는 값이 없어도 오류가 발생하지 않음\n",
    "st = {1, 2, 3}\n",
    "st.discard(4)\n",
    "print(st)"
   ]
  },
  {
   "cell_type": "code",
   "execution_count": 17,
   "id": "ff250c2c-5b4b-4d43-a06c-f199c6697172",
   "metadata": {},
   "outputs": [
    {
     "name": "stdout",
     "output_type": "stream",
     "text": [
      "set()\n"
     ]
    }
   ],
   "source": [
    "# 세트 모든 원소 삭제\n",
    "st = {1, 2, 3}\n",
    "st.clear()\n",
    "print(st)"
   ]
  },
  {
   "cell_type": "code",
   "execution_count": 18,
   "id": "c9cd7ce3-fbba-4a42-adf1-6405b667e553",
   "metadata": {},
   "outputs": [
    {
     "name": "stdout",
     "output_type": "stream",
     "text": [
      "True\n",
      "False\n"
     ]
    }
   ],
   "source": [
    "# 특정값 찾기\n",
    "st = {1, 2, 3}\n",
    "print(3 in st)\n",
    "print(6 in st)"
   ]
  },
  {
   "cell_type": "markdown",
   "id": "822cbe9a-748d-4875-a7b3-939adb18bbaf",
   "metadata": {},
   "source": [
    "<br>\n",
    "\n",
    "### 3.4.3. 세트 컴프리헨션\n",
    "\n",
    "> {식 for 변수 in 반복범위 if 조건식}\n",
    "\n",
    "\n",
    "+ 리스트 컴프리헨션과 문법이 동일함\n",
    "+ 자동으로 중복이 제거되므로 빠르고 편리함"
   ]
  },
  {
   "cell_type": "code",
   "execution_count": 19,
   "id": "d3551957-f6cf-49d7-bce2-7dad312b1dae",
   "metadata": {},
   "outputs": [
    {
     "name": "stdout",
     "output_type": "stream",
     "text": [
      "set()\n"
     ]
    }
   ],
   "source": [
    "# 이메일 리스트에서 '@'가 포함된 유효한 이메일 주소만 추출\n",
    "emails = [\"user1@gmail.com\", \"user2\", \"test@yahoo.com\", \"invalid_email\", \"hello@naver.com\"]\n",
    "valid_emails = {e for e in emails if \"@\" in emails}\n",
    "print(valid_emails)"
   ]
  },
  {
   "cell_type": "code",
   "execution_count": 20,
   "id": "f2c6dad0-50f7-446c-8fdb-1e7f7e19350d",
   "metadata": {},
   "outputs": [
    {
     "name": "stdout",
     "output_type": "stream",
     "text": [
      "{'y', 'o', 'p', 'h', 'z', 'g', 'i', 'n', 's', 't', 'a', 'm'}\n"
     ]
    }
   ],
   "source": [
    "# 문장에서 알파벳 문자만 추출 (중복 제거)\n",
    "sentence = \"Python is amazing! 123\"\n",
    "unique_chars = {char.lower() for char in sentence if char.isalpha()}\n",
    "print(unique_chars)"
   ]
  },
  {
   "cell_type": "code",
   "execution_count": 21,
   "id": "98ff7502-42a8-44c6-97b1-1b81ad23213a",
   "metadata": {},
   "outputs": [
    {
     "name": "stdout",
     "output_type": "stream",
     "text": [
      "{64, 100, 4, 36, 16}\n"
     ]
    }
   ],
   "source": [
    "# 주어진 숫자 리스트에서 짝수의 제곱을 저장하는 세트\n",
    "numbers = [1, 2, 3, 4, 5, 6, 7, 8, 9, 10]\n",
    "even_squares = {n**2 for n in numbers if n % 2 == 0}\n",
    "print(even_squares) "
   ]
  },
  {
   "cell_type": "code",
   "execution_count": 22,
   "id": "5bc7dd25-722e-4fb1-8581-cb70b2638440",
   "metadata": {},
   "outputs": [
    {
     "name": "stdout",
     "output_type": "stream",
     "text": [
      "{'openai.com', 'google.com', 'example.com'}\n"
     ]
    }
   ],
   "source": [
    "# 웹사이트 방문 기록에서 도메인만 추출 (중복 제거)\n",
    "urls = [\"https://google.com\", \"http://example.com\", \"https://google.com\", \"https://openai.com\"]\n",
    "domains = {url.split(\"//\")[1] for url in urls}\n",
    "print(domains)"
   ]
  },
  {
   "cell_type": "code",
   "execution_count": 23,
   "id": "e8f863a3-bf7c-45ac-8cfc-c943cc0ea400",
   "metadata": {},
   "outputs": [
    {
     "name": "stdout",
     "output_type": "stream",
     "text": [
      "{'durian', 'banana'}\n"
     ]
    }
   ],
   "source": [
    "# 두 개의 리스트에서 공통된 단어만 저장 (중복 없이)\n",
    "words1 = [\"apple\", \"banana\", \"cherry\", \"durian\"]\n",
    "words2 = [\"banana\", \"durian\", \"fig\", \"grape\"]\n",
    "common_words = {word for word in words1 if word in words2}\n",
    "print(common_words)  "
   ]
  }
 ],
 "metadata": {
  "kernelspec": {
   "display_name": "Python 3 (ipykernel)",
   "language": "python",
   "name": "python3"
  },
  "language_info": {
   "codemirror_mode": {
    "name": "ipython",
    "version": 3
   },
   "file_extension": ".py",
   "mimetype": "text/x-python",
   "name": "python",
   "nbconvert_exporter": "python",
   "pygments_lexer": "ipython3",
   "version": "3.9.21"
  }
 },
 "nbformat": 4,
 "nbformat_minor": 5
}
